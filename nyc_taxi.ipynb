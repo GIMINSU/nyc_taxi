{
 "cells": [
  {
   "cell_type": "markdown",
   "metadata": {},
   "source": [
    "### 1. Data Import and Base Variable 확인\n",
    "#### 1) Data Import and DataFrame\n",
    "* 데이터 분석을 위해, dataframe을 생성하는 가장 일반적인 방법\n",
    "    * notebook 파일을 생성한 폴더에 분석하고자 하는 data파일을(e.g. csv) 옮겨둔다.\n",
    "    * data를 notebook으로 import.\n",
    "    * pandas 명령어로 data를 dataframe으로 생성.\n",
    "    * *tip : github는 push 할 수 있는 파일 1개 최대 용량이 100mb이므로 csv파일을 push할 경우 error발생  \n",
    "github에 csv은 push 못하므로, csv 파일은 add 하지말고 ipynb(주피터노트북파일 확장자) 파일만 add *\n",
    "***\n",
    "* 바로 dataframe을 만들지 않는 이유\n",
    "    * df을 여러 종류 만들 가능성(dfx,dfy 등)이 있기 때문에 이를 구분하기 위함  \n",
    "    * 또한 사용된 dataframe이 어떤 주제 및 소재인지를 표시\n",
    "     ***\n",
    "    * data를 dataframe으로 직접 생성  \n",
    "    df = pd.read_csv('train.csv')  \n",
    "    ***\n",
    "    * data와 dataframe을 각각 생성  \n",
    "    아래에서 사용되는 df은 taxi와 관련된 data로 만들어진 dataframe이다.  \n",
    "    *taxi를 dataframe의 name으로는 못 씀.   이미 data를 taxi로 정의함  \n",
    "    하나의 이름을 data로 쓰는 경우와 dataframe으로 쓰는 경우를 명확하게 구분하기 위함*  \n",
    "    taxi = 'train.csv'  \n",
    "    df = pd.read_csv(taxi)\n",
    "    ***"
   ]
  },
  {
   "cell_type": "code",
   "execution_count": 1,
   "metadata": {
    "collapsed": true
   },
   "outputs": [],
   "source": [
    "import numpy as np # linear algebra\n",
    "import pandas as pd # data processing, CSV file I/O (e.g. pd.read_csv)"
   ]
  },
  {
   "cell_type": "code",
   "execution_count": 2,
   "metadata": {
    "collapsed": true
   },
   "outputs": [],
   "source": [
    "taxi = 'train.csv' # data import\n",
    "df = pd.read_csv(taxi) # dataframe 생성"
   ]
  },
  {
   "cell_type": "markdown",
   "metadata": {},
   "source": [
    "#### 2) DataFrame 구조 및 변수정보\n",
    "##### (1) data 및 dataframe\n",
    " - shape           : row, column 개수 확인\n",
    " - head(), tail()  : 데이터 확인\n",
    " - describe()      : 각 column별 간략한 통계정보 \n",
    " - info()          : 각 column별 타입 정보\n",
    " \n",
    "##### (2) 변수정보\n",
    " * id : 식별자 for each trip\n",
    " * vendor_id : 공급자 코드(a code indicating the provider associated with the trip record)\n",
    " * pickup_datetime : 탑승 날짜 및 시각(date and time when the meter was engaged)\n",
    " * dropoff_datetime : 하차 날짜 및 시각(date and time when the meter was disengaged)\n",
    " * passengers in the vehicle : 승객수(driver entered value)\n",
    " * pickup_longitude : 탑승 경도(the longitude where the meter was engaged)\n",
    " * pickup_latitude : 탑승 위도(the latitude where the meter was engaged)\n",
    " * dropoff_longitude : 하차 경도(the longitude where the meter was disengaged)\n",
    " * dropoff_latitude : 하차 위도(the latitude where the meter was disengaged)\n",
    " * store_and_fwd_flag : 차량메모리 보관여부(this flage indicates whether the trip record was held in vehicle memory before sending to the vendor because the vehicle did not have a connection to the server. Y = store and forward, N = not a store and forward trip)\n",
    " * trip_duration : duration of the trip in seconds"
   ]
  },
  {
   "cell_type": "code",
   "execution_count": 3,
   "metadata": {},
   "outputs": [
    {
     "data": {
      "text/plain": [
       "(701778, 11)"
      ]
     },
     "execution_count": 3,
     "metadata": {},
     "output_type": "execute_result"
    }
   ],
   "source": [
    "df.shape # observation 및 column(변수) 갯수 확인"
   ]
  },
  {
   "cell_type": "code",
   "execution_count": 4,
   "metadata": {
    "scrolled": true
   },
   "outputs": [
    {
     "data": {
      "text/html": [
       "<div>\n",
       "<style>\n",
       "    .dataframe thead tr:only-child th {\n",
       "        text-align: right;\n",
       "    }\n",
       "\n",
       "    .dataframe thead th {\n",
       "        text-align: left;\n",
       "    }\n",
       "\n",
       "    .dataframe tbody tr th {\n",
       "        vertical-align: top;\n",
       "    }\n",
       "</style>\n",
       "<table border=\"1\" class=\"dataframe\">\n",
       "  <thead>\n",
       "    <tr style=\"text-align: right;\">\n",
       "      <th></th>\n",
       "      <th>id</th>\n",
       "      <th>vendor_id</th>\n",
       "      <th>pickup_datetime</th>\n",
       "      <th>dropoff_datetime</th>\n",
       "      <th>passenger_count</th>\n",
       "      <th>pickup_longitude</th>\n",
       "      <th>pickup_latitude</th>\n",
       "      <th>dropoff_longitude</th>\n",
       "      <th>dropoff_latitude</th>\n",
       "      <th>store_and_fwd_flag</th>\n",
       "      <th>trip_duration</th>\n",
       "    </tr>\n",
       "  </thead>\n",
       "  <tbody>\n",
       "    <tr>\n",
       "      <th>0</th>\n",
       "      <td>id3495688</td>\n",
       "      <td>1</td>\n",
       "      <td>4/30/16 23:59</td>\n",
       "      <td>5/1/16 0:24</td>\n",
       "      <td>1</td>\n",
       "      <td>-73.987793</td>\n",
       "      <td>40.724792</td>\n",
       "      <td>-73.975616</td>\n",
       "      <td>40.656445</td>\n",
       "      <td>N</td>\n",
       "      <td>1454</td>\n",
       "    </tr>\n",
       "    <tr>\n",
       "      <th>1</th>\n",
       "      <td>id3051282</td>\n",
       "      <td>1</td>\n",
       "      <td>4/30/16 23:59</td>\n",
       "      <td>5/1/16 0:22</td>\n",
       "      <td>1</td>\n",
       "      <td>-73.957596</td>\n",
       "      <td>40.717770</td>\n",
       "      <td>-73.951424</td>\n",
       "      <td>40.775230</td>\n",
       "      <td>N</td>\n",
       "      <td>1409</td>\n",
       "    </tr>\n",
       "    <tr>\n",
       "      <th>2</th>\n",
       "      <td>id0082851</td>\n",
       "      <td>1</td>\n",
       "      <td>4/30/16 23:59</td>\n",
       "      <td>5/1/16 0:17</td>\n",
       "      <td>2</td>\n",
       "      <td>-74.000954</td>\n",
       "      <td>40.742031</td>\n",
       "      <td>-73.947708</td>\n",
       "      <td>40.782200</td>\n",
       "      <td>N</td>\n",
       "      <td>1081</td>\n",
       "    </tr>\n",
       "    <tr>\n",
       "      <th>3</th>\n",
       "      <td>id0515725</td>\n",
       "      <td>2</td>\n",
       "      <td>4/30/16 23:58</td>\n",
       "      <td>5/1/16 0:12</td>\n",
       "      <td>1</td>\n",
       "      <td>-73.985733</td>\n",
       "      <td>40.738258</td>\n",
       "      <td>-73.993179</td>\n",
       "      <td>40.754890</td>\n",
       "      <td>N</td>\n",
       "      <td>800</td>\n",
       "    </tr>\n",
       "    <tr>\n",
       "      <th>4</th>\n",
       "      <td>id1872374</td>\n",
       "      <td>2</td>\n",
       "      <td>4/30/16 23:58</td>\n",
       "      <td>5/1/16 0:17</td>\n",
       "      <td>1</td>\n",
       "      <td>-74.006615</td>\n",
       "      <td>40.740650</td>\n",
       "      <td>-73.985619</td>\n",
       "      <td>40.723362</td>\n",
       "      <td>N</td>\n",
       "      <td>1151</td>\n",
       "    </tr>\n",
       "  </tbody>\n",
       "</table>\n",
       "</div>"
      ],
      "text/plain": [
       "          id  vendor_id pickup_datetime dropoff_datetime  passenger_count  \\\n",
       "0  id3495688          1   4/30/16 23:59      5/1/16 0:24                1   \n",
       "1  id3051282          1   4/30/16 23:59      5/1/16 0:22                1   \n",
       "2  id0082851          1   4/30/16 23:59      5/1/16 0:17                2   \n",
       "3  id0515725          2   4/30/16 23:58      5/1/16 0:12                1   \n",
       "4  id1872374          2   4/30/16 23:58      5/1/16 0:17                1   \n",
       "\n",
       "   pickup_longitude  pickup_latitude  dropoff_longitude  dropoff_latitude  \\\n",
       "0        -73.987793        40.724792         -73.975616         40.656445   \n",
       "1        -73.957596        40.717770         -73.951424         40.775230   \n",
       "2        -74.000954        40.742031         -73.947708         40.782200   \n",
       "3        -73.985733        40.738258         -73.993179         40.754890   \n",
       "4        -74.006615        40.740650         -73.985619         40.723362   \n",
       "\n",
       "  store_and_fwd_flag  trip_duration  \n",
       "0                  N           1454  \n",
       "1                  N           1409  \n",
       "2                  N           1081  \n",
       "3                  N            800  \n",
       "4                  N           1151  "
      ]
     },
     "execution_count": 4,
     "metadata": {},
     "output_type": "execute_result"
    }
   ],
   "source": [
    "df.head() # data확인(head() 위 5개, tail() 아래 5개)"
   ]
  },
  {
   "cell_type": "code",
   "execution_count": 8,
   "metadata": {},
   "outputs": [
    {
     "data": {
      "text/html": [
       "<div>\n",
       "<style>\n",
       "    .dataframe thead tr:only-child th {\n",
       "        text-align: right;\n",
       "    }\n",
       "\n",
       "    .dataframe thead th {\n",
       "        text-align: left;\n",
       "    }\n",
       "\n",
       "    .dataframe tbody tr th {\n",
       "        vertical-align: top;\n",
       "    }\n",
       "</style>\n",
       "<table border=\"1\" class=\"dataframe\">\n",
       "  <thead>\n",
       "    <tr style=\"text-align: right;\">\n",
       "      <th></th>\n",
       "      <th>vendor_id</th>\n",
       "      <th>passenger_count</th>\n",
       "      <th>pickup_longitude</th>\n",
       "      <th>pickup_latitude</th>\n",
       "      <th>dropoff_longitude</th>\n",
       "      <th>dropoff_latitude</th>\n",
       "      <th>trip_duration</th>\n",
       "    </tr>\n",
       "  </thead>\n",
       "  <tbody>\n",
       "    <tr>\n",
       "      <th>count</th>\n",
       "      <td>701778.000000</td>\n",
       "      <td>701778.000000</td>\n",
       "      <td>701778.000000</td>\n",
       "      <td>701778.000000</td>\n",
       "      <td>701778.000000</td>\n",
       "      <td>701778.000000</td>\n",
       "      <td>7.017780e+05</td>\n",
       "    </tr>\n",
       "    <tr>\n",
       "      <th>mean</th>\n",
       "      <td>1.536037</td>\n",
       "      <td>1.666577</td>\n",
       "      <td>-73.973665</td>\n",
       "      <td>40.750969</td>\n",
       "      <td>-73.973583</td>\n",
       "      <td>40.751836</td>\n",
       "      <td>9.387318e+02</td>\n",
       "    </tr>\n",
       "    <tr>\n",
       "      <th>std</th>\n",
       "      <td>0.498700</td>\n",
       "      <td>1.319466</td>\n",
       "      <td>0.043910</td>\n",
       "      <td>0.033139</td>\n",
       "      <td>0.044214</td>\n",
       "      <td>0.037572</td>\n",
       "      <td>6.772504e+03</td>\n",
       "    </tr>\n",
       "    <tr>\n",
       "      <th>min</th>\n",
       "      <td>1.000000</td>\n",
       "      <td>0.000000</td>\n",
       "      <td>-78.547401</td>\n",
       "      <td>34.359695</td>\n",
       "      <td>-79.817978</td>\n",
       "      <td>32.181141</td>\n",
       "      <td>1.000000e+00</td>\n",
       "    </tr>\n",
       "    <tr>\n",
       "      <th>25%</th>\n",
       "      <td>1.000000</td>\n",
       "      <td>1.000000</td>\n",
       "      <td>-73.991829</td>\n",
       "      <td>40.737400</td>\n",
       "      <td>-73.991325</td>\n",
       "      <td>40.735959</td>\n",
       "      <td>3.900000e+02</td>\n",
       "    </tr>\n",
       "    <tr>\n",
       "      <th>50%</th>\n",
       "      <td>2.000000</td>\n",
       "      <td>1.000000</td>\n",
       "      <td>-73.981789</td>\n",
       "      <td>40.754150</td>\n",
       "      <td>-73.979828</td>\n",
       "      <td>40.754478</td>\n",
       "      <td>6.480000e+02</td>\n",
       "    </tr>\n",
       "    <tr>\n",
       "      <th>75%</th>\n",
       "      <td>2.000000</td>\n",
       "      <td>2.000000</td>\n",
       "      <td>-73.967567</td>\n",
       "      <td>40.768246</td>\n",
       "      <td>-73.963249</td>\n",
       "      <td>40.769691</td>\n",
       "      <td>1.047000e+03</td>\n",
       "    </tr>\n",
       "    <tr>\n",
       "      <th>max</th>\n",
       "      <td>2.000000</td>\n",
       "      <td>8.000000</td>\n",
       "      <td>-61.335529</td>\n",
       "      <td>43.486885</td>\n",
       "      <td>-61.335529</td>\n",
       "      <td>43.674000</td>\n",
       "      <td>3.526282e+06</td>\n",
       "    </tr>\n",
       "  </tbody>\n",
       "</table>\n",
       "</div>"
      ],
      "text/plain": [
       "           vendor_id  passenger_count  pickup_longitude  pickup_latitude  \\\n",
       "count  701778.000000    701778.000000     701778.000000    701778.000000   \n",
       "mean        1.536037         1.666577        -73.973665        40.750969   \n",
       "std         0.498700         1.319466          0.043910         0.033139   \n",
       "min         1.000000         0.000000        -78.547401        34.359695   \n",
       "25%         1.000000         1.000000        -73.991829        40.737400   \n",
       "50%         2.000000         1.000000        -73.981789        40.754150   \n",
       "75%         2.000000         2.000000        -73.967567        40.768246   \n",
       "max         2.000000         8.000000        -61.335529        43.486885   \n",
       "\n",
       "       dropoff_longitude  dropoff_latitude  trip_duration  \n",
       "count      701778.000000     701778.000000   7.017780e+05  \n",
       "mean          -73.973583         40.751836   9.387318e+02  \n",
       "std             0.044214          0.037572   6.772504e+03  \n",
       "min           -79.817978         32.181141   1.000000e+00  \n",
       "25%           -73.991325         40.735959   3.900000e+02  \n",
       "50%           -73.979828         40.754478   6.480000e+02  \n",
       "75%           -73.963249         40.769691   1.047000e+03  \n",
       "max           -61.335529         43.674000   3.526282e+06  "
      ]
     },
     "execution_count": 8,
     "metadata": {},
     "output_type": "execute_result"
    }
   ],
   "source": [
    "df.describe() # 변수별 기초통계량 확인(mean과 50%비교, real변수와 category변수 확인)"
   ]
  },
  {
   "cell_type": "code",
   "execution_count": 9,
   "metadata": {},
   "outputs": [
    {
     "name": "stdout",
     "output_type": "stream",
     "text": [
      "<class 'pandas.core.frame.DataFrame'>\n",
      "RangeIndex: 701778 entries, 0 to 701777\n",
      "Data columns (total 11 columns):\n",
      "id                    701778 non-null object\n",
      "vendor_id             701778 non-null int64\n",
      "pickup_datetime       701778 non-null object\n",
      "dropoff_datetime      701778 non-null object\n",
      "passenger_count       701778 non-null int64\n",
      "pickup_longitude      701778 non-null float64\n",
      "pickup_latitude       701778 non-null float64\n",
      "dropoff_longitude     701778 non-null float64\n",
      "dropoff_latitude      701778 non-null float64\n",
      "store_and_fwd_flag    701778 non-null object\n",
      "trip_duration         701778 non-null int64\n",
      "dtypes: float64(4), int64(3), object(4)\n",
      "memory usage: 58.9+ MB\n"
     ]
    }
   ],
   "source": [
    "df.info() # Variable Type 확인"
   ]
  },
  {
   "cell_type": "markdown",
   "metadata": {},
   "source": [
    "### 2. Data Pre-Processing\n",
    "#### 1) Datatime Type Vriable Modify \n",
    "\n",
    "* **Datetime Type Conversion**\n",
    "    * pickup_datetime, dropoff_datetime은 type이 datetime이어야 시간변수로 활용할 수  \n",
    "    있으나, object(=string)임\n",
    "    * 시간변수로 활용하기 위해 type을 datetime으로 바꿔줘야 함\n",
    "    * pandas의 to_datetime을 활용해 type을 datetime으로 바꿔줄 수 있음\n",
    "    * datafrme의 변수타입을 변경하는 코드는 다음과 같음\n",
    "        * 방법 1  \n",
    "        taxi_df.pickup_datetime = pd.to_datetime(taxi_df.pickup_datetime)  \n",
    "        * 방법 2  \n",
    "        taxi_df['pickup_datetime'] = pd.to_datetime(taxi_df['pickup_datetime']) \n",
    "    * dataframe에서 새로운 변수를 생성할 경우 등호(=)의 오른쪽은 df.변수명, df['변수명']  \n",
    "    둘다 상관 없으나, 새로운 변수명(왼쪽)은 df['변수명']으로 적어야 생성됨  \n",
    "    새로운 변수명(왼쪽)을 df.변수명으로 적을 경우 kernel이 작동하지만 실제로 생성은 안됨"
   ]
  },
  {
   "cell_type": "code",
   "execution_count": null,
   "metadata": {
    "collapsed": true
   },
   "outputs": [],
   "source": [
    "df.pickup_datetime.dtype # 시간변수 type 확인"
   ]
  },
  {
   "cell_type": "code",
   "execution_count": 5,
   "metadata": {},
   "outputs": [
    {
     "data": {
      "text/plain": [
       "(70178, 11)"
      ]
     },
     "execution_count": 5,
     "metadata": {},
     "output_type": "execute_result"
    }
   ],
   "source": [
    "# 컴퓨터가 느릴 경우 여기서 샘플링\n",
    "df = df.sample(frac = 0.1, replace = False, random_state = 0) # sampling\n",
    "df.shape # sampling됐는지 확인"
   ]
  },
  {
   "cell_type": "markdown",
   "metadata": {},
   "source": [
    "#### 2) Use the Pandas.Datetimeindex module\n",
    "* dataframe_name.datetime_variable_name.dt.**option**  \n",
    "**option**(year, month, day, hour, dayofyear, dayofweek 등)은 [참고링크](https://pandas.pydata.org/pandas-docs/stable/api.html#datetimeindex)에서 확인  \n",
    "    * (e.g.)dayofweek = The day of the week with Monday=0, Sunday=6\n",
    "\n",
    "***\n",
    "* 특정 변수 생성(datetime variable에서 연, 월, 일 각각 변수로 분리)  \n",
    "일 변수 : taxi_df['pickup_day'] = taxi_df.pickup_datetime.dt.day  \n",
    "* 단위 변환한 변수 생성(week 기준 몇번째 일이냐, 요일 변수 생성)  \n",
    "요일변수 : taxi_df['wday'] = taxi_df.pickup_datetime.dt.weekday"
   ]
  },
  {
   "cell_type": "code",
   "execution_count": 6,
   "metadata": {
    "collapsed": true
   },
   "outputs": [],
   "source": [
    "# 시간변수 type을 datetime type으로 변환(pandas datetimeIndex 이용)\n",
    "df.pickup_datetime = pd.to_datetime(df.pickup_datetime)\n",
    "df.dropoff_datetime = pd.to_datetime(df.dropoff_datetime)"
   ]
  },
  {
   "cell_type": "code",
   "execution_count": 7,
   "metadata": {
    "collapsed": true
   },
   "outputs": [],
   "source": [
    "# 탄 시간, 일, 월, 연도를 카테고리 타입의 변수로 생성\n",
    "df['pickup_hour'] = df.pickup_datetime.dt.hour.astype('category')\n",
    "df['pickup_day'] = df.pickup_datetime.dt.day.astype('category')\n",
    "df['pickup_month'] = df.pickup_datetime.dt.month.astype('category')\n",
    "df['pickup_year'] = df.pickup_datetime.dt.year.astype('category')"
   ]
  },
  {
   "cell_type": "code",
   "execution_count": 8,
   "metadata": {
    "collapsed": true
   },
   "outputs": [],
   "source": [
    "# 연도, 주 기준 변수 생성\n",
    "df['yday'] = df.pickup_datetime.dt.dayofyear.astype('category')\n",
    "df['wday'] = df.pickup_datetime.dt.dayofweek.astype('category')\n",
    "df['nwday'] = df.pickup_datetime.dt.weekday_name.astype('category')"
   ]
  },
  {
   "cell_type": "code",
   "execution_count": 9,
   "metadata": {
    "collapsed": true
   },
   "outputs": [],
   "source": [
    "df.vendor_id = df.vendor_id.astype('category') # vendor_id type category"
   ]
  },
  {
   "cell_type": "code",
   "execution_count": null,
   "metadata": {
    "collapsed": true
   },
   "outputs": [],
   "source": [
    "# 참고 skip\n",
    "# pickup - dropoff의 계산을 통해 trip_duration 검증 및 pickup, dropoff, trip_duration 변수 관계 확인\n",
    "#df.trip_duration_c = df.dropoff_datetime - df.pickup_datetime\n",
    "\n",
    "# trip_duration_c는 day단위로 산출됨.\n",
    "#df.trip_duration_c = df.trip_duration_c.dt.total_seconds() # second로 단위 변환"
   ]
  },
  {
   "cell_type": "markdown",
   "metadata": {},
   "source": [
    "#### 3) Create Category Variable\n",
    "* pickup_month가 1월 ~ 4월까지 밖에 없음(kaggledata는 6월까지)\n",
    "* 1, 2, 3월은 겨울의 계절성을 반영하고, 4, 5, 6월은 봄 ~ 초여름의 계절성을 반영한다고 가정함.\n",
    "    * 사람들이 기후조건이 가혹할수록 더 택시를 오래 타고 있는다고 가정(날이 추우면 최대한 목적지에 가까운 장소까지 택시를 타고 간다.)\n",
    "    * 이 가정을 반영하기 위해서는 뉴욕의 날씨를 확인해서 비오는 날과 맑은 날, 날짜별 온도를 변수화해서 반영하는 것이 보다 정확할 것으로 생각함 \n",
    "        * 변수 2개 생성(날짜별로 비 or 눈이 왔다 0 나머지 1, 기온이 00도 이상 or 00도 이하 0, 나머지 1)해서 pickup_datetime으로 merge.\n",
    "    * 가장 rough하게 변수를 생성해서 모형을 실행한 다음 이 변수가 유의미할 경우 더 세밀하게 변수를 조정하는 것이 나을 듯함\n",
    "    \n",
    "    \n",
    "* 계절성을 반영한 분기별 카테고리 변수(pickup_month_c) 생성 1, 2, 3월은 0, 4, 5, 6월은 1의 값을 가짐."
   ]
  },
  {
   "cell_type": "code",
   "execution_count": 10,
   "metadata": {
    "collapsed": true
   },
   "outputs": [],
   "source": [
    "# 1, 2, 3월은 0, 4, 5, 6월은 1) \n",
    "df['pickup_month_c'] = df.pickup_month.replace([1, 2], '0')\n",
    "df['pickup_month_c'] = df.pickup_month_c.replace([3, 4], '1')\n",
    "\n",
    "df.pickup_month_c = df.pickup_month_c.astype('category')# type 변경(to category) 및 type 확인"
   ]
  },
  {
   "cell_type": "code",
   "execution_count": 11,
   "metadata": {
    "collapsed": true
   },
   "outputs": [],
   "source": [
    "# 월~금요일은 0, 토~일요일은 1\n",
    "df['wday_c'] = df.pickup_month.replace([0, 1, 2, 3, 4], '0')\n",
    "df['wday_c'] = df.pickup_month_c.replace([5, 6], '1')\n",
    "\n",
    "df.wday_c = df.wday_c.astype('category')# type 변경(to category) 및 type 확인"
   ]
  },
  {
   "cell_type": "code",
   "execution_count": 12,
   "metadata": {
    "collapsed": true
   },
   "outputs": [],
   "source": [
    "# 일상, 여행으로 trip종류 구분(trip_duration이 60000(16시간)이상인 경우 여행)\n",
    "\n",
    "def alert(df):\n",
    "    if df['trip_duration'] <= 60000:\n",
    "        return '0'\n",
    "    elif df['trip_duration'] > 60000:\n",
    "        return '1'\n",
    "    \n",
    "df['trip_c'] = df.apply(alert, axis = 1)\n",
    "df.trip_c = df.trip_c.astype('category') # trip_c type category"
   ]
  },
  {
   "cell_type": "code",
   "execution_count": 13,
   "metadata": {
    "collapsed": true
   },
   "outputs": [],
   "source": [
    "# 그래프 패키지 import\n",
    "import matplotlib.pyplot as plt\n",
    "import seaborn as sns\n",
    "sns.set()\n",
    "sns.set_color_codes()"
   ]
  },
  {
   "cell_type": "code",
   "execution_count": 14,
   "metadata": {
    "scrolled": true
   },
   "outputs": [
    {
     "data": {
      "image/png": "[encoded data removed]",
      "text/plain": [
       "<matplotlib.figure.Figure at 0x1d45faa0d30>"
      ]
     },
     "metadata": {},
     "output_type": "display_data"
    }
   ],
   "source": [
    "plt.scatter(df.vendor_id, df.trip_duration)\n",
    "plt.xlabel(\"vendor_id\")\n",
    "plt.ylabel(\"trip_duration\")\n",
    "plt.show()"
   ]
  },
  {
   "cell_type": "code",
   "execution_count": 15,
   "metadata": {
    "scrolled": false
   },
   "outputs": [
    {
     "name": "stderr",
     "output_type": "stream",
     "text": [
      "C:\\Users\\best0\\Anaconda3\\lib\\site-packages\\numpy\\core\\fromnumeric.py:57: FutureWarning: reshape is deprecated and will raise in a subsequent release. Please use .values.reshape(...) instead\n",
      "  return getattr(obj, method)(*args, **kwds)\n"
     ]
    },
    {
     "data": {
      "image/png": "[encoded data removed]",
      "text/plain": [
       "<matplotlib.figure.Figure at 0x1d4671f7710>"
      ]
     },
     "metadata": {},
     "output_type": "display_data"
    }
   ],
   "source": [
    "df.boxplot(\"trip_duration\", \"vendor_id\")\n",
    "plt.show()"
   ]
  },
  {
   "cell_type": "code",
   "execution_count": 16,
   "metadata": {},
   "outputs": [
    {
     "name": "stderr",
     "output_type": "stream",
     "text": [
      "C:\\Users\\best0\\Anaconda3\\lib\\site-packages\\numpy\\core\\fromnumeric.py:57: FutureWarning: reshape is deprecated and will raise in a subsequent release. Please use .values.reshape(...) instead\n",
      "  return getattr(obj, method)(*args, **kwds)\n"
     ]
    },
    {
     "data": {
      "image/png": "[encoded data removed]",
      "text/plain": [
       "<matplotlib.figure.Figure at 0x1d467236860>"
      ]
     },
     "metadata": {},
     "output_type": "display_data"
    }
   ],
   "source": [
    "df.boxplot(\"trip_duration\", \"vendor_id\")\n",
    "plt.ylim(-10, 2500)\n",
    "plt.show()"
   ]
  },
  {
   "cell_type": "markdown",
   "metadata": {},
   "source": [
    "* *참고 : boxplot 보는 방법*\n",
    "<img src=\"boxplot-1.png\">\n",
    "* *참고 : 그래프 저장 방법*  \n",
    "from pylab import figure, axes, pie, title, savefig #savefig추가  \n",
    "savefig('boxplot.png') # graph 이미지 저장"
   ]
  },
  {
   "cell_type": "markdown",
   "metadata": {},
   "source": [
    "* *Sampling  (위에서 했으니까 skip)*\n",
    "    * 분석하거나 그래프 그릴 때 모든 데이터를 사용할 경우 수행시간이 너무 길어짐  \n",
    "이에 sample 사용"
   ]
  },
  {
   "cell_type": "code",
   "execution_count": 22,
   "metadata": {
    "collapsed": true
   },
   "outputs": [],
   "source": [
    "month_group = df.groupby('pickup_month') # original data 확인을 위해 grouping"
   ]
  },
  {
   "cell_type": "code",
   "execution_count": 23,
   "metadata": {
    "scrolled": true
   },
   "outputs": [
    {
     "data": {
      "text/html": [
       "<div>\n",
       "<style>\n",
       "    .dataframe thead tr:only-child th {\n",
       "        text-align: right;\n",
       "    }\n",
       "\n",
       "    .dataframe thead th {\n",
       "        text-align: left;\n",
       "    }\n",
       "\n",
       "    .dataframe tbody tr th {\n",
       "        vertical-align: top;\n",
       "    }\n",
       "</style>\n",
       "<table border=\"1\" class=\"dataframe\">\n",
       "  <thead>\n",
       "    <tr style=\"text-align: right;\">\n",
       "      <th></th>\n",
       "      <th>id</th>\n",
       "      <th>vendor_id</th>\n",
       "      <th>pickup_datetime</th>\n",
       "      <th>dropoff_datetime</th>\n",
       "      <th>passenger_count</th>\n",
       "      <th>pickup_longitude</th>\n",
       "      <th>pickup_latitude</th>\n",
       "      <th>dropoff_longitude</th>\n",
       "      <th>dropoff_latitude</th>\n",
       "      <th>store_and_fwd_flag</th>\n",
       "      <th>trip_duration</th>\n",
       "      <th>pickup_hour</th>\n",
       "      <th>pickup_day</th>\n",
       "      <th>pickup_year</th>\n",
       "      <th>yday</th>\n",
       "      <th>wday</th>\n",
       "      <th>nwday</th>\n",
       "      <th>pickup_month_c</th>\n",
       "      <th>wday_c</th>\n",
       "      <th>trip_c</th>\n",
       "    </tr>\n",
       "    <tr>\n",
       "      <th>pickup_month</th>\n",
       "      <th></th>\n",
       "      <th></th>\n",
       "      <th></th>\n",
       "      <th></th>\n",
       "      <th></th>\n",
       "      <th></th>\n",
       "      <th></th>\n",
       "      <th></th>\n",
       "      <th></th>\n",
       "      <th></th>\n",
       "      <th></th>\n",
       "      <th></th>\n",
       "      <th></th>\n",
       "      <th></th>\n",
       "      <th></th>\n",
       "      <th></th>\n",
       "      <th></th>\n",
       "      <th></th>\n",
       "      <th></th>\n",
       "      <th></th>\n",
       "    </tr>\n",
       "  </thead>\n",
       "  <tbody>\n",
       "    <tr>\n",
       "      <th>1</th>\n",
       "      <td>16473</td>\n",
       "      <td>16473</td>\n",
       "      <td>16473</td>\n",
       "      <td>16473</td>\n",
       "      <td>16473</td>\n",
       "      <td>16473</td>\n",
       "      <td>16473</td>\n",
       "      <td>16473</td>\n",
       "      <td>16473</td>\n",
       "      <td>16473</td>\n",
       "      <td>16473</td>\n",
       "      <td>16473</td>\n",
       "      <td>16473</td>\n",
       "      <td>16473</td>\n",
       "      <td>16473</td>\n",
       "      <td>16473</td>\n",
       "      <td>16473</td>\n",
       "      <td>16473</td>\n",
       "      <td>16473</td>\n",
       "      <td>16473</td>\n",
       "    </tr>\n",
       "    <tr>\n",
       "      <th>2</th>\n",
       "      <td>17383</td>\n",
       "      <td>17383</td>\n",
       "      <td>17383</td>\n",
       "      <td>17383</td>\n",
       "      <td>17383</td>\n",
       "      <td>17383</td>\n",
       "      <td>17383</td>\n",
       "      <td>17383</td>\n",
       "      <td>17383</td>\n",
       "      <td>17383</td>\n",
       "      <td>17383</td>\n",
       "      <td>17383</td>\n",
       "      <td>17383</td>\n",
       "      <td>17383</td>\n",
       "      <td>17383</td>\n",
       "      <td>17383</td>\n",
       "      <td>17383</td>\n",
       "      <td>17383</td>\n",
       "      <td>17383</td>\n",
       "      <td>17383</td>\n",
       "    </tr>\n",
       "    <tr>\n",
       "      <th>3</th>\n",
       "      <td>18328</td>\n",
       "      <td>18328</td>\n",
       "      <td>18328</td>\n",
       "      <td>18328</td>\n",
       "      <td>18328</td>\n",
       "      <td>18328</td>\n",
       "      <td>18328</td>\n",
       "      <td>18328</td>\n",
       "      <td>18328</td>\n",
       "      <td>18328</td>\n",
       "      <td>18328</td>\n",
       "      <td>18328</td>\n",
       "      <td>18328</td>\n",
       "      <td>18328</td>\n",
       "      <td>18328</td>\n",
       "      <td>18328</td>\n",
       "      <td>18328</td>\n",
       "      <td>18328</td>\n",
       "      <td>18328</td>\n",
       "      <td>18328</td>\n",
       "    </tr>\n",
       "    <tr>\n",
       "      <th>4</th>\n",
       "      <td>17994</td>\n",
       "      <td>17994</td>\n",
       "      <td>17994</td>\n",
       "      <td>17994</td>\n",
       "      <td>17994</td>\n",
       "      <td>17994</td>\n",
       "      <td>17994</td>\n",
       "      <td>17994</td>\n",
       "      <td>17994</td>\n",
       "      <td>17994</td>\n",
       "      <td>17994</td>\n",
       "      <td>17994</td>\n",
       "      <td>17994</td>\n",
       "      <td>17994</td>\n",
       "      <td>17994</td>\n",
       "      <td>17994</td>\n",
       "      <td>17994</td>\n",
       "      <td>17994</td>\n",
       "      <td>17994</td>\n",
       "      <td>17994</td>\n",
       "    </tr>\n",
       "  </tbody>\n",
       "</table>\n",
       "</div>"
      ],
      "text/plain": [
       "                 id  vendor_id  pickup_datetime  dropoff_datetime  \\\n",
       "pickup_month                                                        \n",
       "1             16473      16473            16473             16473   \n",
       "2             17383      17383            17383             17383   \n",
       "3             18328      18328            18328             18328   \n",
       "4             17994      17994            17994             17994   \n",
       "\n",
       "              passenger_count  pickup_longitude  pickup_latitude  \\\n",
       "pickup_month                                                       \n",
       "1                       16473             16473            16473   \n",
       "2                       17383             17383            17383   \n",
       "3                       18328             18328            18328   \n",
       "4                       17994             17994            17994   \n",
       "\n",
       "              dropoff_longitude  dropoff_latitude  store_and_fwd_flag  \\\n",
       "pickup_month                                                            \n",
       "1                         16473             16473               16473   \n",
       "2                         17383             17383               17383   \n",
       "3                         18328             18328               18328   \n",
       "4                         17994             17994               17994   \n",
       "\n",
       "              trip_duration  pickup_hour  pickup_day  pickup_year   yday  \\\n",
       "pickup_month                                                               \n",
       "1                     16473        16473       16473        16473  16473   \n",
       "2                     17383        17383       17383        17383  17383   \n",
       "3                     18328        18328       18328        18328  18328   \n",
       "4                     17994        17994       17994        17994  17994   \n",
       "\n",
       "               wday  nwday  pickup_month_c  wday_c  trip_c  \n",
       "pickup_month                                                \n",
       "1             16473  16473           16473   16473   16473  \n",
       "2             17383  17383           17383   17383   17383  \n",
       "3             18328  18328           18328   18328   18328  \n",
       "4             17994  17994           17994   17994   17994  "
      ]
     },
     "execution_count": 23,
     "metadata": {},
     "output_type": "execute_result"
    }
   ],
   "source": [
    "month_group.count() # pickup_month의 variable*column별 관측치 수 확인\n",
    "\n",
    "# size함수를 통해 pickup_month의 value별 관측치 수 확인(count와 size의 차이 : size는 NaN값을 포함해서 세고, count는 NaN값을 세지 않음)\n",
    "# month_group.size().sort_values(ascending = False)"
   ]
  },
  {
   "cell_type": "code",
   "execution_count": null,
   "metadata": {
    "collapsed": true
   },
   "outputs": [],
   "source": [
    "# 위에서 했으므로 여기서는 실행 안함. 원래 여기서 시행해야 아래 표와 차이 발생\n",
    "# df = df.sample(frac = 0.1, replace = False, random_state = 0) # sampling\n",
    "# df.shape # sampling됐는지 확인"
   ]
  },
  {
   "cell_type": "code",
   "execution_count": null,
   "metadata": {
    "collapsed": true,
    "scrolled": true
   },
   "outputs": [],
   "source": [
    "# sample이 골고루 뽑혔는지 확인\n",
    "# month_group.count()의 output과 비교. 월별 갯수 비중 확인\n",
    "\n",
    "# pickup_month data 확인을 위해 grouping\n",
    "month_group = df.groupby('pickup_month')\n",
    "# pickup_month의 variable*column별 관측치 수 확인\n",
    "month_group.count()"
   ]
  },
  {
   "cell_type": "markdown",
   "metadata": {},
   "source": [
    "#### 4) data log 변환\n",
    "* trip_duration의 단위는 second로 log변환 가능\n",
    "* trip_duration에 +1(scaling)을 한 후 log 변환 수행  \n",
    "*original 값에 +1을 하는 이유 :\n",
    "original 값이 0인 경우 log변환하면 1이 되어버림 따라서, 모든 original 값에 1을 더함*\n",
    "* tirp_duraiont+1을 log변환 함\n",
    "* original 값과 log변환 값 비교"
   ]
  },
  {
   "cell_type": "code",
   "execution_count": 17,
   "metadata": {
    "collapsed": true
   },
   "outputs": [],
   "source": [
    "df['logtrip_duration'] = np.log(df.trip_duration + 1)"
   ]
  },
  {
   "cell_type": "code",
   "execution_count": 18,
   "metadata": {
    "scrolled": false
   },
   "outputs": [
    {
     "data": {
      "image/png": "[encoded data removed]",
      "text/plain": [
       "<matplotlib.figure.Figure at 0x1d46743fcf8>"
      ]
     },
     "metadata": {},
     "output_type": "display_data"
    },
    {
     "data": {
      "image/png": "[encoded data removed]",
      "text/plain": [
       "<matplotlib.figure.Figure at 0x1d4674cc898>"
      ]
     },
     "metadata": {},
     "output_type": "display_data"
    }
   ],
   "source": [
    "sns.kdeplot(df.trip_duration) # kernel density grahp (높이(x가 뽑힐 확률)는 큰 의미 없음, 넓이가 중요(넓이의 합은 1))\n",
    "plt.show()\n",
    "sns.kdeplot(df.logtrip_duration) # 정규분포와 더 유사한 분포가 됨\n",
    "plt.show()"
   ]
  },
  {
   "cell_type": "code",
   "execution_count": 19,
   "metadata": {
    "scrolled": false
   },
   "outputs": [
    {
     "name": "stderr",
     "output_type": "stream",
     "text": [
      "C:\\Users\\best0\\Anaconda3\\lib\\site-packages\\numpy\\core\\fromnumeric.py:57: FutureWarning: reshape is deprecated and will raise in a subsequent release. Please use .values.reshape(...) instead\n",
      "  return getattr(obj, method)(*args, **kwds)\n"
     ]
    },
    {
     "data": {
      "image/png": "[encoded data removed]",
      "text/plain": [
       "<matplotlib.figure.Figure at 0x1d467576e80>"
      ]
     },
     "metadata": {},
     "output_type": "display_data"
    }
   ],
   "source": [
    "df.boxplot(\"logtrip_duration\", \"pickup_hour\")\n",
    "plt.ylim(4, 9)\n",
    "plt.show()"
   ]
  },
  {
   "cell_type": "code",
   "execution_count": 49,
   "metadata": {
    "collapsed": true
   },
   "outputs": [],
   "source": [
    "\n",
    "# 탄 시간, 일, 월, 연도를 카테고리 타입의 변수로 생성\n",
    "df['pickup_hour'] = df.pickup_datetime.dt.hour.astype('int')\n",
    "df['pickup_day'] = df.pickup_datetime.dt.day.astype('int')\n",
    "df['pickup_month'] = df.pickup_datetime.dt.month.astype('int')\n",
    "df['pickup_year'] = df.pickup_datetime.dt.year.astype('int')\n",
    "# 연도, 주 기준 변수 생성\n",
    "df['yday'] = df.pickup_datetime.dt.dayofyear.astype('int')\n",
    "df['wday'] = df.pickup_datetime.dt.dayofweek.astype('int')\n",
    "df.vendor_id = df.vendor_id.astype('int') # vendor_id type category"
   ]
  },
  {
   "cell_type": "code",
   "execution_count": null,
   "metadata": {
    "collapsed": true
   },
   "outputs": [],
   "source": []
  },
  {
   "cell_type": "code",
   "execution_count": null,
   "metadata": {
    "collapsed": true
   },
   "outputs": [],
   "source": []
  },
  {
   "cell_type": "code",
   "execution_count": null,
   "metadata": {
    "collapsed": true
   },
   "outputs": [],
   "source": []
  },
  {
   "cell_type": "code",
   "execution_count": null,
   "metadata": {
    "collapsed": true
   },
   "outputs": [],
   "source": []
  },
  {
   "cell_type": "code",
   "execution_count": null,
   "metadata": {
    "collapsed": true
   },
   "outputs": [],
   "source": []
  },
  {
   "cell_type": "code",
   "execution_count": null,
   "metadata": {
    "collapsed": true
   },
   "outputs": [],
   "source": []
  },
  {
   "cell_type": "code",
   "execution_count": null,
   "metadata": {
    "collapsed": true
   },
   "outputs": [],
   "source": []
  },
  {
   "cell_type": "code",
   "execution_count": null,
   "metadata": {
    "collapsed": true
   },
   "outputs": [],
   "source": []
  },
  {
   "cell_type": "code",
   "execution_count": 48,
   "metadata": {},
   "outputs": [
    {
     "ename": "TypeError",
     "evalue": "unsupported operand type(s) for /: 'str' and 'int'",
     "output_type": "error",
     "traceback": [
      "\u001b[1;31m---------------------------------------------------------------------------\u001b[0m",
      "\u001b[1;31mTypeError\u001b[0m                                 Traceback (most recent call last)",
      "\u001b[1;32m<ipython-input-48-7d4ab5875079>\u001b[0m in \u001b[0;36m<module>\u001b[1;34m()\u001b[0m\n\u001b[0;32m      1\u001b[0m \u001b[1;31m#correlation 확인\u001b[0m\u001b[1;33m\u001b[0m\u001b[1;33m\u001b[0m\u001b[0m\n\u001b[1;32m----> 2\u001b[1;33m \u001b[0mdf\u001b[0m\u001b[1;33m[\u001b[0m\u001b[1;34m'logtrip_duration'\u001b[0m\u001b[1;33m]\u001b[0m\u001b[1;33m.\u001b[0m\u001b[0mcorr\u001b[0m\u001b[1;33m(\u001b[0m\u001b[0mdf\u001b[0m\u001b[1;33m[\u001b[0m\u001b[1;34m'trip_c'\u001b[0m\u001b[1;33m]\u001b[0m\u001b[1;33m)\u001b[0m\u001b[1;33m\u001b[0m\u001b[0m\n\u001b[0m",
      "\u001b[1;32m~\\Anaconda3\\lib\\site-packages\\pandas\\core\\series.py\u001b[0m in \u001b[0;36mcorr\u001b[1;34m(self, other, method, min_periods)\u001b[0m\n\u001b[0;32m   1373\u001b[0m             \u001b[1;32mreturn\u001b[0m \u001b[0mnp\u001b[0m\u001b[1;33m.\u001b[0m\u001b[0mnan\u001b[0m\u001b[1;33m\u001b[0m\u001b[0m\n\u001b[0;32m   1374\u001b[0m         return nanops.nancorr(this.values, other.values, method=method,\n\u001b[1;32m-> 1375\u001b[1;33m                               min_periods=min_periods)\n\u001b[0m\u001b[0;32m   1376\u001b[0m \u001b[1;33m\u001b[0m\u001b[0m\n\u001b[0;32m   1377\u001b[0m     \u001b[1;32mdef\u001b[0m \u001b[0mcov\u001b[0m\u001b[1;33m(\u001b[0m\u001b[0mself\u001b[0m\u001b[1;33m,\u001b[0m \u001b[0mother\u001b[0m\u001b[1;33m,\u001b[0m \u001b[0mmin_periods\u001b[0m\u001b[1;33m=\u001b[0m\u001b[1;32mNone\u001b[0m\u001b[1;33m)\u001b[0m\u001b[1;33m:\u001b[0m\u001b[1;33m\u001b[0m\u001b[0m\n",
      "\u001b[1;32m~\\Anaconda3\\lib\\site-packages\\pandas\\core\\nanops.py\u001b[0m in \u001b[0;36m_f\u001b[1;34m(*args, **kwargs)\u001b[0m\n\u001b[0;32m     60\u001b[0m             \u001b[1;32mtry\u001b[0m\u001b[1;33m:\u001b[0m\u001b[1;33m\u001b[0m\u001b[0m\n\u001b[0;32m     61\u001b[0m                 \u001b[1;32mwith\u001b[0m \u001b[0mnp\u001b[0m\u001b[1;33m.\u001b[0m\u001b[0merrstate\u001b[0m\u001b[1;33m(\u001b[0m\u001b[0minvalid\u001b[0m\u001b[1;33m=\u001b[0m\u001b[1;34m'ignore'\u001b[0m\u001b[1;33m)\u001b[0m\u001b[1;33m:\u001b[0m\u001b[1;33m\u001b[0m\u001b[0m\n\u001b[1;32m---> 62\u001b[1;33m                     \u001b[1;32mreturn\u001b[0m \u001b[0mf\u001b[0m\u001b[1;33m(\u001b[0m\u001b[1;33m*\u001b[0m\u001b[0margs\u001b[0m\u001b[1;33m,\u001b[0m \u001b[1;33m**\u001b[0m\u001b[0mkwargs\u001b[0m\u001b[1;33m)\u001b[0m\u001b[1;33m\u001b[0m\u001b[0m\n\u001b[0m\u001b[0;32m     63\u001b[0m             \u001b[1;32mexcept\u001b[0m \u001b[0mValueError\u001b[0m \u001b[1;32mas\u001b[0m \u001b[0me\u001b[0m\u001b[1;33m:\u001b[0m\u001b[1;33m\u001b[0m\u001b[0m\n\u001b[0;32m     64\u001b[0m                 \u001b[1;31m# we want to transform an object array\u001b[0m\u001b[1;33m\u001b[0m\u001b[1;33m\u001b[0m\u001b[0m\n",
      "\u001b[1;32m~\\Anaconda3\\lib\\site-packages\\pandas\\core\\nanops.py\u001b[0m in \u001b[0;36mnancorr\u001b[1;34m(a, b, method, min_periods)\u001b[0m\n\u001b[0;32m    706\u001b[0m \u001b[1;33m\u001b[0m\u001b[0m\n\u001b[0;32m    707\u001b[0m     \u001b[0mf\u001b[0m \u001b[1;33m=\u001b[0m \u001b[0mget_corr_func\u001b[0m\u001b[1;33m(\u001b[0m\u001b[0mmethod\u001b[0m\u001b[1;33m)\u001b[0m\u001b[1;33m\u001b[0m\u001b[0m\n\u001b[1;32m--> 708\u001b[1;33m     \u001b[1;32mreturn\u001b[0m \u001b[0mf\u001b[0m\u001b[1;33m(\u001b[0m\u001b[0ma\u001b[0m\u001b[1;33m,\u001b[0m \u001b[0mb\u001b[0m\u001b[1;33m)\u001b[0m\u001b[1;33m\u001b[0m\u001b[0m\n\u001b[0m\u001b[0;32m    709\u001b[0m \u001b[1;33m\u001b[0m\u001b[0m\n\u001b[0;32m    710\u001b[0m \u001b[1;33m\u001b[0m\u001b[0m\n",
      "\u001b[1;32m~\\Anaconda3\\lib\\site-packages\\pandas\\core\\nanops.py\u001b[0m in \u001b[0;36m_pearson\u001b[1;34m(a, b)\u001b[0m\n\u001b[0;32m    714\u001b[0m \u001b[1;33m\u001b[0m\u001b[0m\n\u001b[0;32m    715\u001b[0m     \u001b[1;32mdef\u001b[0m \u001b[0m_pearson\u001b[0m\u001b[1;33m(\u001b[0m\u001b[0ma\u001b[0m\u001b[1;33m,\u001b[0m \u001b[0mb\u001b[0m\u001b[1;33m)\u001b[0m\u001b[1;33m:\u001b[0m\u001b[1;33m\u001b[0m\u001b[0m\n\u001b[1;32m--> 716\u001b[1;33m         \u001b[1;32mreturn\u001b[0m \u001b[0mnp\u001b[0m\u001b[1;33m.\u001b[0m\u001b[0mcorrcoef\u001b[0m\u001b[1;33m(\u001b[0m\u001b[0ma\u001b[0m\u001b[1;33m,\u001b[0m \u001b[0mb\u001b[0m\u001b[1;33m)\u001b[0m\u001b[1;33m[\u001b[0m\u001b[1;36m0\u001b[0m\u001b[1;33m,\u001b[0m \u001b[1;36m1\u001b[0m\u001b[1;33m]\u001b[0m\u001b[1;33m\u001b[0m\u001b[0m\n\u001b[0m\u001b[0;32m    717\u001b[0m \u001b[1;33m\u001b[0m\u001b[0m\n\u001b[0;32m    718\u001b[0m     \u001b[1;32mdef\u001b[0m \u001b[0m_kendall\u001b[0m\u001b[1;33m(\u001b[0m\u001b[0ma\u001b[0m\u001b[1;33m,\u001b[0m \u001b[0mb\u001b[0m\u001b[1;33m)\u001b[0m\u001b[1;33m:\u001b[0m\u001b[1;33m\u001b[0m\u001b[0m\n",
      "\u001b[1;32m~\\Anaconda3\\lib\\site-packages\\numpy\\lib\\function_base.py\u001b[0m in \u001b[0;36mcorrcoef\u001b[1;34m(x, y, rowvar, bias, ddof)\u001b[0m\n\u001b[0;32m   3157\u001b[0m         warnings.warn('bias and ddof have no effect and are deprecated',\n\u001b[0;32m   3158\u001b[0m                       DeprecationWarning, stacklevel=2)\n\u001b[1;32m-> 3159\u001b[1;33m     \u001b[0mc\u001b[0m \u001b[1;33m=\u001b[0m \u001b[0mcov\u001b[0m\u001b[1;33m(\u001b[0m\u001b[0mx\u001b[0m\u001b[1;33m,\u001b[0m \u001b[0my\u001b[0m\u001b[1;33m,\u001b[0m \u001b[0mrowvar\u001b[0m\u001b[1;33m)\u001b[0m\u001b[1;33m\u001b[0m\u001b[0m\n\u001b[0m\u001b[0;32m   3160\u001b[0m     \u001b[1;32mtry\u001b[0m\u001b[1;33m:\u001b[0m\u001b[1;33m\u001b[0m\u001b[0m\n\u001b[0;32m   3161\u001b[0m         \u001b[0md\u001b[0m \u001b[1;33m=\u001b[0m \u001b[0mdiag\u001b[0m\u001b[1;33m(\u001b[0m\u001b[0mc\u001b[0m\u001b[1;33m)\u001b[0m\u001b[1;33m\u001b[0m\u001b[0m\n",
      "\u001b[1;32m~\\Anaconda3\\lib\\site-packages\\numpy\\lib\\function_base.py\u001b[0m in \u001b[0;36mcov\u001b[1;34m(m, y, rowvar, bias, ddof, fweights, aweights)\u001b[0m\n\u001b[0;32m   3067\u001b[0m             \u001b[0mw\u001b[0m \u001b[1;33m*=\u001b[0m \u001b[0maweights\u001b[0m\u001b[1;33m\u001b[0m\u001b[0m\n\u001b[0;32m   3068\u001b[0m \u001b[1;33m\u001b[0m\u001b[0m\n\u001b[1;32m-> 3069\u001b[1;33m     \u001b[0mavg\u001b[0m\u001b[1;33m,\u001b[0m \u001b[0mw_sum\u001b[0m \u001b[1;33m=\u001b[0m \u001b[0maverage\u001b[0m\u001b[1;33m(\u001b[0m\u001b[0mX\u001b[0m\u001b[1;33m,\u001b[0m \u001b[0maxis\u001b[0m\u001b[1;33m=\u001b[0m\u001b[1;36m1\u001b[0m\u001b[1;33m,\u001b[0m \u001b[0mweights\u001b[0m\u001b[1;33m=\u001b[0m\u001b[0mw\u001b[0m\u001b[1;33m,\u001b[0m \u001b[0mreturned\u001b[0m\u001b[1;33m=\u001b[0m\u001b[1;32mTrue\u001b[0m\u001b[1;33m)\u001b[0m\u001b[1;33m\u001b[0m\u001b[0m\n\u001b[0m\u001b[0;32m   3070\u001b[0m     \u001b[0mw_sum\u001b[0m \u001b[1;33m=\u001b[0m \u001b[0mw_sum\u001b[0m\u001b[1;33m[\u001b[0m\u001b[1;36m0\u001b[0m\u001b[1;33m]\u001b[0m\u001b[1;33m\u001b[0m\u001b[0m\n\u001b[0;32m   3071\u001b[0m \u001b[1;33m\u001b[0m\u001b[0m\n",
      "\u001b[1;32m~\\Anaconda3\\lib\\site-packages\\numpy\\lib\\function_base.py\u001b[0m in \u001b[0;36maverage\u001b[1;34m(a, axis, weights, returned)\u001b[0m\n\u001b[0;32m   1108\u001b[0m \u001b[1;33m\u001b[0m\u001b[0m\n\u001b[0;32m   1109\u001b[0m     \u001b[1;32mif\u001b[0m \u001b[0mweights\u001b[0m \u001b[1;32mis\u001b[0m \u001b[1;32mNone\u001b[0m\u001b[1;33m:\u001b[0m\u001b[1;33m\u001b[0m\u001b[0m\n\u001b[1;32m-> 1110\u001b[1;33m         \u001b[0mavg\u001b[0m \u001b[1;33m=\u001b[0m \u001b[0ma\u001b[0m\u001b[1;33m.\u001b[0m\u001b[0mmean\u001b[0m\u001b[1;33m(\u001b[0m\u001b[0maxis\u001b[0m\u001b[1;33m)\u001b[0m\u001b[1;33m\u001b[0m\u001b[0m\n\u001b[0m\u001b[0;32m   1111\u001b[0m         \u001b[0mscl\u001b[0m \u001b[1;33m=\u001b[0m \u001b[0mavg\u001b[0m\u001b[1;33m.\u001b[0m\u001b[0mdtype\u001b[0m\u001b[1;33m.\u001b[0m\u001b[0mtype\u001b[0m\u001b[1;33m(\u001b[0m\u001b[0ma\u001b[0m\u001b[1;33m.\u001b[0m\u001b[0msize\u001b[0m\u001b[1;33m/\u001b[0m\u001b[0mavg\u001b[0m\u001b[1;33m.\u001b[0m\u001b[0msize\u001b[0m\u001b[1;33m)\u001b[0m\u001b[1;33m\u001b[0m\u001b[0m\n\u001b[0;32m   1112\u001b[0m     \u001b[1;32melse\u001b[0m\u001b[1;33m:\u001b[0m\u001b[1;33m\u001b[0m\u001b[0m\n",
      "\u001b[1;32m~\\Anaconda3\\lib\\site-packages\\numpy\\core\\_methods.py\u001b[0m in \u001b[0;36m_mean\u001b[1;34m(a, axis, dtype, out, keepdims)\u001b[0m\n\u001b[0;32m     71\u001b[0m     \u001b[1;32mif\u001b[0m \u001b[0misinstance\u001b[0m\u001b[1;33m(\u001b[0m\u001b[0mret\u001b[0m\u001b[1;33m,\u001b[0m \u001b[0mmu\u001b[0m\u001b[1;33m.\u001b[0m\u001b[0mndarray\u001b[0m\u001b[1;33m)\u001b[0m\u001b[1;33m:\u001b[0m\u001b[1;33m\u001b[0m\u001b[0m\n\u001b[0;32m     72\u001b[0m         ret = um.true_divide(\n\u001b[1;32m---> 73\u001b[1;33m                 ret, rcount, out=ret, casting='unsafe', subok=False)\n\u001b[0m\u001b[0;32m     74\u001b[0m         \u001b[1;32mif\u001b[0m \u001b[0mis_float16_result\u001b[0m \u001b[1;32mand\u001b[0m \u001b[0mout\u001b[0m \u001b[1;32mis\u001b[0m \u001b[1;32mNone\u001b[0m\u001b[1;33m:\u001b[0m\u001b[1;33m\u001b[0m\u001b[0m\n\u001b[0;32m     75\u001b[0m             \u001b[0mret\u001b[0m \u001b[1;33m=\u001b[0m \u001b[0marr\u001b[0m\u001b[1;33m.\u001b[0m\u001b[0mdtype\u001b[0m\u001b[1;33m.\u001b[0m\u001b[0mtype\u001b[0m\u001b[1;33m(\u001b[0m\u001b[0mret\u001b[0m\u001b[1;33m)\u001b[0m\u001b[1;33m\u001b[0m\u001b[0m\n",
      "\u001b[1;31mTypeError\u001b[0m: unsupported operand type(s) for /: 'str' and 'int'"
     ]
    }
   ],
   "source": [
    "#correlation 확인\n",
    "df['logtrip_duration'].corr(df['trip_c'])"
   ]
  },
  {
   "cell_type": "code",
   "execution_count": 28,
   "metadata": {},
   "outputs": [
    {
     "data": {
      "text/html": [
       "<div>\n",
       "<style>\n",
       "    .dataframe thead tr:only-child th {\n",
       "        text-align: right;\n",
       "    }\n",
       "\n",
       "    .dataframe thead th {\n",
       "        text-align: left;\n",
       "    }\n",
       "\n",
       "    .dataframe tbody tr th {\n",
       "        vertical-align: top;\n",
       "    }\n",
       "</style>\n",
       "<table border=\"1\" class=\"dataframe\">\n",
       "  <thead>\n",
       "    <tr style=\"text-align: right;\">\n",
       "      <th></th>\n",
       "      <th>id</th>\n",
       "      <th>vendor_id</th>\n",
       "      <th>pickup_datetime</th>\n",
       "      <th>dropoff_datetime</th>\n",
       "      <th>passenger_count</th>\n",
       "      <th>pickup_longitude</th>\n",
       "      <th>pickup_latitude</th>\n",
       "      <th>dropoff_longitude</th>\n",
       "      <th>dropoff_latitude</th>\n",
       "      <th>store_and_fwd_flag</th>\n",
       "      <th>...</th>\n",
       "      <th>pickup_day</th>\n",
       "      <th>pickup_month</th>\n",
       "      <th>pickup_year</th>\n",
       "      <th>yday</th>\n",
       "      <th>wday</th>\n",
       "      <th>nwday</th>\n",
       "      <th>pickup_month_c</th>\n",
       "      <th>wday_c</th>\n",
       "      <th>trip_c</th>\n",
       "      <th>logtrip_duration</th>\n",
       "    </tr>\n",
       "  </thead>\n",
       "  <tbody>\n",
       "    <tr>\n",
       "      <th>241061</th>\n",
       "      <td>id3441354</td>\n",
       "      <td>1</td>\n",
       "      <td>2016-03-21 14:34:00</td>\n",
       "      <td>2016-03-21 14:50:00</td>\n",
       "      <td>1</td>\n",
       "      <td>-73.971970</td>\n",
       "      <td>40.761642</td>\n",
       "      <td>-73.991158</td>\n",
       "      <td>40.750072</td>\n",
       "      <td>N</td>\n",
       "      <td>...</td>\n",
       "      <td>21</td>\n",
       "      <td>3</td>\n",
       "      <td>2016</td>\n",
       "      <td>81</td>\n",
       "      <td>0</td>\n",
       "      <td>Monday</td>\n",
       "      <td>1</td>\n",
       "      <td>1</td>\n",
       "      <td>0</td>\n",
       "      <td>6.908755</td>\n",
       "    </tr>\n",
       "    <tr>\n",
       "      <th>685646</th>\n",
       "      <td>id0985993</td>\n",
       "      <td>2</td>\n",
       "      <td>2016-01-04 11:59:00</td>\n",
       "      <td>2016-01-04 12:11:00</td>\n",
       "      <td>1</td>\n",
       "      <td>-73.998474</td>\n",
       "      <td>40.745346</td>\n",
       "      <td>-73.988899</td>\n",
       "      <td>40.777729</td>\n",
       "      <td>N</td>\n",
       "      <td>...</td>\n",
       "      <td>4</td>\n",
       "      <td>1</td>\n",
       "      <td>2016</td>\n",
       "      <td>4</td>\n",
       "      <td>0</td>\n",
       "      <td>Monday</td>\n",
       "      <td>0</td>\n",
       "      <td>0</td>\n",
       "      <td>0</td>\n",
       "      <td>6.594413</td>\n",
       "    </tr>\n",
       "    <tr>\n",
       "      <th>431330</th>\n",
       "      <td>id0695961</td>\n",
       "      <td>1</td>\n",
       "      <td>2016-02-18 22:32:00</td>\n",
       "      <td>2016-02-18 22:56:00</td>\n",
       "      <td>3</td>\n",
       "      <td>-73.989792</td>\n",
       "      <td>40.746990</td>\n",
       "      <td>-73.960960</td>\n",
       "      <td>40.766827</td>\n",
       "      <td>N</td>\n",
       "      <td>...</td>\n",
       "      <td>18</td>\n",
       "      <td>2</td>\n",
       "      <td>2016</td>\n",
       "      <td>49</td>\n",
       "      <td>3</td>\n",
       "      <td>Thursday</td>\n",
       "      <td>0</td>\n",
       "      <td>0</td>\n",
       "      <td>0</td>\n",
       "      <td>7.304516</td>\n",
       "    </tr>\n",
       "    <tr>\n",
       "      <th>356863</th>\n",
       "      <td>id1113960</td>\n",
       "      <td>1</td>\n",
       "      <td>2016-03-02 13:41:00</td>\n",
       "      <td>2016-03-02 13:48:00</td>\n",
       "      <td>2</td>\n",
       "      <td>-73.979637</td>\n",
       "      <td>40.752895</td>\n",
       "      <td>-73.981476</td>\n",
       "      <td>40.759377</td>\n",
       "      <td>N</td>\n",
       "      <td>...</td>\n",
       "      <td>2</td>\n",
       "      <td>3</td>\n",
       "      <td>2016</td>\n",
       "      <td>62</td>\n",
       "      <td>2</td>\n",
       "      <td>Wednesday</td>\n",
       "      <td>1</td>\n",
       "      <td>1</td>\n",
       "      <td>0</td>\n",
       "      <td>6.115892</td>\n",
       "    </tr>\n",
       "    <tr>\n",
       "      <th>225044</th>\n",
       "      <td>id2878431</td>\n",
       "      <td>1</td>\n",
       "      <td>2016-03-24 10:59:00</td>\n",
       "      <td>2016-03-24 11:08:00</td>\n",
       "      <td>2</td>\n",
       "      <td>-73.994743</td>\n",
       "      <td>40.745583</td>\n",
       "      <td>-74.006577</td>\n",
       "      <td>40.732033</td>\n",
       "      <td>N</td>\n",
       "      <td>...</td>\n",
       "      <td>24</td>\n",
       "      <td>3</td>\n",
       "      <td>2016</td>\n",
       "      <td>84</td>\n",
       "      <td>3</td>\n",
       "      <td>Thursday</td>\n",
       "      <td>1</td>\n",
       "      <td>1</td>\n",
       "      <td>0</td>\n",
       "      <td>6.340359</td>\n",
       "    </tr>\n",
       "  </tbody>\n",
       "</table>\n",
       "<p>5 rows × 22 columns</p>\n",
       "</div>"
      ],
      "text/plain": [
       "               id vendor_id     pickup_datetime    dropoff_datetime  \\\n",
       "241061  id3441354         1 2016-03-21 14:34:00 2016-03-21 14:50:00   \n",
       "685646  id0985993         2 2016-01-04 11:59:00 2016-01-04 12:11:00   \n",
       "431330  id0695961         1 2016-02-18 22:32:00 2016-02-18 22:56:00   \n",
       "356863  id1113960         1 2016-03-02 13:41:00 2016-03-02 13:48:00   \n",
       "225044  id2878431         1 2016-03-24 10:59:00 2016-03-24 11:08:00   \n",
       "\n",
       "        passenger_count  pickup_longitude  pickup_latitude  dropoff_longitude  \\\n",
       "241061                1        -73.971970        40.761642         -73.991158   \n",
       "685646                1        -73.998474        40.745346         -73.988899   \n",
       "431330                3        -73.989792        40.746990         -73.960960   \n",
       "356863                2        -73.979637        40.752895         -73.981476   \n",
       "225044                2        -73.994743        40.745583         -74.006577   \n",
       "\n",
       "        dropoff_latitude store_and_fwd_flag       ...         pickup_day  \\\n",
       "241061         40.750072                  N       ...                 21   \n",
       "685646         40.777729                  N       ...                  4   \n",
       "431330         40.766827                  N       ...                 18   \n",
       "356863         40.759377                  N       ...                  2   \n",
       "225044         40.732033                  N       ...                 24   \n",
       "\n",
       "       pickup_month pickup_year yday wday      nwday pickup_month_c wday_c  \\\n",
       "241061            3        2016   81    0     Monday              1      1   \n",
       "685646            1        2016    4    0     Monday              0      0   \n",
       "431330            2        2016   49    3   Thursday              0      0   \n",
       "356863            3        2016   62    2  Wednesday              1      1   \n",
       "225044            3        2016   84    3   Thursday              1      1   \n",
       "\n",
       "       trip_c logtrip_duration  \n",
       "241061      0         6.908755  \n",
       "685646      0         6.594413  \n",
       "431330      0         7.304516  \n",
       "356863      0         6.115892  \n",
       "225044      0         6.340359  \n",
       "\n",
       "[5 rows x 22 columns]"
      ]
     },
     "execution_count": 28,
     "metadata": {},
     "output_type": "execute_result"
    }
   ],
   "source": [
    "df.head()"
   ]
  },
  {
   "cell_type": "code",
   "execution_count": 22,
   "metadata": {},
   "outputs": [
    {
     "ename": "NameError",
     "evalue": "name 'install' is not defined",
     "output_type": "error",
     "traceback": [
      "\u001b[1;31m---------------------------------------------------------------------------\u001b[0m",
      "\u001b[1;31mNameError\u001b[0m                                 Traceback (most recent call last)",
      "\u001b[1;32m<ipython-input-22-cfba151786ce>\u001b[0m in \u001b[0;36m<module>\u001b[1;34m()\u001b[0m\n\u001b[1;32m----> 1\u001b[1;33m \u001b[0minstall\u001b[0m\u001b[1;33m.\u001b[0m\u001b[0mpackages\u001b[0m\u001b[1;33m(\u001b[0m\u001b[1;34m\"Hmisc\"\u001b[0m\u001b[1;33m)\u001b[0m\u001b[1;33m\u001b[0m\u001b[0m\n\u001b[0m",
      "\u001b[1;31mNameError\u001b[0m: name 'install' is not defined"
     ]
    }
   ],
   "source": [
    "install.packages(\"Hmisc\")"
   ]
  },
  {
   "cell_type": "code",
   "execution_count": 70,
   "metadata": {},
   "outputs": [
    {
     "data": {
      "text/plain": [
       "0.19155341740756118"
      ]
     },
     "execution_count": 70,
     "metadata": {},
     "output_type": "execute_result"
    }
   ],
   "source": [
    "#correlation 확인\n",
    "df['logtrip_duration'].corr(df['trip_duration'])"
   ]
  },
  {
   "cell_type": "code",
   "execution_count": 77,
   "metadata": {},
   "outputs": [
    {
     "name": "stdout",
     "output_type": "stream",
     "text": [
      "                       pickup_month      wday  vendor_id  pickup_day  \\\n",
      "pickup_month               1.000000  0.001363  -0.008408   -0.018963   \n",
      "wday                       0.001363  1.000000   0.007228    0.024508   \n",
      "vendor_id                 -0.008408  0.007228   1.000000   -0.004991   \n",
      "pickup_day                -0.018963  0.024508  -0.004991    1.000000   \n",
      "pickup_hour                0.006336 -0.075864   0.011543    0.001308   \n",
      "passenger_count           -0.002344  0.031310   0.285974   -0.003288   \n",
      "average_temperature_y      0.605094 -0.015382  -0.010040    0.169235   \n",
      "distance                   0.015505  0.012422   0.002873    0.006632   \n",
      "speed                     -0.018950  0.068472  -0.000730   -0.017846   \n",
      "\n",
      "                       pickup_hour  passenger_count  average_temperature_y  \\\n",
      "pickup_month              0.006336        -0.002344               0.605094   \n",
      "wday                     -0.075864         0.031310              -0.015382   \n",
      "vendor_id                 0.011543         0.285974              -0.010040   \n",
      "pickup_day                0.001308        -0.003288               0.169235   \n",
      "pickup_hour               1.000000         0.011041              -0.000040   \n",
      "passenger_count           0.011041         1.000000               0.000951   \n",
      "average_temperature_y    -0.000040         0.000951               1.000000   \n",
      "distance                 -0.014130         0.004475               0.016523   \n",
      "speed                    -0.092147        -0.004374              -0.015560   \n",
      "\n",
      "                       distance     speed  \n",
      "pickup_month           0.015505 -0.018950  \n",
      "wday                   0.012422  0.068472  \n",
      "vendor_id              0.002873 -0.000730  \n",
      "pickup_day             0.006632 -0.017846  \n",
      "pickup_hour           -0.014130 -0.092147  \n",
      "passenger_count        0.004475 -0.004374  \n",
      "average_temperature_y  0.016523 -0.015560  \n",
      "distance               1.000000  0.568138  \n",
      "speed                  0.568138  1.000000  \n"
     ]
    }
   ],
   "source": [
    "print(dfX.corr('pearson'))"
   ]
  },
  {
   "cell_type": "code",
   "execution_count": 20,
   "metadata": {},
   "outputs": [
    {
     "ename": "NameError",
     "evalue": "name 'titanic' is not defined",
     "output_type": "error",
     "traceback": [
      "\u001b[1;31m---------------------------------------------------------------------------\u001b[0m",
      "\u001b[1;31mNameError\u001b[0m                                 Traceback (most recent call last)",
      "\u001b[1;32m<ipython-input-20-87fdfc0b4e55>\u001b[0m in \u001b[0;36m<module>\u001b[1;34m()\u001b[0m\n\u001b[1;32m----> 1\u001b[1;33m \u001b[0mtitanic_size\u001b[0m \u001b[1;33m=\u001b[0m \u001b[0mtitanic\u001b[0m\u001b[1;33m.\u001b[0m\u001b[0mpivot_table\u001b[0m\u001b[1;33m(\u001b[0m\u001b[0mindex\u001b[0m\u001b[1;33m=\u001b[0m\u001b[1;34m\"class\"\u001b[0m\u001b[1;33m,\u001b[0m \u001b[0mcolumns\u001b[0m\u001b[1;33m=\u001b[0m\u001b[1;34m\"embark_town\"\u001b[0m\u001b[1;33m,\u001b[0m \u001b[0maggfunc\u001b[0m\u001b[1;33m=\u001b[0m\u001b[1;34m\"size\"\u001b[0m\u001b[1;33m)\u001b[0m\u001b[1;33m\u001b[0m\u001b[0m\n\u001b[0m\u001b[0;32m      2\u001b[0m \u001b[0mtitanic_size\u001b[0m\u001b[1;33m\u001b[0m\u001b[0m\n",
      "\u001b[1;31mNameError\u001b[0m: name 'titanic' is not defined"
     ]
    }
   ],
   "source": [
    "titanic_size = titanic.pivot_table(index=\"class\", columns=\"embark_town\", aggfunc=\"size\")\n",
    "titanic_size"
   ]
  },
  {
   "cell_type": "code",
   "execution_count": 78,
   "metadata": {
    "collapsed": true
   },
   "outputs": [],
   "source": [
    "df.set_index('wday', inplace=True)"
   ]
  },
  {
   "cell_type": "code",
   "execution_count": 80,
   "metadata": {
    "collapsed": true
   },
   "outputs": [],
   "source": [
    "df = df.reset_index()"
   ]
  },
  {
   "cell_type": "code",
   "execution_count": 81,
   "metadata": {},
   "outputs": [
    {
     "ename": "AttributeError",
     "evalue": "Cannot access attribute 'index' of 'SeriesGroupBy' objects, try using the 'apply' method",
     "output_type": "error",
     "traceback": [
      "\u001b[1;31m---------------------------------------------------------------------------\u001b[0m",
      "\u001b[1;31mAttributeError\u001b[0m                            Traceback (most recent call last)",
      "\u001b[1;32m<ipython-input-81-eca66e495bf5>\u001b[0m in \u001b[0;36m<module>\u001b[1;34m()\u001b[0m\n\u001b[1;32m----> 1\u001b[1;33m \u001b[0mdf_trip\u001b[0m \u001b[1;33m=\u001b[0m \u001b[0mdf\u001b[0m\u001b[1;33m.\u001b[0m\u001b[0mpivot_table\u001b[0m\u001b[1;33m(\u001b[0m\u001b[0mindex\u001b[0m\u001b[1;33m=\u001b[0m\u001b[1;34m\"pickup_month\"\u001b[0m\u001b[1;33m,\u001b[0m \u001b[0mcolumns\u001b[0m\u001b[1;33m=\u001b[0m\u001b[1;34m\"pickup_hour\"\u001b[0m\u001b[1;33m,\u001b[0m \u001b[0maggfunc\u001b[0m\u001b[1;33m=\u001b[0m\u001b[1;34m\"wday\"\u001b[0m\u001b[1;33m)\u001b[0m\u001b[1;33m\u001b[0m\u001b[0m\n\u001b[0m",
      "\u001b[1;32m~\\Anaconda3\\lib\\site-packages\\pandas\\core\\reshape\\pivot.py\u001b[0m in \u001b[0;36mpivot_table\u001b[1;34m(data, values, index, columns, aggfunc, fill_value, margins, dropna, margins_name)\u001b[0m\n\u001b[0;32m    137\u001b[0m \u001b[1;33m\u001b[0m\u001b[0m\n\u001b[0;32m    138\u001b[0m     \u001b[0mtable\u001b[0m \u001b[1;33m=\u001b[0m \u001b[0magged\u001b[0m\u001b[1;33m\u001b[0m\u001b[0m\n\u001b[1;32m--> 139\u001b[1;33m     \u001b[1;32mif\u001b[0m \u001b[0mtable\u001b[0m\u001b[1;33m.\u001b[0m\u001b[0mindex\u001b[0m\u001b[1;33m.\u001b[0m\u001b[0mnlevels\u001b[0m \u001b[1;33m>\u001b[0m \u001b[1;36m1\u001b[0m\u001b[1;33m:\u001b[0m\u001b[1;33m\u001b[0m\u001b[0m\n\u001b[0m\u001b[0;32m    140\u001b[0m         to_unstack = [agged.index.names[i] or i\n\u001b[0;32m    141\u001b[0m                       for i in range(len(index), len(keys))]\n",
      "\u001b[1;32m~\\Anaconda3\\lib\\site-packages\\pandas\\core\\groupby.py\u001b[0m in \u001b[0;36m__getattr__\u001b[1;34m(self, attr)\u001b[0m\n\u001b[0;32m    546\u001b[0m             \u001b[1;32mreturn\u001b[0m \u001b[0mself\u001b[0m\u001b[1;33m[\u001b[0m\u001b[0mattr\u001b[0m\u001b[1;33m]\u001b[0m\u001b[1;33m\u001b[0m\u001b[0m\n\u001b[0;32m    547\u001b[0m         \u001b[1;32mif\u001b[0m \u001b[0mhasattr\u001b[0m\u001b[1;33m(\u001b[0m\u001b[0mself\u001b[0m\u001b[1;33m.\u001b[0m\u001b[0mobj\u001b[0m\u001b[1;33m,\u001b[0m \u001b[0mattr\u001b[0m\u001b[1;33m)\u001b[0m\u001b[1;33m:\u001b[0m\u001b[1;33m\u001b[0m\u001b[0m\n\u001b[1;32m--> 548\u001b[1;33m             \u001b[1;32mreturn\u001b[0m \u001b[0mself\u001b[0m\u001b[1;33m.\u001b[0m\u001b[0m_make_wrapper\u001b[0m\u001b[1;33m(\u001b[0m\u001b[0mattr\u001b[0m\u001b[1;33m)\u001b[0m\u001b[1;33m\u001b[0m\u001b[0m\n\u001b[0m\u001b[0;32m    549\u001b[0m \u001b[1;33m\u001b[0m\u001b[0m\n\u001b[0;32m    550\u001b[0m         raise AttributeError(\"%r object has no attribute %r\" %\n",
      "\u001b[1;32m~\\Anaconda3\\lib\\site-packages\\pandas\\core\\groupby.py\u001b[0m in \u001b[0;36m_make_wrapper\u001b[1;34m(self, name)\u001b[0m\n\u001b[0;32m    560\u001b[0m                    \"using the 'apply' method\".format(kind, name,\n\u001b[0;32m    561\u001b[0m                                                      type(self).__name__))\n\u001b[1;32m--> 562\u001b[1;33m             \u001b[1;32mraise\u001b[0m \u001b[0mAttributeError\u001b[0m\u001b[1;33m(\u001b[0m\u001b[0mmsg\u001b[0m\u001b[1;33m)\u001b[0m\u001b[1;33m\u001b[0m\u001b[0m\n\u001b[0m\u001b[0;32m    563\u001b[0m \u001b[1;33m\u001b[0m\u001b[0m\n\u001b[0;32m    564\u001b[0m         \u001b[1;31m# need to setup the selection\u001b[0m\u001b[1;33m\u001b[0m\u001b[1;33m\u001b[0m\u001b[0m\n",
      "\u001b[1;31mAttributeError\u001b[0m: Cannot access attribute 'index' of 'SeriesGroupBy' objects, try using the 'apply' method"
     ]
    }
   ],
   "source": [
    "df_trip = df.pivot_table(index=\"pickup_month\", columns=\"pickup_hour\", aggfunc=\"wday\")"
   ]
  },
  {
   "cell_type": "code",
   "execution_count": null,
   "metadata": {
    "collapsed": true
   },
   "outputs": [],
   "source": [
    "from statsmodels.datasets.longley import load_pandas\n",
    "dfy = load_pandas().endog\n",
    "dfX0 = load_pandas().exog\n",
    "df = pd.concat([dfy, dfX], axis=1)\n",
    "sns.pairplot(dfX0)\n",
    "plt.show()"
   ]
  },
  {
   "cell_type": "code",
   "execution_count": null,
   "metadata": {
    "collapsed": true
   },
   "outputs": [],
   "source": [
    "dfX0_boston = pd.DataFrame(boston.data, columns=boston.feature_names)\n",
    "dfX_boston = sm.add_constant(dfX0_boston)"
   ]
  },
  {
   "cell_type": "code",
   "execution_count": null,
   "metadata": {
    "collapsed": true
   },
   "outputs": [],
   "source": [
    "dfX0 =  pd.DataFrame(taxi.data, columns = df)"
   ]
  },
  {
   "cell_type": "code",
   "execution_count": 82,
   "metadata": {},
   "outputs": [
    {
     "ename": "TypeError",
     "evalue": "corr() missing 1 required positional argument: 'other'",
     "output_type": "error",
     "traceback": [
      "\u001b[1;31m---------------------------------------------------------------------------\u001b[0m",
      "\u001b[1;31mTypeError\u001b[0m                                 Traceback (most recent call last)",
      "\u001b[1;32m<ipython-input-82-5b69af7cc497>\u001b[0m in \u001b[0;36m<module>\u001b[1;34m()\u001b[0m\n\u001b[1;32m----> 1\u001b[1;33m \u001b[0msns\u001b[0m\u001b[1;33m.\u001b[0m\u001b[0mheatmap\u001b[0m\u001b[1;33m(\u001b[0m\u001b[0mdf\u001b[0m\u001b[1;33m.\u001b[0m\u001b[0mspeed\u001b[0m\u001b[1;33m,\u001b[0m \u001b[0mdf\u001b[0m\u001b[1;33m.\u001b[0m\u001b[0mdistance\u001b[0m\u001b[1;33m.\u001b[0m\u001b[0mcorr\u001b[0m\u001b[1;33m(\u001b[0m\u001b[1;33m)\u001b[0m\u001b[1;33m)\u001b[0m\u001b[1;33m\u001b[0m\u001b[0m\n\u001b[0m\u001b[0;32m      2\u001b[0m \u001b[0mplt\u001b[0m\u001b[1;33m.\u001b[0m\u001b[0mshow\u001b[0m\u001b[1;33m(\u001b[0m\u001b[1;33m)\u001b[0m\u001b[1;33m\u001b[0m\u001b[0m\n",
      "\u001b[1;31mTypeError\u001b[0m: corr() missing 1 required positional argument: 'other'"
     ]
    }
   ],
   "source": [
    "sns.heatmap(df.speed, df.distance.corr())\n",
    "plt.show()"
   ]
  },
  {
   "cell_type": "code",
   "execution_count": 75,
   "metadata": {},
   "outputs": [
    {
     "ename": "AttributeError",
     "evalue": "Cannot access attribute 'index' of 'SeriesGroupBy' objects, try using the 'apply' method",
     "output_type": "error",
     "traceback": [
      "\u001b[1;31m---------------------------------------------------------------------------\u001b[0m",
      "\u001b[1;31mAttributeError\u001b[0m                            Traceback (most recent call last)",
      "\u001b[1;32m<ipython-input-75-11fd334c8ec5>\u001b[0m in \u001b[0;36m<module>\u001b[1;34m()\u001b[0m\n\u001b[1;32m----> 1\u001b[1;33m \u001b[0msns\u001b[0m\u001b[1;33m.\u001b[0m\u001b[0mheatmap\u001b[0m\u001b[1;33m(\u001b[0m\u001b[0mdf\u001b[0m\u001b[1;33m.\u001b[0m\u001b[0mpivot_table\u001b[0m\u001b[1;33m(\u001b[0m\u001b[0mindex\u001b[0m\u001b[1;33m=\u001b[0m\u001b[1;34m\"wday\"\u001b[0m\u001b[1;33m,\u001b[0m \u001b[0mcolumns\u001b[0m\u001b[1;33m=\u001b[0m\u001b[1;34m\"pickup_hour\"\u001b[0m\u001b[1;33m,\u001b[0m \u001b[0maggfunc\u001b[0m\u001b[1;33m=\u001b[0m\u001b[1;34m\"logtrip_duration\"\u001b[0m\u001b[1;33m)\u001b[0m\u001b[1;33m,\u001b[0m \u001b[0mannot\u001b[0m\u001b[1;33m=\u001b[0m\u001b[1;32mTrue\u001b[0m\u001b[1;33m,\u001b[0m \u001b[0mfmt\u001b[0m\u001b[1;33m=\u001b[0m\u001b[1;34m\"d\"\u001b[0m\u001b[1;33m)\u001b[0m\u001b[1;33m\u001b[0m\u001b[0m\n\u001b[0m\u001b[0;32m      2\u001b[0m \u001b[0mplt\u001b[0m\u001b[1;33m.\u001b[0m\u001b[0mshow\u001b[0m\u001b[1;33m(\u001b[0m\u001b[1;33m)\u001b[0m\u001b[1;33m\u001b[0m\u001b[0m\n",
      "\u001b[1;32m~\\Anaconda3\\lib\\site-packages\\pandas\\core\\reshape\\pivot.py\u001b[0m in \u001b[0;36mpivot_table\u001b[1;34m(data, values, index, columns, aggfunc, fill_value, margins, dropna, margins_name)\u001b[0m\n\u001b[0;32m    137\u001b[0m \u001b[1;33m\u001b[0m\u001b[0m\n\u001b[0;32m    138\u001b[0m     \u001b[0mtable\u001b[0m \u001b[1;33m=\u001b[0m \u001b[0magged\u001b[0m\u001b[1;33m\u001b[0m\u001b[0m\n\u001b[1;32m--> 139\u001b[1;33m     \u001b[1;32mif\u001b[0m \u001b[0mtable\u001b[0m\u001b[1;33m.\u001b[0m\u001b[0mindex\u001b[0m\u001b[1;33m.\u001b[0m\u001b[0mnlevels\u001b[0m \u001b[1;33m>\u001b[0m \u001b[1;36m1\u001b[0m\u001b[1;33m:\u001b[0m\u001b[1;33m\u001b[0m\u001b[0m\n\u001b[0m\u001b[0;32m    140\u001b[0m         to_unstack = [agged.index.names[i] or i\n\u001b[0;32m    141\u001b[0m                       for i in range(len(index), len(keys))]\n",
      "\u001b[1;32m~\\Anaconda3\\lib\\site-packages\\pandas\\core\\groupby.py\u001b[0m in \u001b[0;36m__getattr__\u001b[1;34m(self, attr)\u001b[0m\n\u001b[0;32m    546\u001b[0m             \u001b[1;32mreturn\u001b[0m \u001b[0mself\u001b[0m\u001b[1;33m[\u001b[0m\u001b[0mattr\u001b[0m\u001b[1;33m]\u001b[0m\u001b[1;33m\u001b[0m\u001b[0m\n\u001b[0;32m    547\u001b[0m         \u001b[1;32mif\u001b[0m \u001b[0mhasattr\u001b[0m\u001b[1;33m(\u001b[0m\u001b[0mself\u001b[0m\u001b[1;33m.\u001b[0m\u001b[0mobj\u001b[0m\u001b[1;33m,\u001b[0m \u001b[0mattr\u001b[0m\u001b[1;33m)\u001b[0m\u001b[1;33m:\u001b[0m\u001b[1;33m\u001b[0m\u001b[0m\n\u001b[1;32m--> 548\u001b[1;33m             \u001b[1;32mreturn\u001b[0m \u001b[0mself\u001b[0m\u001b[1;33m.\u001b[0m\u001b[0m_make_wrapper\u001b[0m\u001b[1;33m(\u001b[0m\u001b[0mattr\u001b[0m\u001b[1;33m)\u001b[0m\u001b[1;33m\u001b[0m\u001b[0m\n\u001b[0m\u001b[0;32m    549\u001b[0m \u001b[1;33m\u001b[0m\u001b[0m\n\u001b[0;32m    550\u001b[0m         raise AttributeError(\"%r object has no attribute %r\" %\n",
      "\u001b[1;32m~\\Anaconda3\\lib\\site-packages\\pandas\\core\\groupby.py\u001b[0m in \u001b[0;36m_make_wrapper\u001b[1;34m(self, name)\u001b[0m\n\u001b[0;32m    560\u001b[0m                    \"using the 'apply' method\".format(kind, name,\n\u001b[0;32m    561\u001b[0m                                                      type(self).__name__))\n\u001b[1;32m--> 562\u001b[1;33m             \u001b[1;32mraise\u001b[0m \u001b[0mAttributeError\u001b[0m\u001b[1;33m(\u001b[0m\u001b[0mmsg\u001b[0m\u001b[1;33m)\u001b[0m\u001b[1;33m\u001b[0m\u001b[0m\n\u001b[0m\u001b[0;32m    563\u001b[0m \u001b[1;33m\u001b[0m\u001b[0m\n\u001b[0;32m    564\u001b[0m         \u001b[1;31m# need to setup the selection\u001b[0m\u001b[1;33m\u001b[0m\u001b[1;33m\u001b[0m\u001b[0m\n",
      "\u001b[1;31mAttributeError\u001b[0m: Cannot access attribute 'index' of 'SeriesGroupBy' objects, try using the 'apply' method"
     ]
    }
   ],
   "source": [
    "sns.heatmap(, annot=True, fmt=\"d\")\n",
    "plt.show()"
   ]
  },
  {
   "cell_type": "code",
   "execution_count": 72,
   "metadata": {},
   "outputs": [
    {
     "data": {
      "image/png": "[encoded data removed]",
      "text/plain": [
       "<matplotlib.figure.Figure at 0x212dd502278>"
      ]
     },
     "metadata": {},
     "output_type": "display_data"
    }
   ],
   "source": [
    "df.boxplot(\"speed\", \"wday\")\n",
    "plt.ylim(0, 40)\n",
    "plt.show()"
   ]
  },
  {
   "cell_type": "code",
   "execution_count": 27,
   "metadata": {},
   "outputs": [
    {
     "data": {
      "image/png": "[encoded data removed]",
      "text/plain": [
       "<matplotlib.figure.Figure at 0x212c54f1860>"
      ]
     },
     "metadata": {},
     "output_type": "display_data"
    }
   ],
   "source": [
    "sns.kdeplot(df.pickup_hour) # kernel density grahp (높이(x가 뽑힐 확률)는 큰 의미 없음, 넓이가 중요(넓이의 합은 1))\n",
    "plt.show()"
   ]
  },
  {
   "cell_type": "code",
   "execution_count": 28,
   "metadata": {},
   "outputs": [
    {
     "data": {
      "image/png": "[encoded data removed]",
      "text/plain": [
       "<matplotlib.figure.Figure at 0x212c5458898>"
      ]
     },
     "metadata": {},
     "output_type": "display_data"
    }
   ],
   "source": [
    "df.boxplot(\"logtrip_duration\", \"wday\")\n",
    "plt.ylim(4, 9)\n",
    "plt.show()"
   ]
  },
  {
   "cell_type": "code",
   "execution_count": 29,
   "metadata": {
    "scrolled": true
   },
   "outputs": [
    {
     "data": {
      "image/png": "[encoded data removed]",
      "text/plain": [
       "<matplotlib.figure.Figure at 0x212bc9deb00>"
      ]
     },
     "metadata": {},
     "output_type": "display_data"
    }
   ],
   "source": [
    "sns.stripplot(x=\"wday\", y=\"trip_duration\", data=df, jitter=True, alpha=.3)\n",
    "sns.pointplot(x=\"wday\", y=\"trip_duration\", data=df, dodge=True, color='r')\n",
    "plt.show()"
   ]
  },
  {
   "cell_type": "code",
   "execution_count": 24,
   "metadata": {
    "scrolled": false
   },
   "outputs": [
    {
     "data": {
      "image/png": "[encoded data removed]",
      "text/plain": [
       "<matplotlib.figure.Figure at 0x187625d0668>"
      ]
     },
     "metadata": {},
     "output_type": "display_data"
    }
   ],
   "source": [
    "sns.stripplot(x=\"wday\", y=\"logtrip_duration\", data=df, jitter=True, alpha=.3)\n",
    "sns.pointplot(x=\"wday\", y=\"logtrip_duration\", data=df, dodge=True, color='r')\n",
    "plt.ylim(0, 12)\n",
    "plt.show()"
   ]
  },
  {
   "cell_type": "markdown",
   "metadata": {},
   "source": [
    "* 요일, logtrip_duration, 탑승 시각을 그래프로 확인"
   ]
  },
  {
   "cell_type": "code",
   "execution_count": 66,
   "metadata": {
    "scrolled": false
   },
   "outputs": [
    {
     "ename": "KeyboardInterrupt",
     "evalue": "",
     "output_type": "error",
     "traceback": [
      "\u001b[1;31m---------------------------------------------------------------------------\u001b[0m",
      "\u001b[1;31mKeyboardInterrupt\u001b[0m                         Traceback (most recent call last)",
      "\u001b[1;32m<ipython-input-66-81de03308b48>\u001b[0m in \u001b[0;36m<module>\u001b[1;34m()\u001b[0m\n\u001b[1;32m----> 1\u001b[1;33m \u001b[0msns\u001b[0m\u001b[1;33m.\u001b[0m\u001b[0mstripplot\u001b[0m\u001b[1;33m(\u001b[0m\u001b[0mx\u001b[0m\u001b[1;33m=\u001b[0m\u001b[1;34m\"distance\"\u001b[0m\u001b[1;33m,\u001b[0m \u001b[0my\u001b[0m\u001b[1;33m=\u001b[0m\u001b[1;34m\"speed\"\u001b[0m\u001b[1;33m,\u001b[0m \u001b[0mhue\u001b[0m \u001b[1;33m=\u001b[0m \u001b[1;34m\"wday\"\u001b[0m\u001b[1;33m,\u001b[0m \u001b[0mdata\u001b[0m \u001b[1;33m=\u001b[0m \u001b[0mdf\u001b[0m\u001b[1;33m,\u001b[0m \u001b[0mjitter\u001b[0m \u001b[1;33m=\u001b[0m \u001b[1;32mTrue\u001b[0m\u001b[1;33m)\u001b[0m\u001b[1;33m\u001b[0m\u001b[0m\n\u001b[0m\u001b[0;32m      2\u001b[0m \u001b[0mplt\u001b[0m\u001b[1;33m.\u001b[0m\u001b[0mylim\u001b[0m\u001b[1;33m(\u001b[0m\u001b[1;36m0\u001b[0m\u001b[1;33m,\u001b[0m \u001b[1;36m12\u001b[0m\u001b[1;33m)\u001b[0m\u001b[1;33m\u001b[0m\u001b[0m\n\u001b[0;32m      3\u001b[0m \u001b[0mplt\u001b[0m\u001b[1;33m.\u001b[0m\u001b[0mlegend\u001b[0m\u001b[1;33m(\u001b[0m\u001b[0mbbox_to_anchor\u001b[0m\u001b[1;33m=\u001b[0m\u001b[1;33m(\u001b[0m\u001b[1;36m1\u001b[0m\u001b[1;33m,\u001b[0m \u001b[1;36m1\u001b[0m\u001b[1;33m)\u001b[0m\u001b[1;33m,\u001b[0m \u001b[0mloc\u001b[0m\u001b[1;33m=\u001b[0m\u001b[1;36m2\u001b[0m\u001b[1;33m,\u001b[0m \u001b[0mborderaxespad\u001b[0m\u001b[1;33m=\u001b[0m\u001b[1;36m0.1\u001b[0m\u001b[1;33m)\u001b[0m\u001b[1;33m\u001b[0m\u001b[0m\n\u001b[0;32m      4\u001b[0m \u001b[0mplt\u001b[0m\u001b[1;33m.\u001b[0m\u001b[0mshow\u001b[0m\u001b[1;33m(\u001b[0m\u001b[1;33m)\u001b[0m\u001b[1;33m\u001b[0m\u001b[0m\n",
      "\u001b[1;32m~\\Anaconda3\\lib\\site-packages\\seaborn\\categorical.py\u001b[0m in \u001b[0;36mstripplot\u001b[1;34m(x, y, hue, data, order, hue_order, jitter, dodge, orient, color, palette, size, edgecolor, linewidth, ax, **kwargs)\u001b[0m\n\u001b[0;32m   2582\u001b[0m                        linewidth=linewidth))\n\u001b[0;32m   2583\u001b[0m \u001b[1;33m\u001b[0m\u001b[0m\n\u001b[1;32m-> 2584\u001b[1;33m     \u001b[0mplotter\u001b[0m\u001b[1;33m.\u001b[0m\u001b[0mplot\u001b[0m\u001b[1;33m(\u001b[0m\u001b[0max\u001b[0m\u001b[1;33m,\u001b[0m \u001b[0mkwargs\u001b[0m\u001b[1;33m)\u001b[0m\u001b[1;33m\u001b[0m\u001b[0m\n\u001b[0m\u001b[0;32m   2585\u001b[0m     \u001b[1;32mreturn\u001b[0m \u001b[0max\u001b[0m\u001b[1;33m\u001b[0m\u001b[0m\n\u001b[0;32m   2586\u001b[0m \u001b[1;33m\u001b[0m\u001b[0m\n",
      "\u001b[1;32m~\\Anaconda3\\lib\\site-packages\\seaborn\\categorical.py\u001b[0m in \u001b[0;36mplot\u001b[1;34m(self, ax, kws)\u001b[0m\n\u001b[0;32m   1179\u001b[0m     \u001b[1;32mdef\u001b[0m \u001b[0mplot\u001b[0m\u001b[1;33m(\u001b[0m\u001b[0mself\u001b[0m\u001b[1;33m,\u001b[0m \u001b[0max\u001b[0m\u001b[1;33m,\u001b[0m \u001b[0mkws\u001b[0m\u001b[1;33m)\u001b[0m\u001b[1;33m:\u001b[0m\u001b[1;33m\u001b[0m\u001b[0m\n\u001b[0;32m   1180\u001b[0m         \u001b[1;34m\"\"\"Make the plot.\"\"\"\u001b[0m\u001b[1;33m\u001b[0m\u001b[0m\n\u001b[1;32m-> 1181\u001b[1;33m         \u001b[0mself\u001b[0m\u001b[1;33m.\u001b[0m\u001b[0mdraw_stripplot\u001b[0m\u001b[1;33m(\u001b[0m\u001b[0max\u001b[0m\u001b[1;33m,\u001b[0m \u001b[0mkws\u001b[0m\u001b[1;33m)\u001b[0m\u001b[1;33m\u001b[0m\u001b[0m\n\u001b[0m\u001b[0;32m   1182\u001b[0m         \u001b[0mself\u001b[0m\u001b[1;33m.\u001b[0m\u001b[0madd_legend_data\u001b[0m\u001b[1;33m(\u001b[0m\u001b[0max\u001b[0m\u001b[1;33m)\u001b[0m\u001b[1;33m\u001b[0m\u001b[0m\n\u001b[0;32m   1183\u001b[0m         \u001b[0mself\u001b[0m\u001b[1;33m.\u001b[0m\u001b[0mannotate_axes\u001b[0m\u001b[1;33m(\u001b[0m\u001b[0max\u001b[0m\u001b[1;33m)\u001b[0m\u001b[1;33m\u001b[0m\u001b[0m\n",
      "\u001b[1;32m~\\Anaconda3\\lib\\site-packages\\seaborn\\categorical.py\u001b[0m in \u001b[0;36mdraw_stripplot\u001b[1;34m(self, ax, kws)\u001b[0m\n\u001b[0;32m   1155\u001b[0m                 \u001b[0mcat_pos\u001b[0m \u001b[1;33m=\u001b[0m \u001b[0mnp\u001b[0m\u001b[1;33m.\u001b[0m\u001b[0mones\u001b[0m\u001b[1;33m(\u001b[0m\u001b[0mstrip_data\u001b[0m\u001b[1;33m.\u001b[0m\u001b[0msize\u001b[0m\u001b[1;33m)\u001b[0m \u001b[1;33m*\u001b[0m \u001b[0mi\u001b[0m\u001b[1;33m\u001b[0m\u001b[0m\n\u001b[0;32m   1156\u001b[0m                 \u001b[0mcat_pos\u001b[0m \u001b[1;33m+=\u001b[0m \u001b[0mself\u001b[0m\u001b[1;33m.\u001b[0m\u001b[0mjitterer\u001b[0m\u001b[1;33m(\u001b[0m\u001b[0mlen\u001b[0m\u001b[1;33m(\u001b[0m\u001b[0mstrip_data\u001b[0m\u001b[1;33m)\u001b[0m\u001b[1;33m)\u001b[0m\u001b[1;33m\u001b[0m\u001b[0m\n\u001b[1;32m-> 1157\u001b[1;33m                 \u001b[0mkws\u001b[0m\u001b[1;33m.\u001b[0m\u001b[0mupdate\u001b[0m\u001b[1;33m(\u001b[0m\u001b[0mc\u001b[0m\u001b[1;33m=\u001b[0m\u001b[0mself\u001b[0m\u001b[1;33m.\u001b[0m\u001b[0mpoint_colors\u001b[0m\u001b[1;33m[\u001b[0m\u001b[0mi\u001b[0m\u001b[1;33m]\u001b[0m\u001b[1;33m[\u001b[0m\u001b[0mhue_mask\u001b[0m\u001b[1;33m]\u001b[0m\u001b[1;33m)\u001b[0m\u001b[1;33m\u001b[0m\u001b[0m\n\u001b[0m\u001b[0;32m   1158\u001b[0m                 \u001b[1;32mif\u001b[0m \u001b[0mself\u001b[0m\u001b[1;33m.\u001b[0m\u001b[0morient\u001b[0m \u001b[1;33m==\u001b[0m \u001b[1;34m\"v\"\u001b[0m\u001b[1;33m:\u001b[0m\u001b[1;33m\u001b[0m\u001b[0m\n\u001b[0;32m   1159\u001b[0m                     \u001b[0max\u001b[0m\u001b[1;33m.\u001b[0m\u001b[0mscatter\u001b[0m\u001b[1;33m(\u001b[0m\u001b[0mcat_pos\u001b[0m\u001b[1;33m,\u001b[0m \u001b[0mstrip_data\u001b[0m\u001b[1;33m,\u001b[0m \u001b[1;33m**\u001b[0m\u001b[0mkws\u001b[0m\u001b[1;33m)\u001b[0m\u001b[1;33m\u001b[0m\u001b[0m\n",
      "\u001b[1;32m~\\Anaconda3\\lib\\site-packages\\seaborn\\categorical.py\u001b[0m in \u001b[0;36mpoint_colors\u001b[1;34m(self)\u001b[0m\n\u001b[0;32m   1099\u001b[0m                     \u001b[0mhue_color\u001b[0m \u001b[1;33m=\u001b[0m \u001b[0mself\u001b[0m\u001b[1;33m.\u001b[0m\u001b[0mcolors\u001b[0m\u001b[1;33m[\u001b[0m\u001b[0mj\u001b[0m\u001b[1;33m]\u001b[0m\u001b[1;33m\u001b[0m\u001b[0m\n\u001b[0;32m   1100\u001b[0m                     \u001b[1;32mif\u001b[0m \u001b[0mgroup_data\u001b[0m\u001b[1;33m.\u001b[0m\u001b[0msize\u001b[0m\u001b[1;33m:\u001b[0m\u001b[1;33m\u001b[0m\u001b[0m\n\u001b[1;32m-> 1101\u001b[1;33m                         \u001b[0mgroup_colors\u001b[0m\u001b[1;33m[\u001b[0m\u001b[0mself\u001b[0m\u001b[1;33m.\u001b[0m\u001b[0mplot_hues\u001b[0m\u001b[1;33m[\u001b[0m\u001b[0mi\u001b[0m\u001b[1;33m]\u001b[0m \u001b[1;33m==\u001b[0m \u001b[0mlevel\u001b[0m\u001b[1;33m]\u001b[0m \u001b[1;33m=\u001b[0m \u001b[0mhue_color\u001b[0m\u001b[1;33m\u001b[0m\u001b[0m\n\u001b[0m\u001b[0;32m   1102\u001b[0m \u001b[1;33m\u001b[0m\u001b[0m\n\u001b[0;32m   1103\u001b[0m             \u001b[0mcolors\u001b[0m\u001b[1;33m.\u001b[0m\u001b[0mappend\u001b[0m\u001b[1;33m(\u001b[0m\u001b[0mgroup_colors\u001b[0m\u001b[1;33m)\u001b[0m\u001b[1;33m\u001b[0m\u001b[0m\n",
      "\u001b[1;31mKeyboardInterrupt\u001b[0m: "
     ]
    }
   ],
   "source": [
    "sns.stripplot(x=\"distance\", y=\"speed\", hue = \"wday\", data = df, jitter = True)\n",
    "plt.ylim(0, 12)\n",
    "plt.legend(bbox_to_anchor=(1, 1), loc=2, borderaxespad=0.1)\n",
    "plt.show()"
   ]
  },
  {
   "cell_type": "markdown",
   "metadata": {},
   "source": [
    "#### tip : 기존 dataframe에 변수를 추가했을 때 활용할 수 있는 명령어(변수명 변경, 변수 삭제, 변수 순서 변경)\n",
    "* 변수명(column) 변경(rename)\n",
    "    * 방법1 : df = df.rename(columns = {'oldname1' : 'newname1', 'oldname2' : 'newname2'})\n",
    "    * 방법2 : df.rename(columns = {'oldname1' : 'newname1', 'oldname2' : 'newname2'}, inplace = True)\n",
    "* 잘못 생성한 변수(column) 삭제(drop)\n",
    "    * 방법1 : df = df.drop('column_name', axis = 1)  \n",
    "    *axis = 1은 dataframe의 column을 의미(0은 row)*\n",
    "    * 방법2 : df.drop('column_name', axis = 1, inplace = True)\n",
    "* 변수(column) 순서 변경(order or insert)\n",
    "    * 방법1 : df = df.[['column1', 'column2']]\n",
    "    * 방법2 : 특정자리에 특정 변수 삽입\n",
    "        * get a list of columns   \n",
    "        cols = list(df)\n",
    "        * move the column to head of list using index, pop and insert  \n",
    "        cols.insert(0, cols.pop(cols.index('column_name')))\n",
    "        * use loc to reorder(라벨을 활용할 경우 loc, 위치 index를 활용할 경우 iloc)  \n",
    "        df = df.loc[:, cols]                  "
   ]
  },
  {
   "cell_type": "code",
   "execution_count": 75,
   "metadata": {
    "collapsed": true
   },
   "outputs": [],
   "source": [
    "# 변수 순서 조정\n",
    "cols = list(df) # dataframe을 list로 type변환 -> 변수명만 포함한 리스트(cols) 생성\n",
    "cols.insert(0, cols.pop(cols.index('trip_duration'))) # 종속변수를 잘라내어(pop) cols맨 앞(index 0)에 삽입(insert)\n",
    "cols.insert(1, cols.pop(cols.index('logtrip_duration')))\n",
    "cols.insert(2, cols.pop(cols.index('pickup_month'))) # 독립변수1를 잘라내어(pop) index 2에 삽입(insert)\n",
    "cols.insert(3, cols.pop(cols.index('wday')))\n",
    "cols.insert(4, cols.pop(cols.index('vendor_id')))\n",
    "cols.insert(5, cols.pop(cols.index('pickup_day')))\n",
    "cols.insert(6, cols.pop(cols.index('pickup_hour')))\n",
    "cols.insert(7, cols.pop(cols.index('passenger_count')))\n",
    "cols.insert(8, cols.pop(cols.index('trip_c')))\n",
    "cols.insert(9, cols.pop(cols.index('pickup_month_c')))\n",
    "cols.insert(10, cols.pop(cols.index('wday_c')))\n",
    "cols.insert(11, cols.pop(cols.index('average_temperature_y')))\n",
    "cols.insert(12, cols.pop(cols.index('distance')))\n",
    "cols.insert(13, cols.pop(cols.index('speed')))\n",
    "\n",
    "df = df.loc[:, cols] # 행은 그대로, 열은 cols(변수명 리스트)로 다시 구성"
   ]
  },
  {
   "cell_type": "code",
   "execution_count": null,
   "metadata": {
    "collapsed": true
   },
   "outputs": [],
   "source": [
    "clos_real = ['passenger_count' ]"
   ]
  },
  {
   "cell_type": "code",
   "execution_count": 37,
   "metadata": {
    "collapsed": true
   },
   "outputs": [],
   "source": [
    "cols_cat = ['vendor_id', 'pickup_month', 'wday', 'pickup_hour', 'trip_c']"
   ]
  },
  {
   "cell_type": "code",
   "execution_count": 44,
   "metadata": {},
   "outputs": [
    {
     "data": {
      "text/html": [
       "<div>\n",
       "<style>\n",
       "    .dataframe thead tr:only-child th {\n",
       "        text-align: right;\n",
       "    }\n",
       "\n",
       "    .dataframe thead th {\n",
       "        text-align: left;\n",
       "    }\n",
       "\n",
       "    .dataframe tbody tr th {\n",
       "        vertical-align: top;\n",
       "    }\n",
       "</style>\n",
       "<table border=\"1\" class=\"dataframe\">\n",
       "  <thead>\n",
       "    <tr style=\"text-align: right;\">\n",
       "      <th></th>\n",
       "      <th>trip_duration</th>\n",
       "      <th>logtrip_duration</th>\n",
       "      <th>pickup_month</th>\n",
       "      <th>wday</th>\n",
       "      <th>vendor_id</th>\n",
       "      <th>pickup_day</th>\n",
       "      <th>pickup_hour</th>\n",
       "      <th>passenger_count</th>\n",
       "      <th>trip_c</th>\n",
       "      <th>pickup_month_c</th>\n",
       "      <th>...</th>\n",
       "      <th>pickup_datetime</th>\n",
       "      <th>dropoff_datetime</th>\n",
       "      <th>pickup_longitude</th>\n",
       "      <th>pickup_latitude</th>\n",
       "      <th>dropoff_longitude</th>\n",
       "      <th>dropoff_latitude</th>\n",
       "      <th>store_and_fwd_flag</th>\n",
       "      <th>pickup_year</th>\n",
       "      <th>yday</th>\n",
       "      <th>nwday</th>\n",
       "    </tr>\n",
       "  </thead>\n",
       "  <tbody>\n",
       "    <tr>\n",
       "      <th>241061</th>\n",
       "      <td>1000</td>\n",
       "      <td>6.908755</td>\n",
       "      <td>3</td>\n",
       "      <td>0</td>\n",
       "      <td>1</td>\n",
       "      <td>21</td>\n",
       "      <td>14</td>\n",
       "      <td>1</td>\n",
       "      <td>0</td>\n",
       "      <td>1</td>\n",
       "      <td>...</td>\n",
       "      <td>2016-03-21 14:34:00</td>\n",
       "      <td>2016-03-21 14:50:00</td>\n",
       "      <td>-73.971970</td>\n",
       "      <td>40.761642</td>\n",
       "      <td>-73.991158</td>\n",
       "      <td>40.750072</td>\n",
       "      <td>N</td>\n",
       "      <td>2016</td>\n",
       "      <td>81</td>\n",
       "      <td>Monday</td>\n",
       "    </tr>\n",
       "    <tr>\n",
       "      <th>685646</th>\n",
       "      <td>730</td>\n",
       "      <td>6.594413</td>\n",
       "      <td>1</td>\n",
       "      <td>0</td>\n",
       "      <td>2</td>\n",
       "      <td>4</td>\n",
       "      <td>11</td>\n",
       "      <td>1</td>\n",
       "      <td>0</td>\n",
       "      <td>0</td>\n",
       "      <td>...</td>\n",
       "      <td>2016-01-04 11:59:00</td>\n",
       "      <td>2016-01-04 12:11:00</td>\n",
       "      <td>-73.998474</td>\n",
       "      <td>40.745346</td>\n",
       "      <td>-73.988899</td>\n",
       "      <td>40.777729</td>\n",
       "      <td>N</td>\n",
       "      <td>2016</td>\n",
       "      <td>4</td>\n",
       "      <td>Monday</td>\n",
       "    </tr>\n",
       "    <tr>\n",
       "      <th>431330</th>\n",
       "      <td>1486</td>\n",
       "      <td>7.304516</td>\n",
       "      <td>2</td>\n",
       "      <td>3</td>\n",
       "      <td>1</td>\n",
       "      <td>18</td>\n",
       "      <td>22</td>\n",
       "      <td>3</td>\n",
       "      <td>0</td>\n",
       "      <td>0</td>\n",
       "      <td>...</td>\n",
       "      <td>2016-02-18 22:32:00</td>\n",
       "      <td>2016-02-18 22:56:00</td>\n",
       "      <td>-73.989792</td>\n",
       "      <td>40.746990</td>\n",
       "      <td>-73.960960</td>\n",
       "      <td>40.766827</td>\n",
       "      <td>N</td>\n",
       "      <td>2016</td>\n",
       "      <td>49</td>\n",
       "      <td>Thursday</td>\n",
       "    </tr>\n",
       "    <tr>\n",
       "      <th>356863</th>\n",
       "      <td>452</td>\n",
       "      <td>6.115892</td>\n",
       "      <td>3</td>\n",
       "      <td>2</td>\n",
       "      <td>1</td>\n",
       "      <td>2</td>\n",
       "      <td>13</td>\n",
       "      <td>2</td>\n",
       "      <td>0</td>\n",
       "      <td>1</td>\n",
       "      <td>...</td>\n",
       "      <td>2016-03-02 13:41:00</td>\n",
       "      <td>2016-03-02 13:48:00</td>\n",
       "      <td>-73.979637</td>\n",
       "      <td>40.752895</td>\n",
       "      <td>-73.981476</td>\n",
       "      <td>40.759377</td>\n",
       "      <td>N</td>\n",
       "      <td>2016</td>\n",
       "      <td>62</td>\n",
       "      <td>Wednesday</td>\n",
       "    </tr>\n",
       "    <tr>\n",
       "      <th>225044</th>\n",
       "      <td>566</td>\n",
       "      <td>6.340359</td>\n",
       "      <td>3</td>\n",
       "      <td>3</td>\n",
       "      <td>1</td>\n",
       "      <td>24</td>\n",
       "      <td>10</td>\n",
       "      <td>2</td>\n",
       "      <td>0</td>\n",
       "      <td>1</td>\n",
       "      <td>...</td>\n",
       "      <td>2016-03-24 10:59:00</td>\n",
       "      <td>2016-03-24 11:08:00</td>\n",
       "      <td>-73.994743</td>\n",
       "      <td>40.745583</td>\n",
       "      <td>-74.006577</td>\n",
       "      <td>40.732033</td>\n",
       "      <td>N</td>\n",
       "      <td>2016</td>\n",
       "      <td>84</td>\n",
       "      <td>Thursday</td>\n",
       "    </tr>\n",
       "  </tbody>\n",
       "</table>\n",
       "<p>5 rows × 22 columns</p>\n",
       "</div>"
      ],
      "text/plain": [
       "        trip_duration  logtrip_duration pickup_month wday vendor_id  \\\n",
       "241061           1000          6.908755            3    0         1   \n",
       "685646            730          6.594413            1    0         2   \n",
       "431330           1486          7.304516            2    3         1   \n",
       "356863            452          6.115892            3    2         1   \n",
       "225044            566          6.340359            3    3         1   \n",
       "\n",
       "       pickup_day pickup_hour  passenger_count trip_c pickup_month_c  \\\n",
       "241061         21          14                1      0              1   \n",
       "685646          4          11                1      0              0   \n",
       "431330         18          22                3      0              0   \n",
       "356863          2          13                2      0              1   \n",
       "225044         24          10                2      0              1   \n",
       "\n",
       "          ...         pickup_datetime    dropoff_datetime pickup_longitude  \\\n",
       "241061    ...     2016-03-21 14:34:00 2016-03-21 14:50:00       -73.971970   \n",
       "685646    ...     2016-01-04 11:59:00 2016-01-04 12:11:00       -73.998474   \n",
       "431330    ...     2016-02-18 22:32:00 2016-02-18 22:56:00       -73.989792   \n",
       "356863    ...     2016-03-02 13:41:00 2016-03-02 13:48:00       -73.979637   \n",
       "225044    ...     2016-03-24 10:59:00 2016-03-24 11:08:00       -73.994743   \n",
       "\n",
       "       pickup_latitude  dropoff_longitude  dropoff_latitude  \\\n",
       "241061       40.761642         -73.991158         40.750072   \n",
       "685646       40.745346         -73.988899         40.777729   \n",
       "431330       40.746990         -73.960960         40.766827   \n",
       "356863       40.752895         -73.981476         40.759377   \n",
       "225044       40.745583         -74.006577         40.732033   \n",
       "\n",
       "        store_and_fwd_flag  pickup_year yday      nwday  \n",
       "241061                   N         2016   81     Monday  \n",
       "685646                   N         2016    4     Monday  \n",
       "431330                   N         2016   49   Thursday  \n",
       "356863                   N         2016   62  Wednesday  \n",
       "225044                   N         2016   84   Thursday  \n",
       "\n",
       "[5 rows x 22 columns]"
      ]
     },
     "execution_count": 44,
     "metadata": {},
     "output_type": "execute_result"
    }
   ],
   "source": [
    "df.head()"
   ]
  },
  {
   "cell_type": "code",
   "execution_count": 45,
   "metadata": {},
   "outputs": [
    {
     "ename": "KeyError",
     "evalue": "\"['vendor_id' 'pickup_month' 'wday' 'pickup_hour' 'trip_c'] not in index\"",
     "output_type": "error",
     "traceback": [
      "\u001b[1;31m---------------------------------------------------------------------------\u001b[0m",
      "\u001b[1;31mKeyError\u001b[0m                                  Traceback (most recent call last)",
      "\u001b[1;32m<ipython-input-45-8052043b31c4>\u001b[0m in \u001b[0;36m<module>\u001b[1;34m()\u001b[0m\n\u001b[1;32m----> 1\u001b[1;33m \u001b[0mdfX_cat\u001b[0m \u001b[1;33m=\u001b[0m \u001b[0mdfX\u001b[0m\u001b[1;33m[\u001b[0m\u001b[0mcols_cat\u001b[0m\u001b[1;33m]\u001b[0m\u001b[1;33m\u001b[0m\u001b[0m\n\u001b[0m\u001b[0;32m      2\u001b[0m \u001b[0mprint\u001b[0m\u001b[1;33m(\u001b[0m\u001b[0mlen\u001b[0m\u001b[1;33m(\u001b[0m\u001b[0mdfX_cat\u001b[0m\u001b[1;33m.\u001b[0m\u001b[0mcolumns\u001b[0m\u001b[1;33m)\u001b[0m\u001b[1;33m)\u001b[0m\u001b[1;33m\u001b[0m\u001b[0m\n\u001b[0;32m      3\u001b[0m \u001b[0mdfX_cat\u001b[0m\u001b[1;33m.\u001b[0m\u001b[0mtail\u001b[0m\u001b[1;33m(\u001b[0m\u001b[1;33m)\u001b[0m\u001b[1;33m\u001b[0m\u001b[0m\n",
      "\u001b[1;32m~\\Anaconda3\\lib\\site-packages\\pandas\\core\\frame.py\u001b[0m in \u001b[0;36m__getitem__\u001b[1;34m(self, key)\u001b[0m\n\u001b[0;32m   1956\u001b[0m         \u001b[1;32mif\u001b[0m \u001b[0misinstance\u001b[0m\u001b[1;33m(\u001b[0m\u001b[0mkey\u001b[0m\u001b[1;33m,\u001b[0m \u001b[1;33m(\u001b[0m\u001b[0mSeries\u001b[0m\u001b[1;33m,\u001b[0m \u001b[0mnp\u001b[0m\u001b[1;33m.\u001b[0m\u001b[0mndarray\u001b[0m\u001b[1;33m,\u001b[0m \u001b[0mIndex\u001b[0m\u001b[1;33m,\u001b[0m \u001b[0mlist\u001b[0m\u001b[1;33m)\u001b[0m\u001b[1;33m)\u001b[0m\u001b[1;33m:\u001b[0m\u001b[1;33m\u001b[0m\u001b[0m\n\u001b[0;32m   1957\u001b[0m             \u001b[1;31m# either boolean or fancy integer index\u001b[0m\u001b[1;33m\u001b[0m\u001b[1;33m\u001b[0m\u001b[0m\n\u001b[1;32m-> 1958\u001b[1;33m             \u001b[1;32mreturn\u001b[0m \u001b[0mself\u001b[0m\u001b[1;33m.\u001b[0m\u001b[0m_getitem_array\u001b[0m\u001b[1;33m(\u001b[0m\u001b[0mkey\u001b[0m\u001b[1;33m)\u001b[0m\u001b[1;33m\u001b[0m\u001b[0m\n\u001b[0m\u001b[0;32m   1959\u001b[0m         \u001b[1;32melif\u001b[0m \u001b[0misinstance\u001b[0m\u001b[1;33m(\u001b[0m\u001b[0mkey\u001b[0m\u001b[1;33m,\u001b[0m \u001b[0mDataFrame\u001b[0m\u001b[1;33m)\u001b[0m\u001b[1;33m:\u001b[0m\u001b[1;33m\u001b[0m\u001b[0m\n\u001b[0;32m   1960\u001b[0m             \u001b[1;32mreturn\u001b[0m \u001b[0mself\u001b[0m\u001b[1;33m.\u001b[0m\u001b[0m_getitem_frame\u001b[0m\u001b[1;33m(\u001b[0m\u001b[0mkey\u001b[0m\u001b[1;33m)\u001b[0m\u001b[1;33m\u001b[0m\u001b[0m\n",
      "\u001b[1;32m~\\Anaconda3\\lib\\site-packages\\pandas\\core\\frame.py\u001b[0m in \u001b[0;36m_getitem_array\u001b[1;34m(self, key)\u001b[0m\n\u001b[0;32m   2000\u001b[0m             \u001b[1;32mreturn\u001b[0m \u001b[0mself\u001b[0m\u001b[1;33m.\u001b[0m\u001b[0mtake\u001b[0m\u001b[1;33m(\u001b[0m\u001b[0mindexer\u001b[0m\u001b[1;33m,\u001b[0m \u001b[0maxis\u001b[0m\u001b[1;33m=\u001b[0m\u001b[1;36m0\u001b[0m\u001b[1;33m,\u001b[0m \u001b[0mconvert\u001b[0m\u001b[1;33m=\u001b[0m\u001b[1;32mFalse\u001b[0m\u001b[1;33m)\u001b[0m\u001b[1;33m\u001b[0m\u001b[0m\n\u001b[0;32m   2001\u001b[0m         \u001b[1;32melse\u001b[0m\u001b[1;33m:\u001b[0m\u001b[1;33m\u001b[0m\u001b[0m\n\u001b[1;32m-> 2002\u001b[1;33m             \u001b[0mindexer\u001b[0m \u001b[1;33m=\u001b[0m \u001b[0mself\u001b[0m\u001b[1;33m.\u001b[0m\u001b[0mloc\u001b[0m\u001b[1;33m.\u001b[0m\u001b[0m_convert_to_indexer\u001b[0m\u001b[1;33m(\u001b[0m\u001b[0mkey\u001b[0m\u001b[1;33m,\u001b[0m \u001b[0maxis\u001b[0m\u001b[1;33m=\u001b[0m\u001b[1;36m1\u001b[0m\u001b[1;33m)\u001b[0m\u001b[1;33m\u001b[0m\u001b[0m\n\u001b[0m\u001b[0;32m   2003\u001b[0m             \u001b[1;32mreturn\u001b[0m \u001b[0mself\u001b[0m\u001b[1;33m.\u001b[0m\u001b[0mtake\u001b[0m\u001b[1;33m(\u001b[0m\u001b[0mindexer\u001b[0m\u001b[1;33m,\u001b[0m \u001b[0maxis\u001b[0m\u001b[1;33m=\u001b[0m\u001b[1;36m1\u001b[0m\u001b[1;33m,\u001b[0m \u001b[0mconvert\u001b[0m\u001b[1;33m=\u001b[0m\u001b[1;32mTrue\u001b[0m\u001b[1;33m)\u001b[0m\u001b[1;33m\u001b[0m\u001b[0m\n\u001b[0;32m   2004\u001b[0m \u001b[1;33m\u001b[0m\u001b[0m\n",
      "\u001b[1;32m~\\Anaconda3\\lib\\site-packages\\pandas\\core\\indexing.py\u001b[0m in \u001b[0;36m_convert_to_indexer\u001b[1;34m(self, obj, axis, is_setter)\u001b[0m\n\u001b[0;32m   1229\u001b[0m                 \u001b[0mmask\u001b[0m \u001b[1;33m=\u001b[0m \u001b[0mcheck\u001b[0m \u001b[1;33m==\u001b[0m \u001b[1;33m-\u001b[0m\u001b[1;36m1\u001b[0m\u001b[1;33m\u001b[0m\u001b[0m\n\u001b[0;32m   1230\u001b[0m                 \u001b[1;32mif\u001b[0m \u001b[0mmask\u001b[0m\u001b[1;33m.\u001b[0m\u001b[0many\u001b[0m\u001b[1;33m(\u001b[0m\u001b[1;33m)\u001b[0m\u001b[1;33m:\u001b[0m\u001b[1;33m\u001b[0m\u001b[0m\n\u001b[1;32m-> 1231\u001b[1;33m                     \u001b[1;32mraise\u001b[0m \u001b[0mKeyError\u001b[0m\u001b[1;33m(\u001b[0m\u001b[1;34m'%s not in index'\u001b[0m \u001b[1;33m%\u001b[0m \u001b[0mobjarr\u001b[0m\u001b[1;33m[\u001b[0m\u001b[0mmask\u001b[0m\u001b[1;33m]\u001b[0m\u001b[1;33m)\u001b[0m\u001b[1;33m\u001b[0m\u001b[0m\n\u001b[0m\u001b[0;32m   1232\u001b[0m \u001b[1;33m\u001b[0m\u001b[0m\n\u001b[0;32m   1233\u001b[0m                 \u001b[1;32mreturn\u001b[0m \u001b[0m_values_from_object\u001b[0m\u001b[1;33m(\u001b[0m\u001b[0mindexer\u001b[0m\u001b[1;33m)\u001b[0m\u001b[1;33m\u001b[0m\u001b[0m\n",
      "\u001b[1;31mKeyError\u001b[0m: \"['vendor_id' 'pickup_month' 'wday' 'pickup_hour' 'trip_c'] not in index\""
     ]
    }
   ],
   "source": [
    "dfX_cat = dfX[cols_cat]\n",
    "print(len(dfX_cat.columns))\n",
    "dfX_cat.tail()"
   ]
  },
  {
   "cell_type": "code",
   "execution_count": null,
   "metadata": {
    "collapsed": true
   },
   "outputs": [],
   "source": []
  },
  {
   "cell_type": "code",
   "execution_count": null,
   "metadata": {
    "collapsed": true
   },
   "outputs": [],
   "source": []
  },
  {
   "cell_type": "code",
   "execution_count": 76,
   "metadata": {},
   "outputs": [
    {
     "name": "stdout",
     "output_type": "stream",
     "text": [
      "1 12\n"
     ]
    },
    {
     "name": "stderr",
     "output_type": "stream",
     "text": [
      "C:\\Users\\best0\\Anaconda3\\lib\\site-packages\\ipykernel_launcher.py:1: DeprecationWarning: \n",
      ".ix is deprecated. Please use\n",
      ".loc for label based indexing or\n",
      ".iloc for positional indexing\n",
      "\n",
      "See the documentation here:\n",
      "http://pandas.pydata.org/pandas-docs/stable/indexing.html#ix-indexer-is-deprecated\n",
      "  \"\"\"Entry point for launching an IPython kernel.\n"
     ]
    }
   ],
   "source": [
    "dfy = df.ix[:,1:2]\n",
    "dfX = df.ix[:,2:14]\n",
    "print(len(dfy.columns), len(dfX.columns))"
   ]
  },
  {
   "cell_type": "code",
   "execution_count": 34,
   "metadata": {},
   "outputs": [
    {
     "ename": "AttributeError",
     "evalue": "'DataFrame' object has no attribute 'corrwhith'",
     "output_type": "error",
     "traceback": [
      "\u001b[1;31m---------------------------------------------------------------------------\u001b[0m",
      "\u001b[1;31mAttributeError\u001b[0m                            Traceback (most recent call last)",
      "\u001b[1;32m<ipython-input-34-d0dcb387fdf0>\u001b[0m in \u001b[0;36m<module>\u001b[1;34m()\u001b[0m\n\u001b[1;32m----> 1\u001b[1;33m \u001b[0mdfX\u001b[0m\u001b[1;33m.\u001b[0m\u001b[0mcorrwhith\u001b[0m\u001b[1;33m(\u001b[0m\u001b[0mdfX1\u001b[0m\u001b[1;33m)\u001b[0m\u001b[1;33m\u001b[0m\u001b[0m\n\u001b[0m",
      "\u001b[1;32m~\\Anaconda3\\lib\\site-packages\\pandas\\core\\generic.py\u001b[0m in \u001b[0;36m__getattr__\u001b[1;34m(self, name)\u001b[0m\n\u001b[0;32m   3079\u001b[0m             \u001b[1;32mif\u001b[0m \u001b[0mname\u001b[0m \u001b[1;32min\u001b[0m \u001b[0mself\u001b[0m\u001b[1;33m.\u001b[0m\u001b[0m_info_axis\u001b[0m\u001b[1;33m:\u001b[0m\u001b[1;33m\u001b[0m\u001b[0m\n\u001b[0;32m   3080\u001b[0m                 \u001b[1;32mreturn\u001b[0m \u001b[0mself\u001b[0m\u001b[1;33m[\u001b[0m\u001b[0mname\u001b[0m\u001b[1;33m]\u001b[0m\u001b[1;33m\u001b[0m\u001b[0m\n\u001b[1;32m-> 3081\u001b[1;33m             \u001b[1;32mreturn\u001b[0m \u001b[0mobject\u001b[0m\u001b[1;33m.\u001b[0m\u001b[0m__getattribute__\u001b[0m\u001b[1;33m(\u001b[0m\u001b[0mself\u001b[0m\u001b[1;33m,\u001b[0m \u001b[0mname\u001b[0m\u001b[1;33m)\u001b[0m\u001b[1;33m\u001b[0m\u001b[0m\n\u001b[0m\u001b[0;32m   3082\u001b[0m \u001b[1;33m\u001b[0m\u001b[0m\n\u001b[0;32m   3083\u001b[0m     \u001b[1;32mdef\u001b[0m \u001b[0m__setattr__\u001b[0m\u001b[1;33m(\u001b[0m\u001b[0mself\u001b[0m\u001b[1;33m,\u001b[0m \u001b[0mname\u001b[0m\u001b[1;33m,\u001b[0m \u001b[0mvalue\u001b[0m\u001b[1;33m)\u001b[0m\u001b[1;33m:\u001b[0m\u001b[1;33m\u001b[0m\u001b[0m\n",
      "\u001b[1;31mAttributeError\u001b[0m: 'DataFrame' object has no attribute 'corrwhith'"
     ]
    }
   ],
   "source": [
    "dfX.corrwhith(dfX1)"
   ]
  },
  {
   "cell_type": "code",
   "execution_count": 26,
   "metadata": {},
   "outputs": [
    {
     "data": {
      "text/plain": [
       "1.0"
      ]
     },
     "execution_count": 26,
     "metadata": {},
     "output_type": "execute_result"
    }
   ],
   "source": [
    "df.wday.corr(df.wday)"
   ]
  },
  {
   "cell_type": "markdown",
   "metadata": {},
   "source": [
    "#### 5) Outlier 확인 및 삭제\n",
    "##### (1) Outlier를 직접 확인, 판단, 삭제\n",
    "* outlier 삭제(trip_duration이 1750000초 이상인 경우 빈도가 매우 적고 숫자가 너무 커 outlier로 판단) \n",
    "* *trip_duration이 20,000초 이상(5시간 이상)인 경우는 일반적인 상황이 아닌 것(분석 data에서 제외)으로 고려하고 분석할 수 있을 것으로 판단*  "
   ]
  },
  {
   "cell_type": "code",
   "execution_count": 27,
   "metadata": {
    "scrolled": false
   },
   "outputs": [
    {
     "data": {
      "image/png": "[encoded data removed]",
      "text/plain": [
       "<matplotlib.figure.Figure at 0x18762606cc0>"
      ]
     },
     "metadata": {},
     "output_type": "display_data"
    }
   ],
   "source": [
    "plt.scatter(df.pickup_hour, df.trip_duration)\n",
    "plt.xlabel(\"pickup_hour\")\n",
    "plt.ylabel(\"trip_duration\")\n",
    "plt.show()"
   ]
  },
  {
   "cell_type": "code",
   "execution_count": 28,
   "metadata": {},
   "outputs": [
    {
     "data": {
      "text/html": [
       "<div>\n",
       "<style>\n",
       "    .dataframe thead tr:only-child th {\n",
       "        text-align: right;\n",
       "    }\n",
       "\n",
       "    .dataframe thead th {\n",
       "        text-align: left;\n",
       "    }\n",
       "\n",
       "    .dataframe tbody tr th {\n",
       "        vertical-align: top;\n",
       "    }\n",
       "</style>\n",
       "<table border=\"1\" class=\"dataframe\">\n",
       "  <thead>\n",
       "    <tr style=\"text-align: right;\">\n",
       "      <th></th>\n",
       "      <th>trip_duration</th>\n",
       "      <th>logtrip_duration</th>\n",
       "      <th>pickup_month_c</th>\n",
       "      <th>wday_c</th>\n",
       "      <th>vendor_id</th>\n",
       "      <th>pickup_day</th>\n",
       "      <th>pickup_hour</th>\n",
       "      <th>passenger_count</th>\n",
       "      <th>trip_c</th>\n",
       "      <th>pickup_month</th>\n",
       "      <th>...</th>\n",
       "      <th>pickup_datetime</th>\n",
       "      <th>dropoff_datetime</th>\n",
       "      <th>pickup_longitude</th>\n",
       "      <th>pickup_latitude</th>\n",
       "      <th>dropoff_longitude</th>\n",
       "      <th>dropoff_latitude</th>\n",
       "      <th>store_and_fwd_flag</th>\n",
       "      <th>pickup_year</th>\n",
       "      <th>yday</th>\n",
       "      <th>nwday</th>\n",
       "    </tr>\n",
       "  </thead>\n",
       "  <tbody>\n",
       "    <tr>\n",
       "      <th>682482</th>\n",
       "      <td>1939736</td>\n",
       "      <td>14.478063</td>\n",
       "      <td>0</td>\n",
       "      <td>0</td>\n",
       "      <td>1</td>\n",
       "      <td>5</td>\n",
       "      <td>0</td>\n",
       "      <td>1</td>\n",
       "      <td>1</td>\n",
       "      <td>1</td>\n",
       "      <td>...</td>\n",
       "      <td>2016-01-05 00:19:00</td>\n",
       "      <td>2016-01-27 11:08:00</td>\n",
       "      <td>-73.78965</td>\n",
       "      <td>40.643559</td>\n",
       "      <td>-73.95681</td>\n",
       "      <td>40.773087</td>\n",
       "      <td>N</td>\n",
       "      <td>2016</td>\n",
       "      <td>5</td>\n",
       "      <td>Tuesday</td>\n",
       "    </tr>\n",
       "  </tbody>\n",
       "</table>\n",
       "<p>1 rows × 22 columns</p>\n",
       "</div>"
      ],
      "text/plain": [
       "        trip_duration  logtrip_duration pickup_month_c wday_c vendor_id  \\\n",
       "682482        1939736         14.478063              0      0         1   \n",
       "\n",
       "       pickup_day pickup_hour  passenger_count trip_c pickup_month   ...     \\\n",
       "682482          5           0                1      1            1   ...      \n",
       "\n",
       "           pickup_datetime    dropoff_datetime pickup_longitude  \\\n",
       "682482 2016-01-05 00:19:00 2016-01-27 11:08:00        -73.78965   \n",
       "\n",
       "       pickup_latitude  dropoff_longitude  dropoff_latitude  \\\n",
       "682482       40.643559          -73.95681         40.773087   \n",
       "\n",
       "        store_and_fwd_flag  pickup_year yday    nwday  \n",
       "682482                   N         2016    5  Tuesday  \n",
       "\n",
       "[1 rows x 22 columns]"
      ]
     },
     "execution_count": 28,
     "metadata": {},
     "output_type": "execute_result"
    }
   ],
   "source": [
    "# 이상치라 판단되는 data확인\n",
    "df[df.trip_duration >= 1750000]\n",
    "\n",
    "# 아래의 형식으로도 확인 가능(특정 범위)\n",
    "# df[(df.trip_duration >= 1750000) & (df.trip_duration <= 2000000)]"
   ]
  },
  {
   "cell_type": "code",
   "execution_count": 29,
   "metadata": {
    "collapsed": true
   },
   "outputs": [],
   "source": [
    "# 특정 관측치 삭제\n",
    "#df = df.drop([682482])\n",
    "#df = df.drop()(axis=0)\n",
    "\n",
    "# 특정 범위만 grab\n",
    "df = df[df.trip_duration <= 1750000]\n",
    "#df[(df.trip_duration >= 1750000) & (df.trip_duration <= 2000000)]"
   ]
  },
  {
   "cell_type": "code",
   "execution_count": 30,
   "metadata": {
    "scrolled": false
   },
   "outputs": [
    {
     "data": {
      "image/png": "[encoded data removed]",
      "text/plain": [
       "<matplotlib.figure.Figure at 0x18762355208>"
      ]
     },
     "metadata": {},
     "output_type": "display_data"
    }
   ],
   "source": [
    "# 삭제되었는지 확인\n",
    "sns.stripplot(x=\"wday\", y=\"logtrip_duration\", hue = \"pickup_hour\", data = df, jitter = True)\n",
    "plt.legend(bbox_to_anchor=(1, 1), loc=2, borderaxespad=0.1)\n",
    "plt.show()"
   ]
  },
  {
   "cell_type": "code",
   "execution_count": 31,
   "metadata": {
    "scrolled": false
   },
   "outputs": [
    {
     "data": {
      "image/png": "[encoded data removed]",
      "text/plain": [
       "<matplotlib.figure.Figure at 0x18761c942b0>"
      ]
     },
     "metadata": {},
     "output_type": "display_data"
    }
   ],
   "source": [
    "sns.stripplot(x=\"trip_c\", y=\"logtrip_duration\", hue = \"pickup_hour\", data = df, jitter = True)\n",
    "plt.ylim(0, 12)\n",
    "plt.legend(bbox_to_anchor=(1.05, 1), loc=2, borderaxespad=0.)\n",
    "plt.show()"
   ]
  },
  {
   "cell_type": "markdown",
   "metadata": {},
   "source": [
    "* 2016년 뉴욕 날씨 데이터를 입력하여 yday를 기준변수로 활용하여 기존 data frame에 merge함"
   ]
  },
  {
   "cell_type": "code",
   "execution_count": 54,
   "metadata": {
    "collapsed": true
   },
   "outputs": [],
   "source": [
    "# 2016년 뉴욕 날씨 데이터 입력\n",
    "wdf = pd.read_csv('weather_data_nyc_centralpark_2016.csv')"
   ]
  },
  {
   "cell_type": "code",
   "execution_count": 55,
   "metadata": {
    "collapsed": true
   },
   "outputs": [],
   "source": [
    "wdf['date'] = pd.to_datetime(wdf.date,format='%d-%m-%Y')\n",
    "wdf['yday'] = wdf.date.dt.dayofyear\n",
    "# wdf['wday'] = wdf.date.dt.dayofweek\n",
    "# wday변수는 wdf에서 안만들어도 될 것 같아서 만들지 않음\n",
    "# merge하는데 필요한 기준 변수는 1개면 충분하다고 판단함"
   ]
  },
  {
   "cell_type": "code",
   "execution_count": 56,
   "metadata": {},
   "outputs": [
    {
     "data": {
      "text/html": [
       "<div>\n",
       "<style>\n",
       "    .dataframe thead tr:only-child th {\n",
       "        text-align: right;\n",
       "    }\n",
       "\n",
       "    .dataframe thead th {\n",
       "        text-align: left;\n",
       "    }\n",
       "\n",
       "    .dataframe tbody tr th {\n",
       "        vertical-align: top;\n",
       "    }\n",
       "</style>\n",
       "<table border=\"1\" class=\"dataframe\">\n",
       "  <thead>\n",
       "    <tr style=\"text-align: right;\">\n",
       "      <th></th>\n",
       "      <th>date</th>\n",
       "      <th>maximum temperature</th>\n",
       "      <th>minimum temperature</th>\n",
       "      <th>average temperature</th>\n",
       "      <th>precipitation</th>\n",
       "      <th>snow fall</th>\n",
       "      <th>snow depth</th>\n",
       "      <th>yday</th>\n",
       "    </tr>\n",
       "  </thead>\n",
       "  <tbody>\n",
       "    <tr>\n",
       "      <th>0</th>\n",
       "      <td>2016-01-01</td>\n",
       "      <td>42</td>\n",
       "      <td>34</td>\n",
       "      <td>38.0</td>\n",
       "      <td>0.00</td>\n",
       "      <td>0.0</td>\n",
       "      <td>0</td>\n",
       "      <td>1</td>\n",
       "    </tr>\n",
       "    <tr>\n",
       "      <th>1</th>\n",
       "      <td>2016-01-02</td>\n",
       "      <td>40</td>\n",
       "      <td>32</td>\n",
       "      <td>36.0</td>\n",
       "      <td>0.00</td>\n",
       "      <td>0.0</td>\n",
       "      <td>0</td>\n",
       "      <td>2</td>\n",
       "    </tr>\n",
       "    <tr>\n",
       "      <th>2</th>\n",
       "      <td>2016-01-03</td>\n",
       "      <td>45</td>\n",
       "      <td>35</td>\n",
       "      <td>40.0</td>\n",
       "      <td>0.00</td>\n",
       "      <td>0.0</td>\n",
       "      <td>0</td>\n",
       "      <td>3</td>\n",
       "    </tr>\n",
       "    <tr>\n",
       "      <th>3</th>\n",
       "      <td>2016-01-04</td>\n",
       "      <td>36</td>\n",
       "      <td>14</td>\n",
       "      <td>25.0</td>\n",
       "      <td>0.00</td>\n",
       "      <td>0.0</td>\n",
       "      <td>0</td>\n",
       "      <td>4</td>\n",
       "    </tr>\n",
       "    <tr>\n",
       "      <th>4</th>\n",
       "      <td>2016-01-05</td>\n",
       "      <td>29</td>\n",
       "      <td>11</td>\n",
       "      <td>20.0</td>\n",
       "      <td>0.00</td>\n",
       "      <td>0.0</td>\n",
       "      <td>0</td>\n",
       "      <td>5</td>\n",
       "    </tr>\n",
       "    <tr>\n",
       "      <th>5</th>\n",
       "      <td>2016-01-06</td>\n",
       "      <td>41</td>\n",
       "      <td>25</td>\n",
       "      <td>33.0</td>\n",
       "      <td>0.00</td>\n",
       "      <td>0.0</td>\n",
       "      <td>0</td>\n",
       "      <td>6</td>\n",
       "    </tr>\n",
       "    <tr>\n",
       "      <th>6</th>\n",
       "      <td>2016-01-07</td>\n",
       "      <td>46</td>\n",
       "      <td>31</td>\n",
       "      <td>38.5</td>\n",
       "      <td>0.00</td>\n",
       "      <td>0.0</td>\n",
       "      <td>0</td>\n",
       "      <td>7</td>\n",
       "    </tr>\n",
       "    <tr>\n",
       "      <th>7</th>\n",
       "      <td>2016-01-08</td>\n",
       "      <td>46</td>\n",
       "      <td>31</td>\n",
       "      <td>38.5</td>\n",
       "      <td>0.00</td>\n",
       "      <td>0.0</td>\n",
       "      <td>0</td>\n",
       "      <td>8</td>\n",
       "    </tr>\n",
       "    <tr>\n",
       "      <th>8</th>\n",
       "      <td>2016-01-09</td>\n",
       "      <td>47</td>\n",
       "      <td>40</td>\n",
       "      <td>43.5</td>\n",
       "      <td>T</td>\n",
       "      <td>0.0</td>\n",
       "      <td>0</td>\n",
       "      <td>9</td>\n",
       "    </tr>\n",
       "    <tr>\n",
       "      <th>9</th>\n",
       "      <td>2016-01-10</td>\n",
       "      <td>59</td>\n",
       "      <td>40</td>\n",
       "      <td>49.5</td>\n",
       "      <td>1.80</td>\n",
       "      <td>0.0</td>\n",
       "      <td>0</td>\n",
       "      <td>10</td>\n",
       "    </tr>\n",
       "  </tbody>\n",
       "</table>\n",
       "</div>"
      ],
      "text/plain": [
       "        date  maximum temperature  minimum temperature  average temperature  \\\n",
       "0 2016-01-01                   42                   34                 38.0   \n",
       "1 2016-01-02                   40                   32                 36.0   \n",
       "2 2016-01-03                   45                   35                 40.0   \n",
       "3 2016-01-04                   36                   14                 25.0   \n",
       "4 2016-01-05                   29                   11                 20.0   \n",
       "5 2016-01-06                   41                   25                 33.0   \n",
       "6 2016-01-07                   46                   31                 38.5   \n",
       "7 2016-01-08                   46                   31                 38.5   \n",
       "8 2016-01-09                   47                   40                 43.5   \n",
       "9 2016-01-10                   59                   40                 49.5   \n",
       "\n",
       "  precipitation snow fall snow depth  yday  \n",
       "0          0.00       0.0          0     1  \n",
       "1          0.00       0.0          0     2  \n",
       "2          0.00       0.0          0     3  \n",
       "3          0.00       0.0          0     4  \n",
       "4          0.00       0.0          0     5  \n",
       "5          0.00       0.0          0     6  \n",
       "6          0.00       0.0          0     7  \n",
       "7          0.00       0.0          0     8  \n",
       "8             T       0.0          0     9  \n",
       "9          1.80       0.0          0    10  "
      ]
     },
     "execution_count": 56,
     "metadata": {},
     "output_type": "execute_result"
    }
   ],
   "source": [
    "# data확인결과 pricipitation 등의 변수에 숫자가 아닌 T가 있음\n",
    "wdf.head(10)\n",
    "# T는 측정되지 않았으나 비가왔던 흔적을 의미함\n",
    "#\"T\" stands for \"trace\", used when precipitation has been detected, but it isn't sufficient to measure meaningfully."
   ]
  },
  {
   "cell_type": "code",
   "execution_count": 57,
   "metadata": {
    "collapsed": true
   },
   "outputs": [],
   "source": [
    "# T를 아주 작은 수로 바꿔줌(여기서는 0.01로 변경)\n",
    "falls = [ 0 if c=='T' else float(c) for c in wdf['snow fall']]\n",
    "rain = [ 0 if c=='T' else float(c) for c in wdf['precipitation']]\n",
    "wdf['snow_fall']= falls\n",
    "wdf['precipitation'] = rain\n",
    "wdf = wdf.rename(columns = {'average temperature' : 'average_temperature'})"
   ]
  },
  {
   "cell_type": "code",
   "execution_count": 68,
   "metadata": {},
   "outputs": [
    {
     "data": {
      "text/html": [
       "<div>\n",
       "<style>\n",
       "    .dataframe thead tr:only-child th {\n",
       "        text-align: right;\n",
       "    }\n",
       "\n",
       "    .dataframe thead th {\n",
       "        text-align: left;\n",
       "    }\n",
       "\n",
       "    .dataframe tbody tr th {\n",
       "        vertical-align: top;\n",
       "    }\n",
       "</style>\n",
       "<table border=\"1\" class=\"dataframe\">\n",
       "  <thead>\n",
       "    <tr style=\"text-align: right;\">\n",
       "      <th></th>\n",
       "      <th>trip_duration</th>\n",
       "      <th>logtrip_duration</th>\n",
       "      <th>pickup_month</th>\n",
       "      <th>wday</th>\n",
       "      <th>vendor_id</th>\n",
       "      <th>pickup_day</th>\n",
       "      <th>pickup_hour</th>\n",
       "      <th>passenger_count</th>\n",
       "      <th>trip_c</th>\n",
       "      <th>pickup_month_c</th>\n",
       "      <th>...</th>\n",
       "      <th>snow fall_x</th>\n",
       "      <th>snow depth_x</th>\n",
       "      <th>snow_fall_x</th>\n",
       "      <th>distance</th>\n",
       "      <th>speed</th>\n",
       "      <th>average_temperature_y</th>\n",
       "      <th>precipitation_y</th>\n",
       "      <th>snow fall_y</th>\n",
       "      <th>snow depth_y</th>\n",
       "      <th>snow_fall_y</th>\n",
       "    </tr>\n",
       "  </thead>\n",
       "  <tbody>\n",
       "    <tr>\n",
       "      <th>0</th>\n",
       "      <td>1000</td>\n",
       "      <td>6.908755</td>\n",
       "      <td>3</td>\n",
       "      <td>0</td>\n",
       "      <td>1</td>\n",
       "      <td>21</td>\n",
       "      <td>14</td>\n",
       "      <td>1</td>\n",
       "      <td>0</td>\n",
       "      <td>1</td>\n",
       "      <td>...</td>\n",
       "      <td>0.5</td>\n",
       "      <td>T</td>\n",
       "      <td>0.5</td>\n",
       "      <td>2.064433</td>\n",
       "      <td>7.431958</td>\n",
       "      <td>41.0</td>\n",
       "      <td>0.06</td>\n",
       "      <td>0.5</td>\n",
       "      <td>T</td>\n",
       "      <td>0.5</td>\n",
       "    </tr>\n",
       "    <tr>\n",
       "      <th>1</th>\n",
       "      <td>1014</td>\n",
       "      <td>6.922644</td>\n",
       "      <td>3</td>\n",
       "      <td>0</td>\n",
       "      <td>1</td>\n",
       "      <td>21</td>\n",
       "      <td>12</td>\n",
       "      <td>1</td>\n",
       "      <td>0</td>\n",
       "      <td>1</td>\n",
       "      <td>...</td>\n",
       "      <td>0.5</td>\n",
       "      <td>T</td>\n",
       "      <td>0.5</td>\n",
       "      <td>4.559980</td>\n",
       "      <td>16.189278</td>\n",
       "      <td>41.0</td>\n",
       "      <td>0.06</td>\n",
       "      <td>0.5</td>\n",
       "      <td>T</td>\n",
       "      <td>0.5</td>\n",
       "    </tr>\n",
       "    <tr>\n",
       "      <th>2</th>\n",
       "      <td>3949</td>\n",
       "      <td>8.281471</td>\n",
       "      <td>3</td>\n",
       "      <td>0</td>\n",
       "      <td>1</td>\n",
       "      <td>21</td>\n",
       "      <td>16</td>\n",
       "      <td>1</td>\n",
       "      <td>0</td>\n",
       "      <td>1</td>\n",
       "      <td>...</td>\n",
       "      <td>0.5</td>\n",
       "      <td>T</td>\n",
       "      <td>0.5</td>\n",
       "      <td>20.038639</td>\n",
       "      <td>18.267688</td>\n",
       "      <td>41.0</td>\n",
       "      <td>0.06</td>\n",
       "      <td>0.5</td>\n",
       "      <td>T</td>\n",
       "      <td>0.5</td>\n",
       "    </tr>\n",
       "    <tr>\n",
       "      <th>3</th>\n",
       "      <td>251</td>\n",
       "      <td>5.529429</td>\n",
       "      <td>3</td>\n",
       "      <td>0</td>\n",
       "      <td>1</td>\n",
       "      <td>21</td>\n",
       "      <td>15</td>\n",
       "      <td>1</td>\n",
       "      <td>0</td>\n",
       "      <td>1</td>\n",
       "      <td>...</td>\n",
       "      <td>0.5</td>\n",
       "      <td>T</td>\n",
       "      <td>0.5</td>\n",
       "      <td>0.948848</td>\n",
       "      <td>13.608978</td>\n",
       "      <td>41.0</td>\n",
       "      <td>0.06</td>\n",
       "      <td>0.5</td>\n",
       "      <td>T</td>\n",
       "      <td>0.5</td>\n",
       "    </tr>\n",
       "    <tr>\n",
       "      <th>4</th>\n",
       "      <td>844</td>\n",
       "      <td>6.739337</td>\n",
       "      <td>3</td>\n",
       "      <td>0</td>\n",
       "      <td>2</td>\n",
       "      <td>21</td>\n",
       "      <td>17</td>\n",
       "      <td>1</td>\n",
       "      <td>0</td>\n",
       "      <td>1</td>\n",
       "      <td>...</td>\n",
       "      <td>0.5</td>\n",
       "      <td>T</td>\n",
       "      <td>0.5</td>\n",
       "      <td>4.987093</td>\n",
       "      <td>21.271960</td>\n",
       "      <td>41.0</td>\n",
       "      <td>0.06</td>\n",
       "      <td>0.5</td>\n",
       "      <td>T</td>\n",
       "      <td>0.5</td>\n",
       "    </tr>\n",
       "  </tbody>\n",
       "</table>\n",
       "<p>5 rows × 34 columns</p>\n",
       "</div>"
      ],
      "text/plain": [
       "   trip_duration  logtrip_duration  pickup_month  wday  vendor_id  pickup_day  \\\n",
       "0           1000          6.908755             3     0          1          21   \n",
       "1           1014          6.922644             3     0          1          21   \n",
       "2           3949          8.281471             3     0          1          21   \n",
       "3            251          5.529429             3     0          1          21   \n",
       "4            844          6.739337             3     0          2          21   \n",
       "\n",
       "   pickup_hour  passenger_count trip_c pickup_month_c     ...       \\\n",
       "0           14                1      0              1     ...        \n",
       "1           12                1      0              1     ...        \n",
       "2           16                1      0              1     ...        \n",
       "3           15                1      0              1     ...        \n",
       "4           17                1      0              1     ...        \n",
       "\n",
       "  snow fall_x snow depth_x snow_fall_x   distance      speed  \\\n",
       "0         0.5            T         0.5   2.064433   7.431958   \n",
       "1         0.5            T         0.5   4.559980  16.189278   \n",
       "2         0.5            T         0.5  20.038639  18.267688   \n",
       "3         0.5            T         0.5   0.948848  13.608978   \n",
       "4         0.5            T         0.5   4.987093  21.271960   \n",
       "\n",
       "   average_temperature_y  precipitation_y  snow fall_y snow depth_y  \\\n",
       "0                   41.0             0.06          0.5            T   \n",
       "1                   41.0             0.06          0.5            T   \n",
       "2                   41.0             0.06          0.5            T   \n",
       "3                   41.0             0.06          0.5            T   \n",
       "4                   41.0             0.06          0.5            T   \n",
       "\n",
       "   snow_fall_y  \n",
       "0          0.5  \n",
       "1          0.5  \n",
       "2          0.5  \n",
       "3          0.5  \n",
       "4          0.5  \n",
       "\n",
       "[5 rows x 34 columns]"
      ]
     },
     "execution_count": 68,
     "metadata": {},
     "output_type": "execute_result"
    }
   ],
   "source": [
    "# 'yday' 변수를 기준변수로 taxi_df에 wdf를 merge함\n",
    "# (yday를 기준으로 taxi_df에 wdf의 data를 가로로 붙인다.)\n",
    "df = pd.merge(df,wdf,on='yday')\n",
    "df\n",
    "\n",
    "# 필요없는 변수 삭제(maximum과 minimum은 같은 지역으로 다 같기 때문에 삭제)\n",
    "df = df.drop(['date','maximum temperature','minimum temperature'], axis=1)\n",
    "df.head()"
   ]
  },
  {
   "cell_type": "markdown",
   "metadata": {},
   "source": [
    " ##### (2) 공간변수(or 지도정보, 위치정보) 사용 \n",
    "  * 지도정보(위치정보)를 활용하기 위해서는 folium(포리움)함수를 사용해야 함"
   ]
  },
  {
   "cell_type": "code",
   "execution_count": 59,
   "metadata": {
    "collapsed": true
   },
   "outputs": [],
   "source": [
    "def haversine_np(lon1, lat1, lon2, lat2):\n",
    "    \"\"\"\n",
    "    Calculate the great circle distance between two points\n",
    "    on the earth (specified in decimal degrees)\n",
    "\n",
    "    All args must be of equal length.    \n",
    "\n",
    "    \"\"\"\n",
    "    lon1, lat1, lon2, lat2 = map(np.radians, [lon1, lat1, lon2, lat2])\n",
    "\n",
    "    dlon = lon2 - lon1\n",
    "    dlat = lat2 - lat1\n",
    "\n",
    "    a = np.sin(dlat/2.0)**2 + np.cos(lat1) * np.cos(lat2) * np.sin(dlon/2.0)**2\n",
    "\n",
    "    c = 2 * np.arcsin(np.sqrt(a))\n",
    "    km = 6367 * c\n",
    "    return km"
   ]
  },
  {
   "cell_type": "code",
   "execution_count": 60,
   "metadata": {
    "collapsed": true
   },
   "outputs": [],
   "source": [
    "df['distance'] = haversine_np(df.pickup_longitude, df.pickup_latitude,\n",
    "                                           df.dropoff_longitude, df.dropoff_latitude)"
   ]
  },
  {
   "cell_type": "code",
   "execution_count": 61,
   "metadata": {
    "collapsed": true
   },
   "outputs": [],
   "source": [
    "df['speed'] = df.distance / (df.trip_duration/3600)"
   ]
  },
  {
   "cell_type": "code",
   "execution_count": 62,
   "metadata": {},
   "outputs": [
    {
     "data": {
      "text/plain": [
       "count    70178.000000\n",
       "mean         3.393625\n",
       "std          3.935435\n",
       "min          0.000000\n",
       "25%          1.222996\n",
       "50%          2.067887\n",
       "75%          3.815696\n",
       "max        101.672421\n",
       "Name: distance, dtype: float64"
      ]
     },
     "execution_count": 62,
     "metadata": {},
     "output_type": "execute_result"
    }
   ],
   "source": [
    "df.distance.describe()"
   ]
  },
  {
   "cell_type": "code",
   "execution_count": 63,
   "metadata": {},
   "outputs": [
    {
     "data": {
      "text/plain": [
       "count    70178.000000\n",
       "mean        14.514581\n",
       "std          7.940653\n",
       "min          0.000000\n",
       "25%          9.263413\n",
       "50%         12.862914\n",
       "75%         17.931619\n",
       "max        267.768484\n",
       "Name: speed, dtype: float64"
      ]
     },
     "execution_count": 63,
     "metadata": {},
     "output_type": "execute_result"
    }
   ],
   "source": [
    "df.speed.describe()"
   ]
  },
  {
   "cell_type": "code",
   "execution_count": 64,
   "metadata": {
    "scrolled": true
   },
   "outputs": [
    {
     "data": {
      "image/png": "[encoded data removed]",
      "text/plain": [
       "<matplotlib.figure.Figure at 0x1d46a957e80>"
      ]
     },
     "metadata": {},
     "output_type": "display_data"
    }
   ],
   "source": [
    "import seaborn as sns\n",
    "#sns.set(style=\"ticks\")\n",
    "sel = df[['distance','passenger_count']]\n",
    "sns.barplot(x='passenger_count',y='distance',data=sel)\n",
    "#sns.despine(offset=10, trim=True)\n",
    "plt.show()"
   ]
  },
  {
   "cell_type": "code",
   "execution_count": 65,
   "metadata": {},
   "outputs": [
    {
     "data": {
      "text/html": [
       "<div>\n",
       "<style>\n",
       "    .dataframe thead tr:only-child th {\n",
       "        text-align: right;\n",
       "    }\n",
       "\n",
       "    .dataframe thead th {\n",
       "        text-align: left;\n",
       "    }\n",
       "\n",
       "    .dataframe tbody tr th {\n",
       "        vertical-align: top;\n",
       "    }\n",
       "</style>\n",
       "<table border=\"1\" class=\"dataframe\">\n",
       "  <thead>\n",
       "    <tr style=\"text-align: right;\">\n",
       "      <th></th>\n",
       "      <th>trip_duration</th>\n",
       "      <th>logtrip_duration</th>\n",
       "      <th>pickup_month</th>\n",
       "      <th>wday</th>\n",
       "      <th>vendor_id</th>\n",
       "      <th>pickup_day</th>\n",
       "      <th>pickup_hour</th>\n",
       "      <th>passenger_count</th>\n",
       "      <th>trip_c</th>\n",
       "      <th>pickup_month_c</th>\n",
       "      <th>...</th>\n",
       "      <th>pickup_year</th>\n",
       "      <th>yday</th>\n",
       "      <th>nwday</th>\n",
       "      <th>average_temperature</th>\n",
       "      <th>precipitation</th>\n",
       "      <th>snow fall</th>\n",
       "      <th>snow depth</th>\n",
       "      <th>snow_fall</th>\n",
       "      <th>distance</th>\n",
       "      <th>speed</th>\n",
       "    </tr>\n",
       "  </thead>\n",
       "  <tbody>\n",
       "    <tr>\n",
       "      <th>848</th>\n",
       "      <td>2251</td>\n",
       "      <td>7.719574</td>\n",
       "      <td>1</td>\n",
       "      <td>0</td>\n",
       "      <td>1</td>\n",
       "      <td>4</td>\n",
       "      <td>12</td>\n",
       "      <td>0</td>\n",
       "      <td>0</td>\n",
       "      <td>0</td>\n",
       "      <td>...</td>\n",
       "      <td>2016</td>\n",
       "      <td>4</td>\n",
       "      <td>Monday</td>\n",
       "      <td>25.0</td>\n",
       "      <td>0.00</td>\n",
       "      <td>0.0</td>\n",
       "      <td>0</td>\n",
       "      <td>0.0</td>\n",
       "      <td>12.950165</td>\n",
       "      <td>20.711059</td>\n",
       "    </tr>\n",
       "    <tr>\n",
       "      <th>59361</th>\n",
       "      <td>15</td>\n",
       "      <td>2.772589</td>\n",
       "      <td>1</td>\n",
       "      <td>1</td>\n",
       "      <td>2</td>\n",
       "      <td>5</td>\n",
       "      <td>18</td>\n",
       "      <td>0</td>\n",
       "      <td>0</td>\n",
       "      <td>0</td>\n",
       "      <td>...</td>\n",
       "      <td>2016</td>\n",
       "      <td>5</td>\n",
       "      <td>Tuesday</td>\n",
       "      <td>20.0</td>\n",
       "      <td>0.00</td>\n",
       "      <td>0.0</td>\n",
       "      <td>0</td>\n",
       "      <td>0.0</td>\n",
       "      <td>0.005934</td>\n",
       "      <td>1.424099</td>\n",
       "    </tr>\n",
       "    <tr>\n",
       "      <th>64358</th>\n",
       "      <td>45</td>\n",
       "      <td>3.828641</td>\n",
       "      <td>2</td>\n",
       "      <td>0</td>\n",
       "      <td>1</td>\n",
       "      <td>1</td>\n",
       "      <td>0</td>\n",
       "      <td>0</td>\n",
       "      <td>0</td>\n",
       "      <td>0</td>\n",
       "      <td>...</td>\n",
       "      <td>2016</td>\n",
       "      <td>32</td>\n",
       "      <td>Monday</td>\n",
       "      <td>51.5</td>\n",
       "      <td>0.01</td>\n",
       "      <td>0.0</td>\n",
       "      <td>2</td>\n",
       "      <td>0.0</td>\n",
       "      <td>0.000000</td>\n",
       "      <td>0.000000</td>\n",
       "    </tr>\n",
       "  </tbody>\n",
       "</table>\n",
       "<p>3 rows × 29 columns</p>\n",
       "</div>"
      ],
      "text/plain": [
       "       trip_duration  logtrip_duration  pickup_month  wday  vendor_id  \\\n",
       "848             2251          7.719574             1     0          1   \n",
       "59361             15          2.772589             1     1          2   \n",
       "64358             45          3.828641             2     0          1   \n",
       "\n",
       "       pickup_day  pickup_hour  passenger_count trip_c pickup_month_c  \\\n",
       "848             4           12                0      0              0   \n",
       "59361           5           18                0      0              0   \n",
       "64358           1            0                0      0              0   \n",
       "\n",
       "         ...     pickup_year yday    nwday average_temperature  precipitation  \\\n",
       "848      ...            2016    4   Monday                25.0           0.00   \n",
       "59361    ...            2016    5  Tuesday                20.0           0.00   \n",
       "64358    ...            2016   32   Monday                51.5           0.01   \n",
       "\n",
       "       snow fall  snow depth  snow_fall   distance      speed  \n",
       "848          0.0           0        0.0  12.950165  20.711059  \n",
       "59361        0.0           0        0.0   0.005934   1.424099  \n",
       "64358        0.0           2        0.0   0.000000   0.000000  \n",
       "\n",
       "[3 rows x 29 columns]"
      ]
     },
     "execution_count": 65,
     "metadata": {},
     "output_type": "execute_result"
    }
   ],
   "source": [
    "# 이상치라 판단되는 data확인\n",
    "df[df.passenger_count == 0]\n",
    "\n",
    "# 아래의 형식으로도 확인 가능(특정 범위)\n",
    "# df[(df.trip_duration >= 1750000) & (df.trip_duration <= 2000000)]"
   ]
  },
  {
   "cell_type": "code",
   "execution_count": 66,
   "metadata": {
    "collapsed": true
   },
   "outputs": [],
   "source": [
    "# 특정 관측치 삭제\n",
    "df = df.drop([848])\n",
    "df = df.drop([59361])\n",
    "df = df.drop([64357])\n",
    "#df = df.drop()(axis=0)\n",
    "\n",
    "# 특정 범위만 grab\n",
    "#df = df[df.trip_duration <= 1750000]\n",
    "#df[(df.trip_duration >= 1750000) & (df.trip_duration <= 2000000)]"
   ]
  },
  {
   "cell_type": "code",
   "execution_count": 49,
   "metadata": {
    "scrolled": false
   },
   "outputs": [
    {
     "data": {
      "image/png": "[encoded data removed]",
      "text/plain": [
       "<matplotlib.figure.Figure at 0x18763baf8d0>"
      ]
     },
     "metadata": {},
     "output_type": "display_data"
    }
   ],
   "source": [
    "# 삭제되었는지 확인\n",
    "sns.stripplot(x=\"passenger_count\", y=\"logtrip_duration\", hue = \"pickup_hour\", data = df, jitter = True)\n",
    "plt.legend(bbox_to_anchor=(1, 1), loc=2, borderaxespad=0.1)\n",
    "plt.show()"
   ]
  },
  {
   "cell_type": "markdown",
   "metadata": {},
   "source": [
    "##### (2) OLS분석을 통해 Outlier 확인 및 삭제\n",
    "\n",
    "* OLS를 통해 확인하는 방법\n",
    "    * ols를 통해 레버리지와 잔차를 계산하여 이를 근거로 outlier 규정"
   ]
  },
  {
   "cell_type": "code",
   "execution_count": 52,
   "metadata": {
    "scrolled": true
   },
   "outputs": [
    {
     "name": "stderr",
     "output_type": "stream",
     "text": [
      "C:\\Users\\best0\\Anaconda3\\lib\\site-packages\\statsmodels\\compat\\pandas.py:56: FutureWarning: The pandas.core.datetools module is deprecated and will be removed in a future version. Please use the pandas.tseries module instead.\n",
      "  from pandas.core import datetools\n"
     ]
    }
   ],
   "source": [
    "import statsmodels.api as sm\n",
    "import statsmodels.formula.api as smf"
   ]
  },
  {
   "cell_type": "code",
   "execution_count": 79,
   "metadata": {
    "scrolled": true
   },
   "outputs": [
    {
     "name": "stdout",
     "output_type": "stream",
     "text": [
      "                            OLS Regression Results                            \n",
      "==============================================================================\n",
      "Dep. Variable:       logtrip_duration   R-squared:                       0.409\n",
      "Model:                            OLS   Adj. R-squared:                  0.409\n",
      "Method:                 Least Squares   F-statistic:                     1429.\n",
      "Date:                Fri, 20 Oct 2017   Prob (F-statistic):               0.00\n",
      "Time:                        15:47:12   Log-Likelihood:                -64078.\n",
      "No. Observations:               70175   AIC:                         1.282e+05\n",
      "Df Residuals:                   70140   BIC:                         1.285e+05\n",
      "Df Model:                          34                                         \n",
      "Covariance Type:            nonrobust                                         \n",
      "=========================================================================================\n",
      "                            coef    std err          t      P>|t|      [0.025      0.975]\n",
      "-----------------------------------------------------------------------------------------\n",
      "Intercept                 5.7913      0.016    354.212      0.000       5.759       5.823\n",
      "C(vendor_id)[T.2]         0.0174      0.005      3.808      0.000       0.008       0.026\n",
      "C(wday)[T.1]              0.0855      0.009      9.640      0.000       0.068       0.103\n",
      "C(wday)[T.2]              0.1032      0.009     11.685      0.000       0.086       0.120\n",
      "C(wday)[T.3]              0.1025      0.009     11.656      0.000       0.085       0.120\n",
      "C(wday)[T.4]              0.1003      0.009     11.673      0.000       0.083       0.117\n",
      "C(wday)[T.5]              0.0325      0.009      3.732      0.000       0.015       0.049\n",
      "C(wday)[T.6]             -0.0601      0.009     -6.579      0.000      -0.078      -0.042\n",
      "C(pickup_hour)[T.1]      -0.0166      0.018     -0.897      0.370      -0.053       0.020\n",
      "C(pickup_hour)[T.2]      -0.0369      0.020     -1.828      0.068      -0.076       0.003\n",
      "C(pickup_hour)[T.3]      -0.0901      0.023     -3.956      0.000      -0.135      -0.045\n",
      "C(pickup_hour)[T.4]      -0.1794      0.026     -6.947      0.000      -0.230      -0.129\n",
      "C(pickup_hour)[T.5]      -0.3797      0.025    -15.258      0.000      -0.428      -0.331\n",
      "C(pickup_hour)[T.6]      -0.2873      0.020    -14.596      0.000      -0.326      -0.249\n",
      "C(pickup_hour)[T.7]      -0.0384      0.017     -2.258      0.024      -0.072      -0.005\n",
      "C(pickup_hour)[T.8]       0.1389      0.016      8.613      0.000       0.107       0.170\n",
      "C(pickup_hour)[T.9]       0.1671      0.016     10.421      0.000       0.136       0.199\n",
      "C(pickup_hour)[T.10]      0.1493      0.016      9.170      0.000       0.117       0.181\n",
      "C(pickup_hour)[T.11]      0.1953      0.016     12.083      0.000       0.164       0.227\n",
      "C(pickup_hour)[T.12]      0.1968      0.016     12.356      0.000       0.166       0.228\n",
      "C(pickup_hour)[T.13]      0.1797      0.016     11.262      0.000       0.148       0.211\n",
      "C(pickup_hour)[T.14]      0.1726      0.016     10.934      0.000       0.142       0.204\n",
      "C(pickup_hour)[T.15]      0.1866      0.016     11.707      0.000       0.155       0.218\n",
      "C(pickup_hour)[T.16]      0.1355      0.016      8.346      0.000       0.104       0.167\n",
      "C(pickup_hour)[T.17]      0.1606      0.016     10.264      0.000       0.130       0.191\n",
      "C(pickup_hour)[T.18]      0.1787      0.015     11.734      0.000       0.149       0.209\n",
      "C(pickup_hour)[T.19]      0.1033      0.015      6.804      0.000       0.074       0.133\n",
      "C(pickup_hour)[T.20]      0.0395      0.015      2.568      0.010       0.009       0.070\n",
      "C(pickup_hour)[T.21]      0.0457      0.015      2.972      0.003       0.016       0.076\n",
      "C(pickup_hour)[T.22]      0.0492      0.016      3.152      0.002       0.019       0.080\n",
      "C(pickup_hour)[T.23]      0.0177      0.016      1.098      0.272      -0.014       0.049\n",
      "precipitation_y           0.0011      0.010      0.106      0.915      -0.019       0.021\n",
      "snow_fall_y               0.0062      0.002      2.714      0.007       0.002       0.011\n",
      "average_temperature_y     0.0016      0.000      8.436      0.000       0.001       0.002\n",
      "distance                  0.1264      0.001    216.918      0.000       0.125       0.128\n",
      "==============================================================================\n",
      "Omnibus:                    16979.011   Durbin-Watson:                   1.983\n",
      "Prob(Omnibus):                  0.000   Jarque-Bera (JB):           481448.711\n",
      "Skew:                          -0.548   Prob(JB):                         0.00\n",
      "Kurtosis:                      15.785   Cond. No.                     1.22e+03\n",
      "==============================================================================\n",
      "\n",
      "Warnings:\n",
      "[1] Standard Errors assume that the covariance matrix of the errors is correctly specified.\n",
      "[2] The condition number is large, 1.22e+03. This might indicate that there are\n",
      "strong multicollinearity or other numerical problems.\n"
     ]
    }
   ],
   "source": [
    "model = smf.ols(formula = \"logtrip_duration ~ C(vendor_id)  + C(wday) + C(pickup_hour)+ precipitation_y + snow_fall_y + average_temperature_y + distance\", data = df)\n",
    "result = model.fit()\n",
    "print(result.summary())"
   ]
  },
  {
   "cell_type": "code",
   "execution_count": 61,
   "metadata": {
    "scrolled": true
   },
   "outputs": [
    {
     "name": "stderr",
     "output_type": "stream",
     "text": [
      "C:\\Users\\IS\\Anaconda3\\lib\\site-packages\\scipy\\stats\\_distn_infrastructure.py:879: RuntimeWarning: invalid value encountered in greater\n",
      "  return (self.a < x) & (x < self.b)\n",
      "C:\\Users\\IS\\Anaconda3\\lib\\site-packages\\scipy\\stats\\_distn_infrastructure.py:879: RuntimeWarning: invalid value encountered in less\n",
      "  return (self.a < x) & (x < self.b)\n",
      "C:\\Users\\IS\\Anaconda3\\lib\\site-packages\\scipy\\stats\\_distn_infrastructure.py:1818: RuntimeWarning: invalid value encountered in less_equal\n",
      "  cond2 = cond0 & (x <= self.a)\n"
     ]
    },
    {
     "data": {
      "text/html": [
       "<div>\n",
       "<style>\n",
       "    .dataframe thead tr:only-child th {\n",
       "        text-align: right;\n",
       "    }\n",
       "\n",
       "    .dataframe thead th {\n",
       "        text-align: left;\n",
       "    }\n",
       "\n",
       "    .dataframe tbody tr th {\n",
       "        vertical-align: top;\n",
       "    }\n",
       "</style>\n",
       "<table border=\"1\" class=\"dataframe\">\n",
       "  <thead>\n",
       "    <tr style=\"text-align: right;\">\n",
       "      <th></th>\n",
       "      <th>df</th>\n",
       "      <th>sum_sq</th>\n",
       "      <th>mean_sq</th>\n",
       "      <th>F</th>\n",
       "      <th>PR(&gt;F)</th>\n",
       "    </tr>\n",
       "  </thead>\n",
       "  <tbody>\n",
       "    <tr>\n",
       "      <th>C(vendor_id)</th>\n",
       "      <td>1.0</td>\n",
       "      <td>9.116848</td>\n",
       "      <td>9.116848</td>\n",
       "      <td>34.818531</td>\n",
       "      <td>3.635683e-09</td>\n",
       "    </tr>\n",
       "    <tr>\n",
       "      <th>C(wday)</th>\n",
       "      <td>6.0</td>\n",
       "      <td>154.382685</td>\n",
       "      <td>25.730448</td>\n",
       "      <td>98.268212</td>\n",
       "      <td>1.370478e-123</td>\n",
       "    </tr>\n",
       "    <tr>\n",
       "      <th>C(pickup_hour)</th>\n",
       "      <td>23.0</td>\n",
       "      <td>341.348042</td>\n",
       "      <td>14.841219</td>\n",
       "      <td>56.680712</td>\n",
       "      <td>8.128333e-259</td>\n",
       "    </tr>\n",
       "    <tr>\n",
       "      <th>C(pickup_month)</th>\n",
       "      <td>3.0</td>\n",
       "      <td>69.859321</td>\n",
       "      <td>23.286440</td>\n",
       "      <td>88.934203</td>\n",
       "      <td>1.951178e-57</td>\n",
       "    </tr>\n",
       "    <tr>\n",
       "      <th>precipitation_y</th>\n",
       "      <td>1.0</td>\n",
       "      <td>0.552096</td>\n",
       "      <td>0.552096</td>\n",
       "      <td>2.108533</td>\n",
       "      <td>1.464842e-01</td>\n",
       "    </tr>\n",
       "    <tr>\n",
       "      <th>snow_fall_y</th>\n",
       "      <td>1.0</td>\n",
       "      <td>1.895459</td>\n",
       "      <td>1.895459</td>\n",
       "      <td>7.239024</td>\n",
       "      <td>7.135263e-03</td>\n",
       "    </tr>\n",
       "    <tr>\n",
       "      <th>passenger_count</th>\n",
       "      <td>1.0</td>\n",
       "      <td>5.028340</td>\n",
       "      <td>5.028340</td>\n",
       "      <td>19.203942</td>\n",
       "      <td>1.176408e-05</td>\n",
       "    </tr>\n",
       "    <tr>\n",
       "      <th>average_temperature_y</th>\n",
       "      <td>1.0</td>\n",
       "      <td>11.389548</td>\n",
       "      <td>11.389548</td>\n",
       "      <td>43.498293</td>\n",
       "      <td>4.273308e-11</td>\n",
       "    </tr>\n",
       "    <tr>\n",
       "      <th>distance</th>\n",
       "      <td>1.0</td>\n",
       "      <td>17108.129818</td>\n",
       "      <td>17108.129818</td>\n",
       "      <td>65338.363401</td>\n",
       "      <td>0.000000e+00</td>\n",
       "    </tr>\n",
       "    <tr>\n",
       "      <th>speed</th>\n",
       "      <td>1.0</td>\n",
       "      <td>7145.599732</td>\n",
       "      <td>7145.599732</td>\n",
       "      <td>27290.054319</td>\n",
       "      <td>0.000000e+00</td>\n",
       "    </tr>\n",
       "    <tr>\n",
       "      <th>Residual</th>\n",
       "      <td>70138.0</td>\n",
       "      <td>18364.861724</td>\n",
       "      <td>0.261839</td>\n",
       "      <td>NaN</td>\n",
       "      <td>NaN</td>\n",
       "    </tr>\n",
       "  </tbody>\n",
       "</table>\n",
       "</div>"
      ],
      "text/plain": [
       "                            df        sum_sq       mean_sq             F  \\\n",
       "C(vendor_id)               1.0      9.116848      9.116848     34.818531   \n",
       "C(wday)                    6.0    154.382685     25.730448     98.268212   \n",
       "C(pickup_hour)            23.0    341.348042     14.841219     56.680712   \n",
       "C(pickup_month)            3.0     69.859321     23.286440     88.934203   \n",
       "precipitation_y            1.0      0.552096      0.552096      2.108533   \n",
       "snow_fall_y                1.0      1.895459      1.895459      7.239024   \n",
       "passenger_count            1.0      5.028340      5.028340     19.203942   \n",
       "average_temperature_y      1.0     11.389548     11.389548     43.498293   \n",
       "distance                   1.0  17108.129818  17108.129818  65338.363401   \n",
       "speed                      1.0   7145.599732   7145.599732  27290.054319   \n",
       "Residual               70138.0  18364.861724      0.261839           NaN   \n",
       "\n",
       "                              PR(>F)  \n",
       "C(vendor_id)            3.635683e-09  \n",
       "C(wday)                1.370478e-123  \n",
       "C(pickup_hour)         8.128333e-259  \n",
       "C(pickup_month)         1.951178e-57  \n",
       "precipitation_y         1.464842e-01  \n",
       "snow_fall_y             7.135263e-03  \n",
       "passenger_count         1.176408e-05  \n",
       "average_temperature_y   4.273308e-11  \n",
       "distance                0.000000e+00  \n",
       "speed                   0.000000e+00  \n",
       "Residual                         NaN  "
      ]
     },
     "execution_count": 61,
     "metadata": {},
     "output_type": "execute_result"
    }
   ],
   "source": [
    "sm.stats.anova_lm(result)"
   ]
  },
  {
   "cell_type": "code",
   "execution_count": 62,
   "metadata": {},
   "outputs": [
    {
     "name": "stdout",
     "output_type": "stream",
     "text": [
      "TSS =  2959312.64581\n",
      "ESS =  637.110304864\n",
      "RSS =  18364.8617242\n",
      "ESS + RSS =  19001.9720291\n",
      "R squared =  0.575007123265\n"
     ]
    }
   ],
   "source": [
    "print(\"TSS = \", result.uncentered_tss)\n",
    "print(\"ESS = \", result.mse_model)\n",
    "print(\"RSS = \", result.ssr)\n",
    "print(\"ESS + RSS = \", result.mse_model + result.ssr)\n",
    "print(\"R squared = \", result.rsquared)"
   ]
  },
  {
   "cell_type": "code",
   "execution_count": 63,
   "metadata": {
    "collapsed": true
   },
   "outputs": [],
   "source": [
    "import scipy as sp"
   ]
  },
  {
   "cell_type": "code",
   "execution_count": 64,
   "metadata": {
    "scrolled": true
   },
   "outputs": [
    {
     "data": {
      "image/png": "[encoded data removed]",
      "text/plain": [
       "<matplotlib.figure.Figure at 0x212bc814c18>"
      ]
     },
     "metadata": {},
     "output_type": "display_data"
    }
   ],
   "source": [
    "sns.distplot(df.logtrip_duration, \n",
    "             kde=False, fit=sp.stats.norm, hist_kws={\"color\": \"r\", \"alpha\": 0.2}, fit_kws={\"color\": \"r\"}, \n",
    "             label=\"TSS\")\n",
    "sns.distplot(result.fittedvalues, \n",
    "             kde=False, hist_kws={\"color\": \"g\", \"alpha\": 0.2}, fit=sp.stats.norm, fit_kws={\"color\": \"g\"}, \n",
    "             label=\"ESS\")\n",
    "sns.distplot(result.resid, \n",
    "             kde=False, hist_kws={\"color\": \"b\", \"alpha\": 0.2}, fit=sp.stats.norm, fit_kws={\"color\": \"b\"}, \n",
    "             label=\"RSS\")\n",
    "plt.legend()\n",
    "plt.show()"
   ]
  }
 ],
 "metadata": {
  "kernelspec": {
   "display_name": "Python 3",
   "language": "python",
   "name": "python3"
  },
  "language_info": {
   "codemirror_mode": {
    "name": "ipython",
    "version": 3
   },
   "file_extension": ".py",
   "mimetype": "text/x-python",
   "name": "python",
   "nbconvert_exporter": "python",
   "pygments_lexer": "ipython3",
   "version": "3.6.3"
  }
 },
 "nbformat": 4,
 "nbformat_minor": 2
}
