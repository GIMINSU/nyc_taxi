{
 "cells": [
  {
   "cell_type": "markdown",
   "metadata": {},
   "source": [
    "### 1. Data Import and Base Variable 확인\n",
    "#### 1) Data Import and DataFrame\n",
    "* 데이터 분석을 위해, dataframe을 생성하는 가장 일반적인 방법\n",
    "    * notebook 파일을 생성한 폴더에 분석하고자 하는 data파일을(e.g. csv) 옮겨둔다.\n",
    "    * data를 notebook으로 import.\n",
    "    * pandas 명령어로 data를 dataframe으로 생성.\n",
    "    * *tip : github는 push 할 수 있는 파일 1개 최대 용량이 100mb이므로 csv파일을 push할 경우 error발생  \n",
    "github에 csv은 push 못하므로, csv 파일은 add 하지말고 ipynb(주피터노트북파일 확장자) 파일만 add *\n",
    "***\n",
    "* 바로 dataframe을 만들지 않는 이유\n",
    "    * df을 여러 종류 만들 가능성(dfx,dfy 등)이 있기 때문에 이를 구분하기 위함  \n",
    "    * 또한 사용된 dataframe이 어떤 주제 및 소재인지를 표시\n",
    "     ***\n",
    "    * data를 dataframe으로 직접 생성  \n",
    "    df = pd.read_csv('train.csv')  \n",
    "    ***\n",
    "    * data와 dataframe을 각각 생성  \n",
    "    아래에서 사용되는 df은 taxi와 관련된 data로 만들어진 dataframe이다.  \n",
    "    *taxi를 dataframe의 name으로는 못 씀.   이미 data를 taxi로 정의함  \n",
    "    하나의 이름을 data로 쓰는 경우와 dataframe으로 쓰는 경우를 명확하게 구분하기 위함*  \n",
    "    taxi = 'train.csv'  \n",
    "    df = pd.read_csv(taxi)\n",
    "    ***"
   ]
  },
  {
   "cell_type": "code",
   "execution_count": 1,
   "metadata": {
    "collapsed": true
   },
   "outputs": [],
   "source": [
    "import numpy as np # linear algebra\n",
    "import pandas as pd # data processing, CSV file I/O (e.g. pd.read_csv)"
   ]
  },
  {
   "cell_type": "code",
   "execution_count": 2,
   "metadata": {
    "collapsed": true
   },
   "outputs": [],
   "source": [
    "taxi = 'train.csv' # data import\n",
    "df = pd.read_csv(taxi) # dataframe 생성"
   ]
  },
  {
   "cell_type": "markdown",
   "metadata": {},
   "source": [
    "#### 2) DataFrame 구조 및 변수정보\n",
    "##### (1) data 및 dataframe\n",
    " - shape           : row, column 개수 확인\n",
    " - head(), tail()  : 데이터 확인\n",
    " - describe()      : 각 column별 간략한 통계정보 \n",
    " - info()          : 각 column별 타입 정보\n",
    " \n",
    "##### (2) 변수정보\n",
    " * id : 식별자 for each trip\n",
    " * vendor_id : 공급자 코드(a code indicating the provider associated with the trip record)\n",
    " * pickup_datetime : 탑승 날짜 및 시각(date and time when the meter was engaged)\n",
    " * dropoff_datetime : 하차 날짜 및 시각(date and time when the meter was disengaged)\n",
    " * passengers in the vehicle : 승객수(driver entered value)\n",
    " * pickup_longitude : 탑승 경도(the longitude where the meter was engaged)\n",
    " * pickup_latitude : 탑승 위도(the latitude where the meter was engaged)\n",
    " * dropoff_longitude : 하차 경도(the longitude where the meter was disengaged)\n",
    " * dropoff_latitude : 하차 위도(the latitude where the meter was disengaged)\n",
    " * store_and_fwd_flag : 차량메모리 보관여부(this flage indicates whether the trip record was held in vehicle memory before sending to the vendor because the vehicle did not have a connection to the server. Y = store and forward, N = not a store and forward trip)\n",
    " * trip_duration : duration of the trip in seconds"
   ]
  },
  {
   "cell_type": "code",
   "execution_count": 3,
   "metadata": {},
   "outputs": [
    {
     "data": {
      "text/plain": [
       "(701778, 11)"
      ]
     },
     "execution_count": 3,
     "metadata": {},
     "output_type": "execute_result"
    }
   ],
   "source": [
    "df.shape # observation 및 column(변수) 갯수 확인"
   ]
  },
  {
   "cell_type": "code",
   "execution_count": null,
   "metadata": {
    "scrolled": true
   },
   "outputs": [],
   "source": [
    "df.head() # data확인(head() 위 5개, tail() 아래 5개)"
   ]
  },
  {
   "cell_type": "code",
   "execution_count": 4,
   "metadata": {},
   "outputs": [
    {
     "data": {
      "text/html": [
       "<div>\n",
       "<style>\n",
       "    .dataframe thead tr:only-child th {\n",
       "        text-align: right;\n",
       "    }\n",
       "\n",
       "    .dataframe thead th {\n",
       "        text-align: left;\n",
       "    }\n",
       "\n",
       "    .dataframe tbody tr th {\n",
       "        vertical-align: top;\n",
       "    }\n",
       "</style>\n",
       "<table border=\"1\" class=\"dataframe\">\n",
       "  <thead>\n",
       "    <tr style=\"text-align: right;\">\n",
       "      <th></th>\n",
       "      <th>vendor_id</th>\n",
       "      <th>passenger_count</th>\n",
       "      <th>pickup_longitude</th>\n",
       "      <th>pickup_latitude</th>\n",
       "      <th>dropoff_longitude</th>\n",
       "      <th>dropoff_latitude</th>\n",
       "      <th>trip_duration</th>\n",
       "    </tr>\n",
       "  </thead>\n",
       "  <tbody>\n",
       "    <tr>\n",
       "      <th>count</th>\n",
       "      <td>701778.000000</td>\n",
       "      <td>701778.000000</td>\n",
       "      <td>701778.000000</td>\n",
       "      <td>701778.000000</td>\n",
       "      <td>701778.000000</td>\n",
       "      <td>701778.000000</td>\n",
       "      <td>7.017780e+05</td>\n",
       "    </tr>\n",
       "    <tr>\n",
       "      <th>mean</th>\n",
       "      <td>1.536037</td>\n",
       "      <td>1.666577</td>\n",
       "      <td>-73.973665</td>\n",
       "      <td>40.750969</td>\n",
       "      <td>-73.973583</td>\n",
       "      <td>40.751836</td>\n",
       "      <td>9.387318e+02</td>\n",
       "    </tr>\n",
       "    <tr>\n",
       "      <th>std</th>\n",
       "      <td>0.498700</td>\n",
       "      <td>1.319466</td>\n",
       "      <td>0.043910</td>\n",
       "      <td>0.033139</td>\n",
       "      <td>0.044214</td>\n",
       "      <td>0.037572</td>\n",
       "      <td>6.772504e+03</td>\n",
       "    </tr>\n",
       "    <tr>\n",
       "      <th>min</th>\n",
       "      <td>1.000000</td>\n",
       "      <td>0.000000</td>\n",
       "      <td>-78.547401</td>\n",
       "      <td>34.359695</td>\n",
       "      <td>-79.817978</td>\n",
       "      <td>32.181141</td>\n",
       "      <td>1.000000e+00</td>\n",
       "    </tr>\n",
       "    <tr>\n",
       "      <th>25%</th>\n",
       "      <td>1.000000</td>\n",
       "      <td>1.000000</td>\n",
       "      <td>-73.991829</td>\n",
       "      <td>40.737400</td>\n",
       "      <td>-73.991325</td>\n",
       "      <td>40.735959</td>\n",
       "      <td>3.900000e+02</td>\n",
       "    </tr>\n",
       "    <tr>\n",
       "      <th>50%</th>\n",
       "      <td>2.000000</td>\n",
       "      <td>1.000000</td>\n",
       "      <td>-73.981789</td>\n",
       "      <td>40.754150</td>\n",
       "      <td>-73.979828</td>\n",
       "      <td>40.754478</td>\n",
       "      <td>6.480000e+02</td>\n",
       "    </tr>\n",
       "    <tr>\n",
       "      <th>75%</th>\n",
       "      <td>2.000000</td>\n",
       "      <td>2.000000</td>\n",
       "      <td>-73.967567</td>\n",
       "      <td>40.768246</td>\n",
       "      <td>-73.963249</td>\n",
       "      <td>40.769691</td>\n",
       "      <td>1.047000e+03</td>\n",
       "    </tr>\n",
       "    <tr>\n",
       "      <th>max</th>\n",
       "      <td>2.000000</td>\n",
       "      <td>8.000000</td>\n",
       "      <td>-61.335529</td>\n",
       "      <td>43.486885</td>\n",
       "      <td>-61.335529</td>\n",
       "      <td>43.674000</td>\n",
       "      <td>3.526282e+06</td>\n",
       "    </tr>\n",
       "  </tbody>\n",
       "</table>\n",
       "</div>"
      ],
      "text/plain": [
       "           vendor_id  passenger_count  pickup_longitude  pickup_latitude  \\\n",
       "count  701778.000000    701778.000000     701778.000000    701778.000000   \n",
       "mean        1.536037         1.666577        -73.973665        40.750969   \n",
       "std         0.498700         1.319466          0.043910         0.033139   \n",
       "min         1.000000         0.000000        -78.547401        34.359695   \n",
       "25%         1.000000         1.000000        -73.991829        40.737400   \n",
       "50%         2.000000         1.000000        -73.981789        40.754150   \n",
       "75%         2.000000         2.000000        -73.967567        40.768246   \n",
       "max         2.000000         8.000000        -61.335529        43.486885   \n",
       "\n",
       "       dropoff_longitude  dropoff_latitude  trip_duration  \n",
       "count      701778.000000     701778.000000   7.017780e+05  \n",
       "mean          -73.973583         40.751836   9.387318e+02  \n",
       "std             0.044214          0.037572   6.772504e+03  \n",
       "min           -79.817978         32.181141   1.000000e+00  \n",
       "25%           -73.991325         40.735959   3.900000e+02  \n",
       "50%           -73.979828         40.754478   6.480000e+02  \n",
       "75%           -73.963249         40.769691   1.047000e+03  \n",
       "max           -61.335529         43.674000   3.526282e+06  "
      ]
     },
     "execution_count": 4,
     "metadata": {},
     "output_type": "execute_result"
    }
   ],
   "source": [
    "df.describe() # 변수별 기초통계량 확인(mean과 50%비교, real변수와 category변수 확인)"
   ]
  },
  {
   "cell_type": "code",
   "execution_count": 5,
   "metadata": {},
   "outputs": [
    {
     "name": "stdout",
     "output_type": "stream",
     "text": [
      "<class 'pandas.core.frame.DataFrame'>\n",
      "RangeIndex: 701778 entries, 0 to 701777\n",
      "Data columns (total 11 columns):\n",
      "id                    701778 non-null object\n",
      "vendor_id             701778 non-null int64\n",
      "pickup_datetime       701778 non-null object\n",
      "dropoff_datetime      701778 non-null object\n",
      "passenger_count       701778 non-null int64\n",
      "pickup_longitude      701778 non-null float64\n",
      "pickup_latitude       701778 non-null float64\n",
      "dropoff_longitude     701778 non-null float64\n",
      "dropoff_latitude      701778 non-null float64\n",
      "store_and_fwd_flag    701778 non-null object\n",
      "trip_duration         701778 non-null int64\n",
      "dtypes: float64(4), int64(3), object(4)\n",
      "memory usage: 58.9+ MB\n"
     ]
    }
   ],
   "source": [
    "df.info() # Variable Type 확인"
   ]
  },
  {
   "cell_type": "markdown",
   "metadata": {},
   "source": [
    "### 2. Data Pre-Processing\n",
    "#### 1) Datatime Type Vriable Modify \n",
    "\n",
    "* **Datetime Type Conversion**\n",
    "    * pickup_datetime, dropoff_datetime은 type이 datetime이어야 시간변수로 활용할 수  \n",
    "    있으나, object(=string)임\n",
    "    * 시간변수로 활용하기 위해 type을 datetime으로 바꿔줘야 함\n",
    "    * pandas의 to_datetime을 활용해 type을 datetime으로 바꿔줄 수 있음\n",
    "    * datafrme의 변수타입을 변경하는 코드는 다음과 같음\n",
    "        * 방법 1  \n",
    "        taxi_df.pickup_datetime = pd.to_datetime(taxi_df.pickup_datetime)  \n",
    "        * 방법 2  \n",
    "        taxi_df['pickup_datetime'] = pd.to_datetime(taxi_df['pickup_datetime']) \n",
    "    * dataframe에서 새로운 변수를 생성할 경우 등호(=)의 오른쪽은 df.변수명, df['변수명']  \n",
    "    둘다 상관 없으나, 새로운 변수명(왼쪽)은 df['변수명']으로 적어야 생성됨  \n",
    "    새로운 변수명(왼쪽)을 df.변수명으로 적을 경우 kernel이 작동하지만 실제로 생성은 안됨"
   ]
  },
  {
   "cell_type": "code",
   "execution_count": null,
   "metadata": {
    "collapsed": true
   },
   "outputs": [],
   "source": [
    "df.pickup_datetime.dtype # 시간변수 type 확인"
   ]
  },
  {
   "cell_type": "code",
   "execution_count": 6,
   "metadata": {},
   "outputs": [
    {
     "data": {
      "text/plain": [
       "(70178, 11)"
      ]
     },
     "execution_count": 6,
     "metadata": {},
     "output_type": "execute_result"
    }
   ],
   "source": [
    "# 컴퓨터가 느릴 경우 여기서 샘플링\n",
    "df = df.sample(frac = 0.1, replace = False, random_state = 0) # sampling\n",
    "df.shape # sampling됐는지 확인"
   ]
  },
  {
   "cell_type": "markdown",
   "metadata": {},
   "source": [
    "#### 2) Use the Pandas.Datetimeindex module\n",
    "* dataframe_name.datetime_variable_name.dt.**option**  \n",
    "**option**(year, month, day, hour, dayofyear, dayofweek 등)은 [참고링크](https://pandas.pydata.org/pandas-docs/stable/api.html#datetimeindex)에서 확인  \n",
    "    * (e.g.)dayofweek = The day of the week with Monday=0, Sunday=6\n",
    "\n",
    "***\n",
    "* 특정 변수 생성(datetime variable에서 연, 월, 일 각각 변수로 분리)  \n",
    "일 변수 : taxi_df['pickup_day'] = taxi_df.pickup_datetime.dt.day  \n",
    "* 단위 변환한 변수 생성(week 기준 몇번째 일이냐, 요일 변수 생성)  \n",
    "요일변수 : taxi_df['wday'] = taxi_df.pickup_datetime.dt.weekday"
   ]
  },
  {
   "cell_type": "code",
   "execution_count": 7,
   "metadata": {
    "collapsed": true
   },
   "outputs": [],
   "source": [
    "# 시간변수 type을 datetime type으로 변환(pandas datetimeIndex 이용)\n",
    "df.pickup_datetime = pd.to_datetime(df.pickup_datetime)\n",
    "df.dropoff_datetime = pd.to_datetime(df.dropoff_datetime)"
   ]
  },
  {
   "cell_type": "code",
   "execution_count": 8,
   "metadata": {},
   "outputs": [],
   "source": [
    "# 탄 시간, 일, 월, 연도를 카테고리 타입의 변수로 생성\n",
    "df['pickup_hour'] = df.pickup_datetime.dt.hour.astype('category')\n",
    "df['pickup_day'] = df.pickup_datetime.dt.day.astype('category')\n",
    "df['pickup_month'] = df.pickup_datetime.dt.month.astype('category')\n",
    "df['pickup_year'] = df.pickup_datetime.dt.year.astype('category')"
   ]
  },
  {
   "cell_type": "code",
   "execution_count": 9,
   "metadata": {
    "collapsed": true
   },
   "outputs": [],
   "source": [
    "# 연도, 주 기준 변수 생성\n",
    "df['yday'] = df.pickup_datetime.dt.dayofyear.astype('category')\n",
    "df['wday'] = df.pickup_datetime.dt.dayofweek.astype('category')\n",
    "df['nwday'] = df.pickup_datetime.dt.weekday_name.astype('category')"
   ]
  },
  {
   "cell_type": "code",
   "execution_count": 10,
   "metadata": {
    "collapsed": true
   },
   "outputs": [],
   "source": [
    "df.vendor_id = df.vendor_id.astype('category') # vendor_id type category"
   ]
  },
  {
   "cell_type": "code",
   "execution_count": null,
   "metadata": {
    "collapsed": true
   },
   "outputs": [],
   "source": [
    "# 참고 skip\n",
    "# pickup - dropoff의 계산을 통해 trip_duration 검증 및 pickup, dropoff, trip_duration 변수 관계 확인\n",
    "#df.trip_duration_c = df.dropoff_datetime - df.pickup_datetime\n",
    "\n",
    "# trip_duration_c는 day단위로 산출됨.\n",
    "#df.trip_duration_c = df.trip_duration_c.dt.total_seconds() # second로 단위 변환"
   ]
  },
  {
   "cell_type": "markdown",
   "metadata": {},
   "source": [
    "#### 3) Create Category Variable\n",
    "* pickup_month가 1월 ~ 4월까지 밖에 없음(kaggledata는 6월까지)\n",
    "* 1, 2, 3월은 겨울의 계절성을 반영하고, 4, 5, 6월은 봄 ~ 초여름의 계절성을 반영한다고 가정함.\n",
    "    * 사람들이 기후조건이 가혹할수록 더 택시를 오래 타고 있는다고 가정(날이 추우면 최대한 목적지에 가까운 장소까지 택시를 타고 간다.)\n",
    "    * 이 가정을 반영하기 위해서는 뉴욕의 날씨를 확인해서 비오는 날과 맑은 날, 날짜별 온도를 변수화해서 반영하는 것이 보다 정확할 것으로 생각함 \n",
    "        * 변수 2개 생성(날짜별로 비 or 눈이 왔다 0 나머지 1, 기온이 00도 이상 or 00도 이하 0, 나머지 1)해서 pickup_datetime으로 merge.\n",
    "    * 가장 rough하게 변수를 생성해서 모형을 실행한 다음 이 변수가 유의미할 경우 더 세밀하게 변수를 조정하는 것이 나을 듯함\n",
    "    \n",
    "    \n",
    "* 계절성을 반영한 분기별 카테고리 변수(pickup_month_c) 생성 1, 2, 3월은 0, 4, 5, 6월은 1의 값을 가짐."
   ]
  },
  {
   "cell_type": "code",
   "execution_count": 11,
   "metadata": {
    "collapsed": true
   },
   "outputs": [],
   "source": [
    "# 1, 2, 3월은 0, 4, 5, 6월은 1) \n",
    "df['pickup_month_c'] = df.pickup_month.replace([1, 2], '0')\n",
    "df['pickup_month_c'] = df.pickup_month_c.replace([3, 4], '1')\n",
    "\n",
    "df.pickup_month_c = df.pickup_month_c.astype('category')# type 변경(to category) 및 type 확인"
   ]
  },
  {
   "cell_type": "code",
   "execution_count": 12,
   "metadata": {
    "collapsed": true
   },
   "outputs": [],
   "source": [
    "# 월~금요일은 0, 토~일요일은 1\n",
    "df['wday_c'] = df.pickup_month.replace([0, 1, 2, 3, 4], '0')\n",
    "df['wday_c'] = df.pickup_month_c.replace([5, 6], '1')\n",
    "\n",
    "df.wday_c = df.wday_c.astype('category')# type 변경(to category) 및 type 확인"
   ]
  },
  {
   "cell_type": "code",
   "execution_count": 13,
   "metadata": {
    "collapsed": true
   },
   "outputs": [],
   "source": [
    "# 일상, 여행으로 trip종류 구분(trip_duration이 60000(16시간)이상인 경우 여행)\n",
    "\n",
    "def alert(df):\n",
    "    if df['trip_duration'] <= 60000:\n",
    "        return '0'\n",
    "    elif df['trip_duration'] > 60000:\n",
    "        return '1'\n",
    "    \n",
    "df['trip_c'] = df.apply(alert, axis=1)\n",
    "df.trip_c = df.trip_c.astype('category') # trip_c type category"
   ]
  },
  {
   "cell_type": "code",
   "execution_count": 14,
   "metadata": {
    "collapsed": true
   },
   "outputs": [],
   "source": [
    "# 그래프 패키지 import\n",
    "import matplotlib.pyplot as plt\n",
    "import seaborn as sns\n",
    "sns.set()\n",
    "sns.set_color_codes()"
   ]
  },
  {
   "cell_type": "code",
   "execution_count": 15,
   "metadata": {
    "scrolled": true
   },
   "outputs": [
    {
     "data": {
      "image/png": "[encoded data removed]",
      "text/plain": [
       "<matplotlib.figure.Figure at 0x18761b01550>"
      ]
     },
     "metadata": {},
     "output_type": "display_data"
    }
   ],
   "source": [
    "plt.scatter(df.vendor_id, df.trip_duration)\n",
    "plt.xlabel(\"vendor_id\")\n",
    "plt.ylabel(\"trip_duration\")\n",
    "plt.show()"
   ]
  },
  {
   "cell_type": "code",
   "execution_count": 16,
   "metadata": {
    "scrolled": false
   },
   "outputs": [
    {
     "data": {
      "image/png": "[encoded data removed]",
      "text/plain": [
       "<matplotlib.figure.Figure at 0x18761f1e828>"
      ]
     },
     "metadata": {},
     "output_type": "display_data"
    }
   ],
   "source": [
    "df.boxplot(\"trip_duration\", \"vendor_id\")\n",
    "plt.show()"
   ]
  },
  {
   "cell_type": "code",
   "execution_count": 17,
   "metadata": {},
   "outputs": [
    {
     "data": {
      "image/png": "[encoded data removed]",
      "text/plain": [
       "<matplotlib.figure.Figure at 0x187624f6160>"
      ]
     },
     "metadata": {},
     "output_type": "display_data"
    }
   ],
   "source": [
    "df.boxplot(\"trip_duration\", \"vendor_id\")\n",
    "plt.ylim(-10, 2500)\n",
    "plt.show()"
   ]
  },
  {
   "cell_type": "markdown",
   "metadata": {},
   "source": [
    "* *참고 : boxplot 보는 방법*\n",
    "<img src=\"boxplot-1.png\">\n",
    "* *참고 : 그래프 저장 방법*  \n",
    "from pylab import figure, axes, pie, title, savefig #savefig추가  \n",
    "savefig('boxplot.png') # graph 이미지 저장"
   ]
  },
  {
   "cell_type": "markdown",
   "metadata": {},
   "source": [
    "* *Sampling  (위에서 했으니까 skip)*\n",
    "    * 분석하거나 그래프 그릴 때 모든 데이터를 사용할 경우 수행시간이 너무 길어짐  \n",
    "이에 sample 사용"
   ]
  },
  {
   "cell_type": "code",
   "execution_count": null,
   "metadata": {
    "collapsed": true
   },
   "outputs": [],
   "source": [
    "month_group = df.groupby('pickup_month') # original data 확인을 위해 grouping"
   ]
  },
  {
   "cell_type": "code",
   "execution_count": null,
   "metadata": {
    "scrolled": true
   },
   "outputs": [],
   "source": [
    "month_group.count() # pickup_month의 variable*column별 관측치 수 확인\n",
    "\n",
    "# size함수를 통해 pickup_month의 value별 관측치 수 확인(count와 size의 차이 : size는 NaN값을 포함해서 세고, count는 NaN값을 세지 않음)\n",
    "# month_group.size().sort_values(ascending = False)"
   ]
  },
  {
   "cell_type": "code",
   "execution_count": null,
   "metadata": {
    "collapsed": true
   },
   "outputs": [],
   "source": [
    "# 위에서 했으므로 여기서는 실행 안함. 원래 여기서 시행해야 아래 표와 차이 발생\n",
    "# df = df.sample(frac = 0.1, replace = False, random_state = 0) # sampling\n",
    "# df.shape # sampling됐는지 확인"
   ]
  },
  {
   "cell_type": "code",
   "execution_count": null,
   "metadata": {
    "scrolled": true
   },
   "outputs": [],
   "source": [
    "# sample이 골고루 뽑혔는지 확인\n",
    "# month_group.count()의 output과 비교. 월별 갯수 비중 확인\n",
    "\n",
    "# pickup_month data 확인을 위해 grouping\n",
    "month_group = df.groupby('pickup_month')\n",
    "# pickup_month의 variable*column별 관측치 수 확인\n",
    "month_group.count()"
   ]
  },
  {
   "cell_type": "markdown",
   "metadata": {},
   "source": [
    "#### 4) data log 변환\n",
    "* trip_duration의 단위는 second로 log변환 가능\n",
    "* trip_duration에 +1(scaling)을 한 후 log 변환 수행  \n",
    "*original 값에 +1을 하는 이유 :\n",
    "original 값이 0인 경우 log변환하면 1이 되어버림 따라서, 모든 original 값에 1을 더함*\n",
    "* tirp_duraiont+1을 log변환 함\n",
    "* original 값과 log변환 값 비교"
   ]
  },
  {
   "cell_type": "code",
   "execution_count": 18,
   "metadata": {
    "collapsed": true
   },
   "outputs": [],
   "source": [
    "df['logtrip_duration'] = np.log(df.trip_duration + 1)"
   ]
  },
  {
   "cell_type": "code",
   "execution_count": 19,
   "metadata": {
    "scrolled": false
   },
   "outputs": [
    {
     "data": {
      "image/png": "[encoded data removed]",
      "text/plain": [
       "<matplotlib.figure.Figure at 0x1876264a978>"
      ]
     },
     "metadata": {},
     "output_type": "display_data"
    },
    {
     "data": {
      "image/png": "[encoded data removed]",
      "text/plain": [
       "<matplotlib.figure.Figure at 0x18762495630>"
      ]
     },
     "metadata": {},
     "output_type": "display_data"
    }
   ],
   "source": [
    "sns.kdeplot(df.trip_duration) # kernel density grahp (높이(x가 뽑힐 확률)는 큰 의미 없음, 넓이가 중요(넓이의 합은 1))\n",
    "plt.show()\n",
    "\n",
    "sns.kdeplot(df.logtrip_duration) # 정규분포와 더 유사한 분포가 됨\n",
    "plt.show()"
   ]
  },
  {
   "cell_type": "code",
   "execution_count": 20,
   "metadata": {
    "scrolled": false
   },
   "outputs": [
    {
     "data": {
      "image/png": "[encoded data removed]",
      "text/plain": [
       "<matplotlib.figure.Figure at 0x1876258d358>"
      ]
     },
     "metadata": {},
     "output_type": "display_data"
    }
   ],
   "source": [
    "df.boxplot(\"logtrip_duration\", \"pickup_hour\")\n",
    "plt.ylim(4, 9)\n",
    "plt.show()"
   ]
  },
  {
   "cell_type": "code",
   "execution_count": 21,
   "metadata": {},
   "outputs": [
    {
     "data": {
      "image/png": "[encoded data removed]",
      "text/plain": [
       "<matplotlib.figure.Figure at 0x187626edc88>"
      ]
     },
     "metadata": {},
     "output_type": "display_data"
    }
   ],
   "source": [
    "sns.kdeplot(df.pickup_hour) # kernel density grahp (높이(x가 뽑힐 확률)는 큰 의미 없음, 넓이가 중요(넓이의 합은 1))\n",
    "plt.show()"
   ]
  },
  {
   "cell_type": "code",
   "execution_count": 22,
   "metadata": {},
   "outputs": [
    {
     "data": {
      "image/png": "[encoded data removed]",
      "text/plain": [
       "<matplotlib.figure.Figure at 0x187625435f8>"
      ]
     },
     "metadata": {},
     "output_type": "display_data"
    }
   ],
   "source": [
    "df.boxplot(\"logtrip_duration\", \"wday\")\n",
    "plt.ylim(4, 9)\n",
    "plt.show()"
   ]
  },
  {
   "cell_type": "code",
   "execution_count": 23,
   "metadata": {
    "scrolled": true
   },
   "outputs": [
    {
     "data": {
      "image/png": "[encoded data removed]",
      "text/plain": [
       "<matplotlib.figure.Figure at 0x187615f3908>"
      ]
     },
     "metadata": {},
     "output_type": "display_data"
    }
   ],
   "source": [
    "sns.stripplot(x=\"wday\", y=\"trip_duration\", data=df, jitter=True, alpha=.3)\n",
    "sns.pointplot(x=\"wday\", y=\"trip_duration\", data=df, dodge=True, color='r')\n",
    "plt.show()"
   ]
  },
  {
   "cell_type": "code",
   "execution_count": 24,
   "metadata": {
    "scrolled": false
   },
   "outputs": [
    {
     "data": {
      "image/png": "[encoded data removed]",
      "text/plain": [
       "<matplotlib.figure.Figure at 0x187625d0668>"
      ]
     },
     "metadata": {},
     "output_type": "display_data"
    }
   ],
   "source": [
    "sns.stripplot(x=\"wday\", y=\"logtrip_duration\", data=df, jitter=True, alpha=.3)\n",
    "sns.pointplot(x=\"wday\", y=\"logtrip_duration\", data=df, dodge=True, color='r')\n",
    "plt.ylim(0, 12)\n",
    "plt.show()"
   ]
  },
  {
   "cell_type": "markdown",
   "metadata": {},
   "source": [
    "* 요일, logtrip_duration, 탑승 시각을 그래프로 확인"
   ]
  },
  {
   "cell_type": "code",
   "execution_count": 25,
   "metadata": {
    "scrolled": false
   },
   "outputs": [
    {
     "data": {
      "image/png": "[encoded data removed]",
      "text/plain": [
       "<matplotlib.figure.Figure at 0x18762765d30>"
      ]
     },
     "metadata": {},
     "output_type": "display_data"
    }
   ],
   "source": [
    "sns.stripplot(x=\"wday\", y=\"logtrip_duration\", hue = \"pickup_hour\", data = df, jitter = True)\n",
    "plt.ylim(0, 12)\n",
    "plt.legend(bbox_to_anchor=(1, 1), loc=2, borderaxespad=0.1)\n",
    "plt.show()"
   ]
  },
  {
   "cell_type": "markdown",
   "metadata": {},
   "source": [
    "#### tip : 기존 dataframe에 변수를 추가했을 때 활용할 수 있는 명령어(변수명 변경, 변수 삭제, 변수 순서 변경)\n",
    "* 변수명(column) 변경(rename)\n",
    "    * 방법1 : df = df.rename(columns = {'oldname1' : 'newname1', 'oldname2' : 'newname2'})\n",
    "    * 방법2 : df.rename(columns = {'oldname1' : 'newname1', 'oldname2' : 'newname2'}, inplace = True)\n",
    "* 잘못 생성한 변수(column) 삭제(drop)\n",
    "    * 방법1 : df = df.drop('column_name', axis = 1)  \n",
    "    *axis = 1은 dataframe의 column을 의미(0은 row)*\n",
    "    * 방법2 : df.drop('column_name', axis = 1, inplace = True)\n",
    "* 변수(column) 순서 변경(order or insert)\n",
    "    * 방법1 : df = df.[['column1', 'column2']]\n",
    "    * 방법2 : 특정자리에 특정 변수 삽입\n",
    "        * get a list of columns   \n",
    "        cols = list(df)\n",
    "        * move the column to head of list using index, pop and insert  \n",
    "        cols.insert(0, cols.pop(cols.index('column_name')))\n",
    "        * use loc to reorder(라벨을 활용할 경우 loc, 위치 index를 활용할 경우 iloc)  \n",
    "        df = df.loc[:, cols]                  "
   ]
  },
  {
   "cell_type": "code",
   "execution_count": 26,
   "metadata": {
    "collapsed": true
   },
   "outputs": [],
   "source": [
    "# 변수 순서 조정\n",
    "cols = list(df) # dataframe을 list로 type변환 -> 변수명만 포함한 리스트(cols) 생성\n",
    "cols.insert(0, cols.pop(cols.index('trip_duration'))) # 종속변수를 잘라내어(pop) cols맨 앞(index 0)에 삽입(insert)\n",
    "cols.insert(1, cols.pop(cols.index('logtrip_duration')))\n",
    "cols.insert(2, cols.pop(cols.index('pickup_month_c'))) # 독립변수1를 잘라내어(pop) index 2에 삽입(insert)\n",
    "cols.insert(3, cols.pop(cols.index('wday_c')))\n",
    "cols.insert(4, cols.pop(cols.index('vendor_id')))\n",
    "cols.insert(5, cols.pop(cols.index('pickup_day')))\n",
    "cols.insert(6, cols.pop(cols.index('pickup_hour')))\n",
    "cols.insert(7, cols.pop(cols.index('passenger_count')))\n",
    "cols.insert(8, cols.pop(cols.index('trip_c')))\n",
    "cols.insert(9, cols.pop(cols.index('pickup_month')))\n",
    "cols.insert(10, cols.pop(cols.index('wday')))\n",
    "df = df.loc[:, cols] # 행은 그대로, 열은 cols(변수명 리스트)로 다시 구성"
   ]
  },
  {
   "cell_type": "markdown",
   "metadata": {},
   "source": [
    "#### 5) Outlier 확인 및 삭제\n",
    "##### (1) Outlier를 직접 확인, 판단, 삭제\n",
    "* outlier 삭제(trip_duration이 1750000초 이상인 경우 빈도가 매우 적고 숫자가 너무 커 outlier로 판단) \n",
    "* *trip_duration이 20,000초 이상(5시간 이상)인 경우는 일반적인 상황이 아닌 것(분석 data에서 제외)으로 고려하고 분석할 수 있을 것으로 판단*  "
   ]
  },
  {
   "cell_type": "code",
   "execution_count": 27,
   "metadata": {
    "scrolled": false
   },
   "outputs": [
    {
     "data": {
      "image/png": "[encoded data removed]",
      "text/plain": [
       "<matplotlib.figure.Figure at 0x18762606cc0>"
      ]
     },
     "metadata": {},
     "output_type": "display_data"
    }
   ],
   "source": [
    "plt.scatter(df.pickup_hour, df.trip_duration)\n",
    "plt.xlabel(\"pickup_hour\")\n",
    "plt.ylabel(\"trip_duration\")\n",
    "plt.show()"
   ]
  },
  {
   "cell_type": "code",
   "execution_count": 28,
   "metadata": {},
   "outputs": [
    {
     "data": {
      "text/html": [
       "<div>\n",
       "<style>\n",
       "    .dataframe thead tr:only-child th {\n",
       "        text-align: right;\n",
       "    }\n",
       "\n",
       "    .dataframe thead th {\n",
       "        text-align: left;\n",
       "    }\n",
       "\n",
       "    .dataframe tbody tr th {\n",
       "        vertical-align: top;\n",
       "    }\n",
       "</style>\n",
       "<table border=\"1\" class=\"dataframe\">\n",
       "  <thead>\n",
       "    <tr style=\"text-align: right;\">\n",
       "      <th></th>\n",
       "      <th>trip_duration</th>\n",
       "      <th>logtrip_duration</th>\n",
       "      <th>pickup_month_c</th>\n",
       "      <th>wday_c</th>\n",
       "      <th>vendor_id</th>\n",
       "      <th>pickup_day</th>\n",
       "      <th>pickup_hour</th>\n",
       "      <th>passenger_count</th>\n",
       "      <th>trip_c</th>\n",
       "      <th>pickup_month</th>\n",
       "      <th>...</th>\n",
       "      <th>pickup_datetime</th>\n",
       "      <th>dropoff_datetime</th>\n",
       "      <th>pickup_longitude</th>\n",
       "      <th>pickup_latitude</th>\n",
       "      <th>dropoff_longitude</th>\n",
       "      <th>dropoff_latitude</th>\n",
       "      <th>store_and_fwd_flag</th>\n",
       "      <th>pickup_year</th>\n",
       "      <th>yday</th>\n",
       "      <th>nwday</th>\n",
       "    </tr>\n",
       "  </thead>\n",
       "  <tbody>\n",
       "    <tr>\n",
       "      <th>682482</th>\n",
       "      <td>1939736</td>\n",
       "      <td>14.478063</td>\n",
       "      <td>0</td>\n",
       "      <td>0</td>\n",
       "      <td>1</td>\n",
       "      <td>5</td>\n",
       "      <td>0</td>\n",
       "      <td>1</td>\n",
       "      <td>1</td>\n",
       "      <td>1</td>\n",
       "      <td>...</td>\n",
       "      <td>2016-01-05 00:19:00</td>\n",
       "      <td>2016-01-27 11:08:00</td>\n",
       "      <td>-73.78965</td>\n",
       "      <td>40.643559</td>\n",
       "      <td>-73.95681</td>\n",
       "      <td>40.773087</td>\n",
       "      <td>N</td>\n",
       "      <td>2016</td>\n",
       "      <td>5</td>\n",
       "      <td>Tuesday</td>\n",
       "    </tr>\n",
       "  </tbody>\n",
       "</table>\n",
       "<p>1 rows × 22 columns</p>\n",
       "</div>"
      ],
      "text/plain": [
       "        trip_duration  logtrip_duration pickup_month_c wday_c vendor_id  \\\n",
       "682482        1939736         14.478063              0      0         1   \n",
       "\n",
       "       pickup_day pickup_hour  passenger_count trip_c pickup_month   ...     \\\n",
       "682482          5           0                1      1            1   ...      \n",
       "\n",
       "           pickup_datetime    dropoff_datetime pickup_longitude  \\\n",
       "682482 2016-01-05 00:19:00 2016-01-27 11:08:00        -73.78965   \n",
       "\n",
       "       pickup_latitude  dropoff_longitude  dropoff_latitude  \\\n",
       "682482       40.643559          -73.95681         40.773087   \n",
       "\n",
       "        store_and_fwd_flag  pickup_year yday    nwday  \n",
       "682482                   N         2016    5  Tuesday  \n",
       "\n",
       "[1 rows x 22 columns]"
      ]
     },
     "execution_count": 28,
     "metadata": {},
     "output_type": "execute_result"
    }
   ],
   "source": [
    "# 이상치라 판단되는 data확인\n",
    "df[df.trip_duration >= 1750000]\n",
    "\n",
    "# 아래의 형식으로도 확인 가능(특정 범위)\n",
    "# df[(df.trip_duration >= 1750000) & (df.trip_duration <= 2000000)]"
   ]
  },
  {
   "cell_type": "code",
   "execution_count": 29,
   "metadata": {
    "collapsed": true
   },
   "outputs": [],
   "source": [
    "# 특정 관측치 삭제\n",
    "#df = df.drop([682482])\n",
    "#df = df.drop()(axis=0)\n",
    "\n",
    "# 특정 범위만 grab\n",
    "df = df[df.trip_duration <= 1750000]\n",
    "#df[(df.trip_duration >= 1750000) & (df.trip_duration <= 2000000)]"
   ]
  },
  {
   "cell_type": "code",
   "execution_count": 30,
   "metadata": {
    "scrolled": false
   },
   "outputs": [
    {
     "data": {
      "image/png": "[encoded data removed]",
      "text/plain": [
       "<matplotlib.figure.Figure at 0x18762355208>"
      ]
     },
     "metadata": {},
     "output_type": "display_data"
    }
   ],
   "source": [
    "# 삭제되었는지 확인\n",
    "sns.stripplot(x=\"wday\", y=\"logtrip_duration\", hue = \"pickup_hour\", data = df, jitter = True)\n",
    "plt.legend(bbox_to_anchor=(1, 1), loc=2, borderaxespad=0.1)\n",
    "plt.show()"
   ]
  },
  {
   "cell_type": "code",
   "execution_count": 31,
   "metadata": {
    "scrolled": false
   },
   "outputs": [
    {
     "data": {
      "image/png": "[encoded data removed]",
      "text/plain": [
       "<matplotlib.figure.Figure at 0x18761c942b0>"
      ]
     },
     "metadata": {},
     "output_type": "display_data"
    }
   ],
   "source": [
    "sns.stripplot(x=\"trip_c\", y=\"logtrip_duration\", hue = \"pickup_hour\", data = df, jitter = True)\n",
    "plt.ylim(0, 12)\n",
    "plt.legend(bbox_to_anchor=(1.05, 1), loc=2, borderaxespad=0.)\n",
    "plt.show()"
   ]
  },
  {
   "cell_type": "code",
   "execution_count": null,
   "metadata": {
    "collapsed": true,
    "scrolled": true
   },
   "outputs": [],
   "source": [
    "'''\n",
    "# trip_duration과 logtrip_duration의 kernel density graph\n",
    "# 아래의 sns는 너무 오래걸림\n",
    "sns.distplot(df.trip_duration, kde = True, rug = True)\n",
    "plt.show()\n",
    "sns.distplot(df.logtrip_duration, kde = True, rug = True)\n",
    "plt.show()"
   ]
  },
  {
   "cell_type": "markdown",
   "metadata": {},
   "source": [
    "##### (2) OLS분석을 통해 Outlier 확인 및 삭제\n",
    "\n",
    "* OLS를 통해 확인하는 방법\n",
    "    * ols를 통해 레버리지와 잔차를 계산하여 이를 근거로 outlier 규정"
   ]
  },
  {
   "cell_type": "code",
   "execution_count": 32,
   "metadata": {
    "scrolled": true
   },
   "outputs": [
    {
     "name": "stderr",
     "output_type": "stream",
     "text": [
      "C:\\Users\\IS\\Anaconda3\\lib\\site-packages\\statsmodels\\compat\\pandas.py:56: FutureWarning: The pandas.core.datetools module is deprecated and will be removed in a future version. Please use the pandas.tseries module instead.\n",
      "  from pandas.core import datetools\n"
     ]
    }
   ],
   "source": [
    "import statsmodels.api as sm\n",
    "import statsmodels.formula.api as smf"
   ]
  },
  {
   "cell_type": "code",
   "execution_count": 33,
   "metadata": {},
   "outputs": [
    {
     "name": "stdout",
     "output_type": "stream",
     "text": [
      "                            OLS Regression Results                            \n",
      "==============================================================================\n",
      "Dep. Variable:       logtrip_duration   R-squared:                       0.006\n",
      "Model:                            OLS   Adj. R-squared:                  0.005\n",
      "Method:                 Least Squares   F-statistic:                     35.80\n",
      "Date:                Tue, 17 Oct 2017   Prob (F-statistic):           2.13e-77\n",
      "Time:                        19:44:34   Log-Likelihood:                -82314.\n",
      "No. Observations:               70177   AIC:                         1.647e+05\n",
      "Df Residuals:                   70165   BIC:                         1.648e+05\n",
      "Df Model:                          11                                         \n",
      "Covariance Type:            nonrobust                                         \n",
      "========================================================================================\n",
      "                           coef    std err          t      P>|t|      [0.025      0.975]\n",
      "----------------------------------------------------------------------------------------\n",
      "Intercept                6.3553      0.011    588.811      0.000       6.334       6.376\n",
      "C(vendor_id)[T.2]        0.0183      0.006      2.966      0.003       0.006       0.030\n",
      "C(wday)[T.1]             0.0643      0.011      5.597      0.000       0.042       0.087\n",
      "C(wday)[T.2]             0.0754      0.011      6.596      0.000       0.053       0.098\n",
      "C(wday)[T.3]             0.0855      0.011      7.555      0.000       0.063       0.108\n",
      "C(wday)[T.4]             0.0798      0.011      7.195      0.000       0.058       0.102\n",
      "C(wday)[T.5]            -0.0062      0.011     -0.558      0.577      -0.028       0.016\n",
      "C(wday)[T.6]            -0.0421      0.012     -3.604      0.000      -0.065      -0.019\n",
      "C(pickup_month)[T.2]     0.0083      0.009      0.979      0.328      -0.008       0.025\n",
      "C(pickup_month)[T.3]     0.0273      0.008      3.246      0.001       0.011       0.044\n",
      "C(pickup_month)[T.4]     0.0820      0.008      9.716      0.000       0.065       0.099\n",
      "passenger_count          0.0073      0.002      3.103      0.002       0.003       0.012\n",
      "==============================================================================\n",
      "Omnibus:                     7071.011   Durbin-Watson:                   2.002\n",
      "Prob(Omnibus):                  0.000   Jarque-Bera (JB):            44724.508\n",
      "Skew:                          -0.272   Prob(JB):                         0.00\n",
      "Kurtosis:                       6.873   Cond. No.                         18.8\n",
      "==============================================================================\n",
      "\n",
      "Warnings:\n",
      "[1] Standard Errors assume that the covariance matrix of the errors is correctly specified.\n"
     ]
    }
   ],
   "source": [
    "model_taxi = smf.ols(formula = \"logtrip_duration ~ C(vendor_id)  + C(wday) + C(pickup_month) + passenger_count\", data = df)\n",
    "result_taxi = model_taxi.fit()\n",
    "print(result_taxi.summary())"
   ]
  },
  {
   "cell_type": "code",
   "execution_count": 72,
   "metadata": {
    "scrolled": false
   },
   "outputs": [
    {
     "name": "stdout",
     "output_type": "stream",
     "text": [
      "                            OLS Regression Results                            \n",
      "==============================================================================\n",
      "Dep. Variable:       logtrip_duration   R-squared:                       0.410\n",
      "Model:                            OLS   Adj. R-squared:                  0.409\n",
      "Method:                 Least Squares   F-statistic:                     1281.\n",
      "Date:                Tue, 17 Oct 2017   Prob (F-statistic):               0.00\n",
      "Time:                        21:17:48   Log-Likelihood:                -63998.\n",
      "No. Observations:               70174   AIC:                         1.281e+05\n",
      "Df Residuals:                   70135   BIC:                         1.284e+05\n",
      "Df Model:                          38                                         \n",
      "Covariance Type:            nonrobust                                         \n",
      "========================================================================================\n",
      "                           coef    std err          t      P>|t|      [0.025      0.975]\n",
      "----------------------------------------------------------------------------------------\n",
      "Intercept                5.7935      0.017    337.993      0.000       5.760       5.827\n",
      "C(vendor_id)[T.2]        0.0133      0.005      2.804      0.005       0.004       0.023\n",
      "C(wday)[T.1]             0.0844      0.009      9.513      0.000       0.067       0.102\n",
      "C(wday)[T.2]             0.1043      0.009     11.821      0.000       0.087       0.122\n",
      "C(wday)[T.3]             0.1049      0.009     11.921      0.000       0.088       0.122\n",
      "C(wday)[T.4]             0.1002      0.009     11.666      0.000       0.083       0.117\n",
      "C(wday)[T.5]             0.0301      0.009      3.457      0.001       0.013       0.047\n",
      "C(wday)[T.6]            -0.0609      0.009     -6.673      0.000      -0.079      -0.043\n",
      "C(pickup_hour)[T.1]     -0.0152      0.018     -0.823      0.411      -0.051       0.021\n",
      "C(pickup_hour)[T.2]     -0.0345      0.020     -1.712      0.087      -0.074       0.005\n",
      "C(pickup_hour)[T.3]     -0.0874      0.023     -3.841      0.000      -0.132      -0.043\n",
      "C(pickup_hour)[T.4]     -0.1773      0.026     -6.871      0.000      -0.228      -0.127\n",
      "C(pickup_hour)[T.5]     -0.3774      0.025    -15.181      0.000      -0.426      -0.329\n",
      "C(pickup_hour)[T.6]     -0.2848      0.020    -14.482      0.000      -0.323      -0.246\n",
      "C(pickup_hour)[T.7]     -0.0361      0.017     -2.120      0.034      -0.069      -0.003\n",
      "C(pickup_hour)[T.8]      0.1405      0.016      8.722      0.000       0.109       0.172\n",
      "C(pickup_hour)[T.9]      0.1689      0.016     10.543      0.000       0.138       0.200\n",
      "C(pickup_hour)[T.10]     0.1505      0.016      9.249      0.000       0.119       0.182\n",
      "C(pickup_hour)[T.11]     0.1962      0.016     12.149      0.000       0.165       0.228\n",
      "C(pickup_hour)[T.12]     0.1980      0.016     12.444      0.000       0.167       0.229\n",
      "C(pickup_hour)[T.13]     0.1809      0.016     11.344      0.000       0.150       0.212\n",
      "C(pickup_hour)[T.14]     0.1743      0.016     11.048      0.000       0.143       0.205\n",
      "C(pickup_hour)[T.15]     0.1881      0.016     11.815      0.000       0.157       0.219\n",
      "C(pickup_hour)[T.16]     0.1373      0.016      8.464      0.000       0.105       0.169\n",
      "C(pickup_hour)[T.17]     0.1622      0.016     10.379      0.000       0.132       0.193\n",
      "C(pickup_hour)[T.18]     0.1806      0.015     11.867      0.000       0.151       0.210\n",
      "C(pickup_hour)[T.19]     0.1050      0.015      6.919      0.000       0.075       0.135\n",
      "C(pickup_hour)[T.20]     0.0405      0.015      2.630      0.009       0.010       0.071\n",
      "C(pickup_hour)[T.21]     0.0467      0.015      3.039      0.002       0.017       0.077\n",
      "C(pickup_hour)[T.22]     0.0504      0.016      3.231      0.001       0.020       0.081\n",
      "C(pickup_hour)[T.23]     0.0194      0.016      1.206      0.228      -0.012       0.051\n",
      "C(pickup_month)[T.2]     0.0159      0.007      2.408      0.016       0.003       0.029\n",
      "C(pickup_month)[T.3]     0.0143      0.007      1.953      0.051   -4.94e-05       0.029\n",
      "C(pickup_month)[T.4]     0.0455      0.008      5.747      0.000       0.030       0.061\n",
      "precipitation            0.0058      0.010      0.556      0.578      -0.015       0.026\n",
      "snow_fall_y              0.0060      0.002      2.624      0.009       0.002       0.010\n",
      "passenger_count          0.0057      0.002      3.153      0.002       0.002       0.009\n",
      "average_temperature      0.0009      0.000      3.697      0.000       0.000       0.001\n",
      "distance                 0.1263      0.001    216.868      0.000       0.125       0.127\n",
      "==============================================================================\n",
      "Omnibus:                    17084.346   Durbin-Watson:                   1.984\n",
      "Prob(Omnibus):                  0.000   Jarque-Bera (JB):           474805.701\n",
      "Skew:                          -0.564   Prob(JB):                         0.00\n",
      "Kurtosis:                      15.693   Cond. No.                     1.22e+03\n",
      "==============================================================================\n",
      "\n",
      "Warnings:\n",
      "[1] Standard Errors assume that the covariance matrix of the errors is correctly specified.\n",
      "[2] The condition number is large, 1.22e+03. This might indicate that there are\n",
      "strong multicollinearity or other numerical problems.\n"
     ]
    }
   ],
   "source": [
    "model = smf.ols(formula = \"logtrip_duration ~ C(vendor_id)  + C(wday) + C(pickup_hour)+ precipitation + snow_fall_y + C(pickup_month) + passenger_count + average_temperature + distance\", data = df)\n",
    "result = model_taxi.fit()\n",
    "print(result.summary())"
   ]
  },
  {
   "cell_type": "code",
   "execution_count": 74,
   "metadata": {},
   "outputs": [
    {
     "name": "stdout",
     "output_type": "stream",
     "text": [
      "TSS =  2959021.09394\n",
      "ESS =  464.91388377\n",
      "RSS =  25458.9562936\n",
      "ESS + RSS =  25923.8701774\n",
      "R squared =  0.409656751965\n"
     ]
    }
   ],
   "source": [
    "print(\"TSS = \", result.uncentered_tss)\n",
    "print(\"ESS = \", result.mse_model)\n",
    "print(\"RSS = \", result.ssr)\n",
    "print(\"ESS + RSS = \", result.mse_model + result.ssr)\n",
    "print(\"R squared = \", result.rsquared)"
   ]
  },
  {
   "cell_type": "code",
   "execution_count": 77,
   "metadata": {
    "collapsed": true
   },
   "outputs": [],
   "source": [
    "import scipy as sp"
   ]
  },
  {
   "cell_type": "code",
   "execution_count": 78,
   "metadata": {},
   "outputs": [
    {
     "data": {
      "image/png": "[encoded data removed]",
      "text/plain": [
       "<matplotlib.figure.Figure at 0x18765e7e668>"
      ]
     },
     "metadata": {},
     "output_type": "display_data"
    }
   ],
   "source": [
    "sns.distplot(df.logtrip_duration, \n",
    "             kde=False, fit=sp.stats.norm, hist_kws={\"color\": \"r\", \"alpha\": 0.2}, fit_kws={\"color\": \"r\"}, \n",
    "             label=\"TSS\")\n",
    "sns.distplot(result.fittedvalues, \n",
    "             kde=False, hist_kws={\"color\": \"g\", \"alpha\": 0.2}, fit=sp.stats.norm, fit_kws={\"color\": \"g\"}, \n",
    "             label=\"ESS\")\n",
    "sns.distplot(result.resid, \n",
    "             kde=False, hist_kws={\"color\": \"b\", \"alpha\": 0.2}, fit=sp.stats.norm, fit_kws={\"color\": \"b\"}, \n",
    "             label=\"RSS\")\n",
    "plt.legend()\n",
    "plt.show()"
   ]
  },
  {
   "cell_type": "code",
   "execution_count": 73,
   "metadata": {
    "scrolled": false
   },
   "outputs": [
    {
     "name": "stderr",
     "output_type": "stream",
     "text": [
      "C:\\Users\\IS\\Anaconda3\\lib\\site-packages\\scipy\\stats\\_distn_infrastructure.py:879: RuntimeWarning: invalid value encountered in greater\n",
      "  return (self.a < x) & (x < self.b)\n",
      "C:\\Users\\IS\\Anaconda3\\lib\\site-packages\\scipy\\stats\\_distn_infrastructure.py:879: RuntimeWarning: invalid value encountered in less\n",
      "  return (self.a < x) & (x < self.b)\n",
      "C:\\Users\\IS\\Anaconda3\\lib\\site-packages\\scipy\\stats\\_distn_infrastructure.py:1818: RuntimeWarning: invalid value encountered in less_equal\n",
      "  cond2 = cond0 & (x <= self.a)\n"
     ]
    },
    {
     "data": {
      "text/html": [
       "<div>\n",
       "<style>\n",
       "    .dataframe thead tr:only-child th {\n",
       "        text-align: right;\n",
       "    }\n",
       "\n",
       "    .dataframe thead th {\n",
       "        text-align: left;\n",
       "    }\n",
       "\n",
       "    .dataframe tbody tr th {\n",
       "        vertical-align: top;\n",
       "    }\n",
       "</style>\n",
       "<table border=\"1\" class=\"dataframe\">\n",
       "  <thead>\n",
       "    <tr style=\"text-align: right;\">\n",
       "      <th></th>\n",
       "      <th>df</th>\n",
       "      <th>sum_sq</th>\n",
       "      <th>mean_sq</th>\n",
       "      <th>F</th>\n",
       "      <th>PR(&gt;F)</th>\n",
       "    </tr>\n",
       "  </thead>\n",
       "  <tbody>\n",
       "    <tr>\n",
       "      <th>C(vendor_id)</th>\n",
       "      <td>1.0</td>\n",
       "      <td>9.360419</td>\n",
       "      <td>9.360419</td>\n",
       "      <td>25.786328</td>\n",
       "      <td>3.823544e-07</td>\n",
       "    </tr>\n",
       "    <tr>\n",
       "      <th>C(wday)</th>\n",
       "      <td>6.0</td>\n",
       "      <td>154.057455</td>\n",
       "      <td>25.676242</td>\n",
       "      <td>70.733586</td>\n",
       "      <td>2.961071e-88</td>\n",
       "    </tr>\n",
       "    <tr>\n",
       "      <th>C(pickup_hour)</th>\n",
       "      <td>23.0</td>\n",
       "      <td>341.666483</td>\n",
       "      <td>14.855064</td>\n",
       "      <td>40.923121</td>\n",
       "      <td>8.140178e-183</td>\n",
       "    </tr>\n",
       "    <tr>\n",
       "      <th>C(pickup_month)</th>\n",
       "      <td>3.0</td>\n",
       "      <td>70.103602</td>\n",
       "      <td>23.367867</td>\n",
       "      <td>64.374413</td>\n",
       "      <td>1.472142e-41</td>\n",
       "    </tr>\n",
       "    <tr>\n",
       "      <th>precipitation</th>\n",
       "      <td>1.0</td>\n",
       "      <td>0.560295</td>\n",
       "      <td>0.560295</td>\n",
       "      <td>1.543515</td>\n",
       "      <td>2.140995e-01</td>\n",
       "    </tr>\n",
       "    <tr>\n",
       "      <th>snow_fall_y</th>\n",
       "      <td>1.0</td>\n",
       "      <td>1.909549</td>\n",
       "      <td>1.909549</td>\n",
       "      <td>5.260474</td>\n",
       "      <td>2.181801e-02</td>\n",
       "    </tr>\n",
       "    <tr>\n",
       "      <th>passenger_count</th>\n",
       "      <td>1.0</td>\n",
       "      <td>4.933687</td>\n",
       "      <td>4.933687</td>\n",
       "      <td>13.591449</td>\n",
       "      <td>2.273893e-04</td>\n",
       "    </tr>\n",
       "    <tr>\n",
       "      <th>average_temperature</th>\n",
       "      <td>1.0</td>\n",
       "      <td>11.697318</td>\n",
       "      <td>11.697318</td>\n",
       "      <td>32.224077</td>\n",
       "      <td>1.379183e-08</td>\n",
       "    </tr>\n",
       "    <tr>\n",
       "      <th>distance</th>\n",
       "      <td>1.0</td>\n",
       "      <td>17072.438777</td>\n",
       "      <td>17072.438777</td>\n",
       "      <td>47031.601760</td>\n",
       "      <td>0.000000e+00</td>\n",
       "    </tr>\n",
       "    <tr>\n",
       "      <th>Residual</th>\n",
       "      <td>70135.0</td>\n",
       "      <td>25458.956294</td>\n",
       "      <td>0.362999</td>\n",
       "      <td>NaN</td>\n",
       "      <td>NaN</td>\n",
       "    </tr>\n",
       "  </tbody>\n",
       "</table>\n",
       "</div>"
      ],
      "text/plain": [
       "                          df        sum_sq       mean_sq             F  \\\n",
       "C(vendor_id)             1.0      9.360419      9.360419     25.786328   \n",
       "C(wday)                  6.0    154.057455     25.676242     70.733586   \n",
       "C(pickup_hour)          23.0    341.666483     14.855064     40.923121   \n",
       "C(pickup_month)          3.0     70.103602     23.367867     64.374413   \n",
       "precipitation            1.0      0.560295      0.560295      1.543515   \n",
       "snow_fall_y              1.0      1.909549      1.909549      5.260474   \n",
       "passenger_count          1.0      4.933687      4.933687     13.591449   \n",
       "average_temperature      1.0     11.697318     11.697318     32.224077   \n",
       "distance                 1.0  17072.438777  17072.438777  47031.601760   \n",
       "Residual             70135.0  25458.956294      0.362999           NaN   \n",
       "\n",
       "                            PR(>F)  \n",
       "C(vendor_id)          3.823544e-07  \n",
       "C(wday)               2.961071e-88  \n",
       "C(pickup_hour)       8.140178e-183  \n",
       "C(pickup_month)       1.472142e-41  \n",
       "precipitation         2.140995e-01  \n",
       "snow_fall_y           2.181801e-02  \n",
       "passenger_count       2.273893e-04  \n",
       "average_temperature   1.379183e-08  \n",
       "distance              0.000000e+00  \n",
       "Residual                       NaN  "
      ]
     },
     "execution_count": 73,
     "metadata": {},
     "output_type": "execute_result"
    }
   ],
   "source": [
    "sm.stats.anova_lm(result)"
   ]
  },
  {
   "cell_type": "code",
   "execution_count": 69,
   "metadata": {
    "collapsed": true
   },
   "outputs": [],
   "source": [
    "import os"
   ]
  },
  {
   "cell_type": "code",
   "execution_count": 70,
   "metadata": {
    "collapsed": true
   },
   "outputs": [],
   "source": [
    "import xgboost as xgb"
   ]
  },
  {
   "cell_type": "code",
   "execution_count": 62,
   "metadata": {
    "collapsed": true
   },
   "outputs": [
    {
     "data": {
      "text/plain": [
       "0        0.5\n",
       "1        0.5\n",
       "2        0.5\n",
       "3        0.5\n",
       "4        0.5\n",
       "5        0.5\n",
       "6        0.5\n",
       "7        0.5\n",
       "8        0.5\n",
       "9        0.5\n",
       "10       0.5\n",
       "11       0.5\n",
       "12       0.5\n",
       "13       0.5\n",
       "14       0.5\n",
       "15       0.5\n",
       "16       0.5\n",
       "17       0.5\n",
       "18       0.5\n",
       "19       0.5\n",
       "20       0.5\n",
       "21       0.5\n",
       "22       0.5\n",
       "23       0.5\n",
       "24       0.5\n",
       "25       0.5\n",
       "26       0.5\n",
       "27       0.5\n",
       "28       0.5\n",
       "29       0.5\n",
       "        ... \n",
       "70144    0.0\n",
       "70145    0.0\n",
       "70146    0.0\n",
       "70147    0.0\n",
       "70148    0.0\n",
       "70149    0.0\n",
       "70150    0.0\n",
       "70151    0.0\n",
       "70152    0.0\n",
       "70153    0.0\n",
       "70154    0.0\n",
       "70155    0.0\n",
       "70156    0.0\n",
       "70157    0.0\n",
       "70158    0.0\n",
       "70159    0.0\n",
       "70160    0.0\n",
       "70161    0.0\n",
       "70162    0.0\n",
       "70163    0.0\n",
       "70164    0.0\n",
       "70165    0.0\n",
       "70166    0.0\n",
       "70167    0.0\n",
       "70168    0.0\n",
       "70169    0.0\n",
       "70170    0.0\n",
       "70171    0.0\n",
       "70172    0.0\n",
       "70173    0.0\n",
       "Name: snow_fall_y, Length: 70174, dtype: float64"
      ]
     },
     "execution_count": 62,
     "metadata": {},
     "output_type": "execute_result"
    }
   ],
   "source": [
    "df.snow_fall_y"
   ]
  },
  {
   "cell_type": "markdown",
   "metadata": {},
   "source": [
    "### Temp ols\n",
    "* StatsModels를 사용한 ols"
   ]
  },
  {
   "cell_type": "code",
   "execution_count": null,
   "metadata": {
    "collapsed": true
   },
   "outputs": [],
   "source": [
    "x = cols[2:3] # feature x1\n",
    "y = cols[1:2] # target list"
   ]
  },
  {
   "cell_type": "code",
   "execution_count": null,
   "metadata": {
    "collapsed": true
   },
   "outputs": [],
   "source": [
    "dfX0 = pd.DataFrame(df, columns = x) # feature dataframe 생성\n",
    "# add_constant는 y절편을 의미(모형에서 상수값), 이를 생성하지 않을경우 y절편이 0으로 고정되어 모형이 왜곡됨\n",
    "dfX = sm.add_constant(dfX0) # 값을 1로 갖는 column vector를 생성하여 X dataframe에 추가\n",
    "dfy = pd.DataFrame(df, columns = y) # feature dataframe 생성"
   ]
  },
  {
   "cell_type": "code",
   "execution_count": null,
   "metadata": {
    "collapsed": true
   },
   "outputs": [],
   "source": [
    "from patsy import dmatrix"
   ]
  },
  {
   "cell_type": "code",
   "execution_count": null,
   "metadata": {
    "collapsed": true
   },
   "outputs": [],
   "source": []
  },
  {
   "cell_type": "code",
   "execution_count": null,
   "metadata": {
    "collapsed": true
   },
   "outputs": [],
   "source": []
  },
  {
   "cell_type": "code",
   "execution_count": null,
   "metadata": {
    "scrolled": true
   },
   "outputs": [],
   "source": [
    "from scipy import stats\n",
    "df[(np.abs(stats.zscore(df)) < 3).all(axis = 1)]"
   ]
  },
  {
   "cell_type": "code",
   "execution_count": null,
   "metadata": {
    "collapsed": true
   },
   "outputs": [],
   "source": [
    "# 탄 시간, 일, 월, 연도를 카테고리 타입의 변수로 생성\n",
    "df['pickup_hour'] = df.pickup_datetime.dt.hour.astype('int')\n",
    "df['pickup_day'] = df.pickup_datetime.dt.day.astype('int')\n",
    "df['pickup_month'] = df.pickup_datetime.dt.month.astype('int')\n",
    "df['pickup_year'] = df.pickup_datetime.dt.year.astype('int')"
   ]
  },
  {
   "cell_type": "code",
   "execution_count": null,
   "metadata": {
    "collapsed": true
   },
   "outputs": [],
   "source": [
    "# 연도, 주 기준 변수 생성\n",
    "df['yday'] = df.pickup_datetime.dt.dayofyear.astype('int')\n",
    "df['wday'] = df.pickup_datetime.dt.dayofweek.astype('int')\n",
    "df['nwday'] = df.pickup_datetime.dt.weekday_name.astype('str')"
   ]
  },
  {
   "cell_type": "code",
   "execution_count": null,
   "metadata": {
    "collapsed": true
   },
   "outputs": [],
   "source": [
    "df.vendor_id = df.vendor_id.astype('category') # vendor_id type category\n",
    "df.vendor_id.dtype"
   ]
  },
  {
   "cell_type": "code",
   "execution_count": null,
   "metadata": {
    "collapsed": true
   },
   "outputs": [],
   "source": [
    "plt.scatter(df.yday, df.logtrip_duration)\n",
    "plt.show()"
   ]
  },
  {
   "cell_type": "code",
   "execution_count": null,
   "metadata": {
    "collapsed": true,
    "scrolled": true
   },
   "outputs": [],
   "source": [
    "plt.scatter(df.yday, df.trip_duration)\n",
    "plt.ylim(0, 7000)\n",
    "plt.show()"
   ]
  },
  {
   "cell_type": "code",
   "execution_count": null,
   "metadata": {
    "collapsed": true
   },
   "outputs": [],
   "source": []
  },
  {
   "cell_type": "code",
   "execution_count": null,
   "metadata": {
    "collapsed": true
   },
   "outputs": [],
   "source": [
    "model = smf.ols(formula = \"logtrip_duration ~ yday\", data = df)\n",
    "result = model.fit()\n",
    "print(result.summary())"
   ]
  },
  {
   "cell_type": "code",
   "execution_count": null,
   "metadata": {
    "collapsed": true,
    "scrolled": false
   },
   "outputs": [],
   "source": [
    "model = smf.ols(formula = \"logtrip_duration ~ C(pickup_month)\", data = df)\n",
    "result = model.fit()\n",
    "print(result.summary())"
   ]
  },
  {
   "cell_type": "code",
   "execution_count": null,
   "metadata": {
    "collapsed": true
   },
   "outputs": [],
   "source": [
    "def test_var_args(f_arg, *argv):\n",
    "    print (\"first normal arg:\", f_arg)\n",
    "    for arg in argv:\n",
    "        print (\"another arg through *argv :\", arg)\n",
    "\n",
    "test_var_args('yasoob','python','eggs','test')"
   ]
  },
  {
   "cell_type": "code",
   "execution_count": null,
   "metadata": {
    "collapsed": true
   },
   "outputs": [],
   "source": [
    "from scipy import stats\n",
    "df[(np.abs(stats.zscore(df.trip_duration)) < 3).all(axis=1)]"
   ]
  },
  {
   "cell_type": "code",
   "execution_count": null,
   "metadata": {
    "collapsed": true,
    "scrolled": true
   },
   "outputs": [],
   "source": [
    "sm.graphics.plot_leverage_resid2(result)\n",
    "plt.show()"
   ]
  },
  {
   "cell_type": "code",
   "execution_count": null,
   "metadata": {
    "collapsed": true
   },
   "outputs": [],
   "source": [
    "influence = result.get_influence()\n",
    "hat = influence.hat_matrix_diag\n",
    "\n",
    "plt.figure(figsize=(10, 2))\n",
    "plt.stem(hat)\n",
    "plt.show()"
   ]
  },
  {
   "cell_type": "code",
   "execution_count": null,
   "metadata": {
    "collapsed": true,
    "scrolled": true
   },
   "outputs": [],
   "source": [
    "print(\"hat.sum() =\", hat.sum())"
   ]
  },
  {
   "cell_type": "code",
   "execution_count": null,
   "metadata": {
    "collapsed": true
   },
   "outputs": [],
   "source": [
    "temp = sm.get_leverage_resid2(result).df\n",
    "temp.head()"
   ]
  },
  {
   "cell_type": "code",
   "execution_count": null,
   "metadata": {
    "collapsed": true
   },
   "outputs": [],
   "source": [
    "sm.graphics.plot_ccpr(result, df.wday, ax=a.empty)\n",
    "plt.show()"
   ]
  },
  {
   "cell_type": "code",
   "execution_count": null,
   "metadata": {
    "collapsed": true
   },
   "outputs": [],
   "source": [
    "ax = plt.subplot()\n",
    "plt.scatter(df.wday, df.logtrip_duration)\n",
    "sm.graphics.abline_plot(model_results=result, ax=ax)\n",
    "\n",
    "idx = hat > 0.05\n",
    "plt.scatter(df.wday[idx], df.logtrip_duration[idx], s=300, c=\"r\", alpha=0.5)\n",
    "plt.show()"
   ]
  },
  {
   "cell_type": "code",
   "execution_count": null,
   "metadata": {
    "collapsed": true
   },
   "outputs": [],
   "source": []
  },
  {
   "cell_type": "code",
   "execution_count": null,
   "metadata": {
    "collapsed": true
   },
   "outputs": [],
   "source": [
    "model_chas = sm.OLS.from_formula(\"logtrip_duration ~ C(wday)\", data=df)\n",
    "sm.stats.anova_lm(model_chas.fit())"
   ]
  },
  {
   "cell_type": "markdown",
   "metadata": {},
   "source": [
    "* time-series data outlier 확인  \n",
    "[참고사이트](https://ocefpaf.github.io/python4oceanographers/blog/2015/03/16/outlier_detection/)"
   ]
  },
  {
   "cell_type": "code",
   "execution_count": null,
   "metadata": {
    "collapsed": true
   },
   "outputs": [],
   "source": [
    "def get_median_filtered(signal, threshold=3):\n",
    "    signal = signal.copy()\n",
    "    difference = np.abs(signal - np.median(signal))\n",
    "    median_difference = np.median(difference)\n",
    "    if median_difference == 0:\n",
    "        s = 0\n",
    "    else:\n",
    "        s = difference / float(median_difference)\n",
    "    mask = s > threshold\n",
    "    signal[mask] = np.median(signal)\n",
    "    return signal"
   ]
  },
  {
   "cell_type": "code",
   "execution_count": null,
   "metadata": {
    "scrolled": true
   },
   "outputs": [],
   "source": [
    "figsize = (7, 2.75)\n",
    "kw = dict(marker='o', linestyle='none', color='r', alpha=0.3)\n",
    "\n",
    "df['trip_duration_medf'] = get_median_filtered(df.trip_duration.values, threshold=3)\n",
    "\n",
    "outlier_idx = np.where(df['trip_duration_medf'].values != df.trip_duration.values)[0]\n",
    "\n",
    "fig, ax = plt.subplots(figsize=figsize)\n",
    "df.trip_duration.plot()\n",
    "df.trip_duration[outlier_idx].plot(**kw)\n",
    "_ = ax.set_ylim(0, 100000)\n",
    "plt.show()"
   ]
  },
  {
   "cell_type": "code",
   "execution_count": null,
   "metadata": {
    "scrolled": true
   },
   "outputs": [],
   "source": [
    "df.plt.scatter('pickup_datetime1', 'trip_duration')\n",
    "plt.show()"
   ]
  },
  {
   "cell_type": "code",
   "execution_count": null,
   "metadata": {
    "scrolled": false
   },
   "outputs": [],
   "source": [
    "plt.scatter(df.pickup_datetime1, df.trip_duration)\n",
    "plt.xlabel(\"pickup\")\n",
    "plt.ylabel(\"trip_duration\")\n",
    "plt.show()"
   ]
  },
  {
   "cell_type": "markdown",
   "metadata": {},
   "source": [
    "* OLS를 통한 outlier 확인"
   ]
  },
  {
   "cell_type": "code",
   "execution_count": null,
   "metadata": {
    "collapsed": true
   },
   "outputs": [],
   "source": [
    "from sklearn.datasets import make_regression\n",
    "import statsmodels.formula.api as sm"
   ]
  },
  {
   "cell_type": "code",
   "execution_count": null,
   "metadata": {
    "collapsed": true
   },
   "outputs": [],
   "source": [
    "dfX0 = pd.DataFrame(df, columns = x) # feature dataframe 생성\n",
    "# add_constant는 y절편을 의미(모형에서 상수값), 이를 생성하지 않을경우 y절편이 0으로 고정되어 모형이 왜곡됨\n",
    "dfX = sm.add_constant(dfX0) # 값을 1로 갖는 column vector를 생성하여 X dataframe에 추가\n",
    "dfy = pd.DataFrame(df, columns = y) # feature dataframe 생성"
   ]
  },
  {
   "cell_type": "code",
   "execution_count": null,
   "metadata": {
    "collapsed": true
   },
   "outputs": [],
   "source": [
    "dfX.tail()"
   ]
  },
  {
   "cell_type": "code",
   "execution_count": null,
   "metadata": {
    "collapsed": true
   },
   "outputs": [],
   "source": [
    "from patsy import dmatrix"
   ]
  },
  {
   "cell_type": "code",
   "execution_count": null,
   "metadata": {},
   "outputs": [],
   "source": [
    "dmatrix(\"df.wday\")"
   ]
  },
  {
   "cell_type": "code",
   "execution_count": null,
   "metadata": {
    "scrolled": true
   },
   "outputs": [],
   "source": [
    "model = sm.OLS.from_formula(\"logtrip_duration ~ yday + 0\", df)\n",
    "result = model.fit()\n",
    "print(result.summary())"
   ]
  },
  {
   "cell_type": "code",
   "execution_count": null,
   "metadata": {
    "collapsed": true
   },
   "outputs": [],
   "source": [
    "influence = result.get_influence()\n",
    "hat = influence.hat_matrix_diag"
   ]
  },
  {
   "cell_type": "code",
   "execution_count": null,
   "metadata": {},
   "outputs": [],
   "source": [
    "print(\"hat.sum() =\", hat.sum())"
   ]
  },
  {
   "cell_type": "code",
   "execution_count": null,
   "metadata": {
    "collapsed": true
   },
   "outputs": [],
   "source": [
    "model = smf.OLS(dfy, dfX)\n",
    "result = model.fit()\n",
    "print(result.summary())"
   ]
  },
  {
   "cell_type": "code",
   "execution_count": null,
   "metadata": {
    "collapsed": true
   },
   "outputs": [],
   "source": [
    "influence = result.get_influence()\n",
    "hat = influence.hat_matrix_diag\n",
    "\n",
    "plt.figure(figsize=(10, 2))\n",
    "plt.stem(hat)\n",
    "plt.show()"
   ]
  },
  {
   "cell_type": "code",
   "execution_count": null,
   "metadata": {
    "collapsed": true
   },
   "outputs": [],
   "source": [
    "sm.graphics.plot_leverage_resid2(result)\n",
    "plt.show()"
   ]
  },
  {
   "cell_type": "code",
   "execution_count": null,
   "metadata": {},
   "outputs": [],
   "source": [
    "# pickup_month data histogram\n",
    "plt.hist(df.wday)\n",
    "plt.show()"
   ]
  },
  {
   "cell_type": "code",
   "execution_count": null,
   "metadata": {},
   "outputs": [],
   "source": [
    "plt.hist(df.pickup_month)\n",
    "plt.show()"
   ]
  },
  {
   "cell_type": "code",
   "execution_count": null,
   "metadata": {},
   "outputs": [],
   "source": [
    "plt.hist(x, bins=None, range=None, normed=False, weights=None, cumulative=False, bottom=None, histtype='bar', align='mid', orientation='vertical', rwidth=None, log=False, color=None, label=None, stacked=False, hold=None, data=None, **kwargs)"
   ]
  },
  {
   "cell_type": "code",
   "execution_count": null,
   "metadata": {},
   "outputs": [],
   "source": [
    "influence = result.get_influence()\n",
    "hat = influence.hat_matrix_diag\n",
    "\n",
    "plt.figure(figsize = (10, 2))\n",
    "plt.stem(hat)\n",
    "plt.show()"
   ]
  },
  {
   "cell_type": "code",
   "execution_count": null,
   "metadata": {
    "collapsed": true
   },
   "outputs": [],
   "source": [
    "plt.figure(figersize=(10, 2))\n",
    "plt.stem(result.)"
   ]
  },
  {
   "cell_type": "code",
   "execution_count": null,
   "metadata": {
    "collapsed": true
   },
   "outputs": [],
   "source": [
    "sns.rugplot(taxi_df.trip_duration)\n",
    "plt.show()"
   ]
  },
  {
   "cell_type": "code",
   "execution_count": null,
   "metadata": {
    "collapsed": true
   },
   "outputs": [],
   "source": []
  },
  {
   "cell_type": "code",
   "execution_count": null,
   "metadata": {
    "collapsed": true
   },
   "outputs": [],
   "source": [
    "sns.kdeplot(taxi_df.trip_duration)\n",
    "plt.show()"
   ]
  },
  {
   "cell_type": "code",
   "execution_count": null,
   "metadata": {
    "collapsed": true
   },
   "outputs": [],
   "source": [
    "sns.distplot(taxi_df.trip_duration, kde = True)\n",
    "plt.show()"
   ]
  },
  {
   "cell_type": "code",
   "execution_count": null,
   "metadata": {},
   "outputs": [],
   "source": [
    "newdf = df.copy()\n",
    "trip_duration = newdf.groupby('trip_duration')\n",
    "newdf[np.abs(newdf.trip_duration - newdf.trip_duration.mean()) <= (3 * newdf.trip_duration.std())]\n",
    "newdf['outlier'] = trip_duration.transform(lambda x: abs(x - x.mean()) > 1.96 * x.std())"
   ]
  },
  {
   "cell_type": "code",
   "execution_count": null,
   "metadata": {
    "collapsed": true
   },
   "outputs": [],
   "source": [
    "newdf"
   ]
  },
  {
   "cell_type": "code",
   "execution_count": null,
   "metadata": {
    "collapsed": true
   },
   "outputs": [],
   "source": [
    "plt.scatter(taxi_df.vendor_id, taxi_df.trip_duration)"
   ]
  },
  {
   "cell_type": "code",
   "execution_count": null,
   "metadata": {
    "collapsed": true
   },
   "outputs": [],
   "source": [
    "# vendor_id와 trip_duration간 scatter graph \n",
    "plt.scatter(len(taxi_df.vendor_id), taxi_df.trip_duration)"
   ]
  },
  {
   "cell_type": "code",
   "execution_count": null,
   "metadata": {
    "collapsed": true
   },
   "outputs": [],
   "source": [
    "plt.scatter(taxi_df.vendor_id, taxi_df.trip_duration)\n",
    "plt.ylim(1930000, 1950000)"
   ]
  },
  {
   "cell_type": "code",
   "execution_count": null,
   "metadata": {
    "collapsed": true
   },
   "outputs": [],
   "source": [
    "plt.scatter(taxi_df.vendor_id, taxi_df.trip_duration)\n",
    "plt.ylim(0, 150000)"
   ]
  },
  {
   "cell_type": "code",
   "execution_count": null,
   "metadata": {
    "collapsed": true
   },
   "outputs": [],
   "source": [
    "plt.scatter(taxi_df.pickup_latitude, taxi_df.pickup_longitude, s = taxi_df.trip_duration)"
   ]
  },
  {
   "cell_type": "code",
   "execution_count": null,
   "metadata": {
    "collapsed": true
   },
   "outputs": [],
   "source": [
    "mpl.rcParams['agg.path.chunksize'] = 10000"
   ]
  },
  {
   "cell_type": "code",
   "execution_count": null,
   "metadata": {
    "collapsed": true
   },
   "outputs": [],
   "source": []
  },
  {
   "cell_type": "code",
   "execution_count": null,
   "metadata": {
    "collapsed": true
   },
   "outputs": [],
   "source": [
    "# pickup_month data 확인을 위해 grouping\n",
    "month_group = df.groupby('pickup_month')"
   ]
  },
  {
   "cell_type": "code",
   "execution_count": null,
   "metadata": {
    "collapsed": true
   },
   "outputs": [],
   "source": [
    "# pickup_month의 value*column별 관측치 수 확인\n",
    "month_group.count()"
   ]
  },
  {
   "cell_type": "code",
   "execution_count": null,
   "metadata": {
    "collapsed": true,
    "scrolled": false
   },
   "outputs": [],
   "source": [
    "# size함수를 통해 pickup_month의 value별 관측치 수 확인(count와 size의 차이 : size는 NaN값을 포함해서 세고, count는 NaN값을 세지 않음)\n",
    "month_group.size().sort_values(ascending = False)"
   ]
  },
  {
   "cell_type": "code",
   "execution_count": null,
   "metadata": {},
   "outputs": [],
   "source": [
    "df.head()"
   ]
  },
  {
   "cell_type": "markdown",
   "metadata": {},
   "source": [
    "* 2016년 뉴욕 날씨 데이터를 입력하여 yday를 기준변수로 활용하여 기존 data frame에 merge함"
   ]
  },
  {
   "cell_type": "code",
   "execution_count": 34,
   "metadata": {
    "collapsed": true
   },
   "outputs": [],
   "source": [
    "# 2016년 뉴욕 날씨 데이터 입력\n",
    "wdf = pd.read_csv('weather_data_nyc_centralpark_2016.csv')"
   ]
  },
  {
   "cell_type": "code",
   "execution_count": 35,
   "metadata": {
    "collapsed": true
   },
   "outputs": [],
   "source": [
    "wdf['date'] = pd.to_datetime(wdf.date,format='%d-%m-%Y')\n",
    "wdf['yday'] = wdf.date.dt.dayofyear\n",
    "# wdf['wday'] = wdf.date.dt.dayofweek\n",
    "# wday변수는 wdf에서 안만들어도 될 것 같아서 만들지 않음\n",
    "# merge하는데 필요한 기준 변수는 1개면 충분하다고 판단함"
   ]
  },
  {
   "cell_type": "code",
   "execution_count": 41,
   "metadata": {},
   "outputs": [
    {
     "data": {
      "text/html": [
       "<div>\n",
       "<style>\n",
       "    .dataframe thead tr:only-child th {\n",
       "        text-align: right;\n",
       "    }\n",
       "\n",
       "    .dataframe thead th {\n",
       "        text-align: left;\n",
       "    }\n",
       "\n",
       "    .dataframe tbody tr th {\n",
       "        vertical-align: top;\n",
       "    }\n",
       "</style>\n",
       "<table border=\"1\" class=\"dataframe\">\n",
       "  <thead>\n",
       "    <tr style=\"text-align: right;\">\n",
       "      <th></th>\n",
       "      <th>date</th>\n",
       "      <th>maximum temperature</th>\n",
       "      <th>minimum temperature</th>\n",
       "      <th>average temperature</th>\n",
       "      <th>precipitation</th>\n",
       "      <th>snow fall</th>\n",
       "      <th>snow depth</th>\n",
       "      <th>yday</th>\n",
       "    </tr>\n",
       "  </thead>\n",
       "  <tbody>\n",
       "    <tr>\n",
       "      <th>0</th>\n",
       "      <td>2016-01-01</td>\n",
       "      <td>42</td>\n",
       "      <td>34</td>\n",
       "      <td>38.0</td>\n",
       "      <td>0.0</td>\n",
       "      <td>0.0</td>\n",
       "      <td>0</td>\n",
       "      <td>1</td>\n",
       "    </tr>\n",
       "    <tr>\n",
       "      <th>1</th>\n",
       "      <td>2016-01-02</td>\n",
       "      <td>40</td>\n",
       "      <td>32</td>\n",
       "      <td>36.0</td>\n",
       "      <td>0.0</td>\n",
       "      <td>0.0</td>\n",
       "      <td>0</td>\n",
       "      <td>2</td>\n",
       "    </tr>\n",
       "    <tr>\n",
       "      <th>2</th>\n",
       "      <td>2016-01-03</td>\n",
       "      <td>45</td>\n",
       "      <td>35</td>\n",
       "      <td>40.0</td>\n",
       "      <td>0.0</td>\n",
       "      <td>0.0</td>\n",
       "      <td>0</td>\n",
       "      <td>3</td>\n",
       "    </tr>\n",
       "    <tr>\n",
       "      <th>3</th>\n",
       "      <td>2016-01-04</td>\n",
       "      <td>36</td>\n",
       "      <td>14</td>\n",
       "      <td>25.0</td>\n",
       "      <td>0.0</td>\n",
       "      <td>0.0</td>\n",
       "      <td>0</td>\n",
       "      <td>4</td>\n",
       "    </tr>\n",
       "    <tr>\n",
       "      <th>4</th>\n",
       "      <td>2016-01-05</td>\n",
       "      <td>29</td>\n",
       "      <td>11</td>\n",
       "      <td>20.0</td>\n",
       "      <td>0.0</td>\n",
       "      <td>0.0</td>\n",
       "      <td>0</td>\n",
       "      <td>5</td>\n",
       "    </tr>\n",
       "    <tr>\n",
       "      <th>5</th>\n",
       "      <td>2016-01-06</td>\n",
       "      <td>41</td>\n",
       "      <td>25</td>\n",
       "      <td>33.0</td>\n",
       "      <td>0.0</td>\n",
       "      <td>0.0</td>\n",
       "      <td>0</td>\n",
       "      <td>6</td>\n",
       "    </tr>\n",
       "    <tr>\n",
       "      <th>6</th>\n",
       "      <td>2016-01-07</td>\n",
       "      <td>46</td>\n",
       "      <td>31</td>\n",
       "      <td>38.5</td>\n",
       "      <td>0.0</td>\n",
       "      <td>0.0</td>\n",
       "      <td>0</td>\n",
       "      <td>7</td>\n",
       "    </tr>\n",
       "    <tr>\n",
       "      <th>7</th>\n",
       "      <td>2016-01-08</td>\n",
       "      <td>46</td>\n",
       "      <td>31</td>\n",
       "      <td>38.5</td>\n",
       "      <td>0.0</td>\n",
       "      <td>0.0</td>\n",
       "      <td>0</td>\n",
       "      <td>8</td>\n",
       "    </tr>\n",
       "    <tr>\n",
       "      <th>8</th>\n",
       "      <td>2016-01-09</td>\n",
       "      <td>47</td>\n",
       "      <td>40</td>\n",
       "      <td>43.5</td>\n",
       "      <td>0.0</td>\n",
       "      <td>0.0</td>\n",
       "      <td>0</td>\n",
       "      <td>9</td>\n",
       "    </tr>\n",
       "    <tr>\n",
       "      <th>9</th>\n",
       "      <td>2016-01-10</td>\n",
       "      <td>59</td>\n",
       "      <td>40</td>\n",
       "      <td>49.5</td>\n",
       "      <td>1.8</td>\n",
       "      <td>0.0</td>\n",
       "      <td>0</td>\n",
       "      <td>10</td>\n",
       "    </tr>\n",
       "  </tbody>\n",
       "</table>\n",
       "</div>"
      ],
      "text/plain": [
       "        date  maximum temperature  minimum temperature  average temperature  \\\n",
       "0 2016-01-01                   42                   34                 38.0   \n",
       "1 2016-01-02                   40                   32                 36.0   \n",
       "2 2016-01-03                   45                   35                 40.0   \n",
       "3 2016-01-04                   36                   14                 25.0   \n",
       "4 2016-01-05                   29                   11                 20.0   \n",
       "5 2016-01-06                   41                   25                 33.0   \n",
       "6 2016-01-07                   46                   31                 38.5   \n",
       "7 2016-01-08                   46                   31                 38.5   \n",
       "8 2016-01-09                   47                   40                 43.5   \n",
       "9 2016-01-10                   59                   40                 49.5   \n",
       "\n",
       "   precipitation  snow fall snow depth  yday  \n",
       "0            0.0        0.0          0     1  \n",
       "1            0.0        0.0          0     2  \n",
       "2            0.0        0.0          0     3  \n",
       "3            0.0        0.0          0     4  \n",
       "4            0.0        0.0          0     5  \n",
       "5            0.0        0.0          0     6  \n",
       "6            0.0        0.0          0     7  \n",
       "7            0.0        0.0          0     8  \n",
       "8            0.0        0.0          0     9  \n",
       "9            1.8        0.0          0    10  "
      ]
     },
     "execution_count": 41,
     "metadata": {},
     "output_type": "execute_result"
    }
   ],
   "source": [
    "# data확인결과 pricipitation 등의 변수에 숫자가 아닌 T가 있음\n",
    "wdf.head(10)\n",
    "# T는 측정되지 않았으나 비가왔던 흔적을 의미함\n",
    "#\"T\" stands for \"trace\", used when precipitation has been detected, but it isn't sufficient to measure meaningfully."
   ]
  },
  {
   "cell_type": "code",
   "execution_count": 57,
   "metadata": {
    "collapsed": true
   },
   "outputs": [],
   "source": [
    "# T를 아주 작은 수로 바꿔줌(여기서는 0.01로 변경)\n",
    "falls = [ 0 if c=='T' else float(c) for c in wdf['snow fall']]\n",
    "rain = [ 0 if c=='T' else float(c) for c in wdf['precipitation']]\n",
    "wdf['snow_fall']= falls\n",
    "wdf['precipitation'] = rain\n",
    "wdf = wdf.rename(columns = {'average temperature' : 'average_temperature'})"
   ]
  },
  {
   "cell_type": "code",
   "execution_count": 58,
   "metadata": {},
   "outputs": [
    {
     "data": {
      "text/html": [
       "<div>\n",
       "<style>\n",
       "    .dataframe thead tr:only-child th {\n",
       "        text-align: right;\n",
       "    }\n",
       "\n",
       "    .dataframe thead th {\n",
       "        text-align: left;\n",
       "    }\n",
       "\n",
       "    .dataframe tbody tr th {\n",
       "        vertical-align: top;\n",
       "    }\n",
       "</style>\n",
       "<table border=\"1\" class=\"dataframe\">\n",
       "  <thead>\n",
       "    <tr style=\"text-align: right;\">\n",
       "      <th></th>\n",
       "      <th>trip_duration</th>\n",
       "      <th>logtrip_duration</th>\n",
       "      <th>pickup_month_c</th>\n",
       "      <th>wday_c</th>\n",
       "      <th>vendor_id</th>\n",
       "      <th>pickup_day</th>\n",
       "      <th>pickup_hour</th>\n",
       "      <th>passenger_count</th>\n",
       "      <th>trip_c</th>\n",
       "      <th>pickup_month</th>\n",
       "      <th>...</th>\n",
       "      <th>average temperature_y</th>\n",
       "      <th>precipitation_y</th>\n",
       "      <th>snow fall_y</th>\n",
       "      <th>snow depth_y</th>\n",
       "      <th>snow_fall_x</th>\n",
       "      <th>average_temperature</th>\n",
       "      <th>precipitation</th>\n",
       "      <th>snow fall</th>\n",
       "      <th>snow depth</th>\n",
       "      <th>snow_fall_y</th>\n",
       "    </tr>\n",
       "  </thead>\n",
       "  <tbody>\n",
       "    <tr>\n",
       "      <th>0</th>\n",
       "      <td>1000</td>\n",
       "      <td>6.908755</td>\n",
       "      <td>1</td>\n",
       "      <td>1</td>\n",
       "      <td>1</td>\n",
       "      <td>21</td>\n",
       "      <td>14</td>\n",
       "      <td>1</td>\n",
       "      <td>0</td>\n",
       "      <td>3</td>\n",
       "      <td>...</td>\n",
       "      <td>41.0</td>\n",
       "      <td>0.06</td>\n",
       "      <td>0.5</td>\n",
       "      <td>T</td>\n",
       "      <td>0.5</td>\n",
       "      <td>41.0</td>\n",
       "      <td>0.06</td>\n",
       "      <td>0.5</td>\n",
       "      <td>T</td>\n",
       "      <td>0.5</td>\n",
       "    </tr>\n",
       "    <tr>\n",
       "      <th>1</th>\n",
       "      <td>1014</td>\n",
       "      <td>6.922644</td>\n",
       "      <td>1</td>\n",
       "      <td>1</td>\n",
       "      <td>1</td>\n",
       "      <td>21</td>\n",
       "      <td>12</td>\n",
       "      <td>1</td>\n",
       "      <td>0</td>\n",
       "      <td>3</td>\n",
       "      <td>...</td>\n",
       "      <td>41.0</td>\n",
       "      <td>0.06</td>\n",
       "      <td>0.5</td>\n",
       "      <td>T</td>\n",
       "      <td>0.5</td>\n",
       "      <td>41.0</td>\n",
       "      <td>0.06</td>\n",
       "      <td>0.5</td>\n",
       "      <td>T</td>\n",
       "      <td>0.5</td>\n",
       "    </tr>\n",
       "    <tr>\n",
       "      <th>2</th>\n",
       "      <td>3949</td>\n",
       "      <td>8.281471</td>\n",
       "      <td>1</td>\n",
       "      <td>1</td>\n",
       "      <td>1</td>\n",
       "      <td>21</td>\n",
       "      <td>16</td>\n",
       "      <td>1</td>\n",
       "      <td>0</td>\n",
       "      <td>3</td>\n",
       "      <td>...</td>\n",
       "      <td>41.0</td>\n",
       "      <td>0.06</td>\n",
       "      <td>0.5</td>\n",
       "      <td>T</td>\n",
       "      <td>0.5</td>\n",
       "      <td>41.0</td>\n",
       "      <td>0.06</td>\n",
       "      <td>0.5</td>\n",
       "      <td>T</td>\n",
       "      <td>0.5</td>\n",
       "    </tr>\n",
       "    <tr>\n",
       "      <th>3</th>\n",
       "      <td>251</td>\n",
       "      <td>5.529429</td>\n",
       "      <td>1</td>\n",
       "      <td>1</td>\n",
       "      <td>1</td>\n",
       "      <td>21</td>\n",
       "      <td>15</td>\n",
       "      <td>1</td>\n",
       "      <td>0</td>\n",
       "      <td>3</td>\n",
       "      <td>...</td>\n",
       "      <td>41.0</td>\n",
       "      <td>0.06</td>\n",
       "      <td>0.5</td>\n",
       "      <td>T</td>\n",
       "      <td>0.5</td>\n",
       "      <td>41.0</td>\n",
       "      <td>0.06</td>\n",
       "      <td>0.5</td>\n",
       "      <td>T</td>\n",
       "      <td>0.5</td>\n",
       "    </tr>\n",
       "    <tr>\n",
       "      <th>4</th>\n",
       "      <td>844</td>\n",
       "      <td>6.739337</td>\n",
       "      <td>1</td>\n",
       "      <td>1</td>\n",
       "      <td>2</td>\n",
       "      <td>21</td>\n",
       "      <td>17</td>\n",
       "      <td>1</td>\n",
       "      <td>0</td>\n",
       "      <td>3</td>\n",
       "      <td>...</td>\n",
       "      <td>41.0</td>\n",
       "      <td>0.06</td>\n",
       "      <td>0.5</td>\n",
       "      <td>T</td>\n",
       "      <td>0.5</td>\n",
       "      <td>41.0</td>\n",
       "      <td>0.06</td>\n",
       "      <td>0.5</td>\n",
       "      <td>T</td>\n",
       "      <td>0.5</td>\n",
       "    </tr>\n",
       "  </tbody>\n",
       "</table>\n",
       "<p>5 rows × 45 columns</p>\n",
       "</div>"
      ],
      "text/plain": [
       "   trip_duration  logtrip_duration pickup_month_c wday_c vendor_id pickup_day  \\\n",
       "0           1000          6.908755              1      1         1         21   \n",
       "1           1014          6.922644              1      1         1         21   \n",
       "2           3949          8.281471              1      1         1         21   \n",
       "3            251          5.529429              1      1         1         21   \n",
       "4            844          6.739337              1      1         2         21   \n",
       "\n",
       "  pickup_hour  passenger_count trip_c pickup_month     ...      \\\n",
       "0          14                1      0            3     ...       \n",
       "1          12                1      0            3     ...       \n",
       "2          16                1      0            3     ...       \n",
       "3          15                1      0            3     ...       \n",
       "4          17                1      0            3     ...       \n",
       "\n",
       "  average temperature_y precipitation_y snow fall_y snow depth_y  snow_fall_x  \\\n",
       "0                  41.0            0.06         0.5            T          0.5   \n",
       "1                  41.0            0.06         0.5            T          0.5   \n",
       "2                  41.0            0.06         0.5            T          0.5   \n",
       "3                  41.0            0.06         0.5            T          0.5   \n",
       "4                  41.0            0.06         0.5            T          0.5   \n",
       "\n",
       "   average_temperature  precipitation  snow fall snow depth snow_fall_y  \n",
       "0                 41.0           0.06        0.5          T         0.5  \n",
       "1                 41.0           0.06        0.5          T         0.5  \n",
       "2                 41.0           0.06        0.5          T         0.5  \n",
       "3                 41.0           0.06        0.5          T         0.5  \n",
       "4                 41.0           0.06        0.5          T         0.5  \n",
       "\n",
       "[5 rows x 45 columns]"
      ]
     },
     "execution_count": 58,
     "metadata": {},
     "output_type": "execute_result"
    }
   ],
   "source": [
    "# 'yday' 변수를 기준변수로 taxi_df에 wdf를 merge함\n",
    "# (yday를 기준으로 taxi_df에 wdf의 data를 가로로 붙인다.)\n",
    "df = pd.merge(df,wdf,on='yday')\n",
    "df\n",
    "\n",
    "# 필요없는 변수 삭제(maximum과 minimum은 같은 지역으로 다 같기 때문에 삭제)\n",
    "df = df.drop(['date','maximum temperature','minimum temperature'], axis=1)\n",
    "df.head()"
   ]
  },
  {
   "cell_type": "code",
   "execution_count": 53,
   "metadata": {},
   "outputs": [
    {
     "ename": "SyntaxError",
     "evalue": "invalid syntax (<ipython-input-53-f7a7e7366643>, line 1)",
     "output_type": "error",
     "traceback": [
      "\u001b[1;36m  File \u001b[1;32m\"<ipython-input-53-f7a7e7366643>\"\u001b[1;36m, line \u001b[1;32m1\u001b[0m\n\u001b[1;33m    df.snow fall.head()\u001b[0m\n\u001b[1;37m               ^\u001b[0m\n\u001b[1;31mSyntaxError\u001b[0m\u001b[1;31m:\u001b[0m invalid syntax\n"
     ]
    }
   ],
   "source": [
    "df.snow fall.head()"
   ]
  },
  {
   "cell_type": "markdown",
   "metadata": {},
   "source": [
    " ##### (2) 공간변수(or 지도정보, 위치정보) 사용 \n",
    "  * 지도정보(위치정보)를 활용하기 위해서는 folium(포리움)함수를 사용해야 함"
   ]
  },
  {
   "cell_type": "code",
   "execution_count": 42,
   "metadata": {
    "collapsed": true
   },
   "outputs": [],
   "source": [
    "def haversine_np(lon1, lat1, lon2, lat2):\n",
    "    \"\"\"\n",
    "    Calculate the great circle distance between two points\n",
    "    on the earth (specified in decimal degrees)\n",
    "\n",
    "    All args must be of equal length.    \n",
    "\n",
    "    \"\"\"\n",
    "    lon1, lat1, lon2, lat2 = map(np.radians, [lon1, lat1, lon2, lat2])\n",
    "\n",
    "    dlon = lon2 - lon1\n",
    "    dlat = lat2 - lat1\n",
    "\n",
    "    a = np.sin(dlat/2.0)**2 + np.cos(lat1) * np.cos(lat2) * np.sin(dlon/2.0)**2\n",
    "\n",
    "    c = 2 * np.arcsin(np.sqrt(a))\n",
    "    km = 6367 * c\n",
    "    return km"
   ]
  },
  {
   "cell_type": "code",
   "execution_count": 43,
   "metadata": {
    "collapsed": true
   },
   "outputs": [],
   "source": [
    "df['distance'] = haversine_np(df.pickup_longitude, df.pickup_latitude,\n",
    "                                           df.dropoff_longitude, df.dropoff_latitude)"
   ]
  },
  {
   "cell_type": "code",
   "execution_count": 50,
   "metadata": {
    "scrolled": true
   },
   "outputs": [
    {
     "data": {
      "image/png": "[encoded data removed]",
      "text/plain": [
       "<matplotlib.figure.Figure at 0x187622db128>"
      ]
     },
     "metadata": {},
     "output_type": "display_data"
    }
   ],
   "source": [
    "import seaborn as sns\n",
    "#sns.set(style=\"ticks\")\n",
    "sel = df[['distance','passenger_count']]\n",
    "sns.barplot(x='passenger_count',y='distance',data=sel)\n",
    "#sns.despine(offset=10, trim=True)\n",
    "plt.show()"
   ]
  },
  {
   "cell_type": "code",
   "execution_count": 47,
   "metadata": {},
   "outputs": [
    {
     "data": {
      "text/html": [
       "<div>\n",
       "<style>\n",
       "    .dataframe thead tr:only-child th {\n",
       "        text-align: right;\n",
       "    }\n",
       "\n",
       "    .dataframe thead th {\n",
       "        text-align: left;\n",
       "    }\n",
       "\n",
       "    .dataframe tbody tr th {\n",
       "        vertical-align: top;\n",
       "    }\n",
       "</style>\n",
       "<table border=\"1\" class=\"dataframe\">\n",
       "  <thead>\n",
       "    <tr style=\"text-align: right;\">\n",
       "      <th></th>\n",
       "      <th>trip_duration</th>\n",
       "      <th>logtrip_duration</th>\n",
       "      <th>pickup_month_c</th>\n",
       "      <th>wday_c</th>\n",
       "      <th>vendor_id</th>\n",
       "      <th>pickup_day</th>\n",
       "      <th>pickup_hour</th>\n",
       "      <th>passenger_count</th>\n",
       "      <th>trip_c</th>\n",
       "      <th>pickup_month</th>\n",
       "      <th>...</th>\n",
       "      <th>snow depth_x</th>\n",
       "      <th>average temperature_y</th>\n",
       "      <th>precipitation_y</th>\n",
       "      <th>snow fall_y</th>\n",
       "      <th>snow depth_y</th>\n",
       "      <th>average temperature</th>\n",
       "      <th>precipitation</th>\n",
       "      <th>snow fall</th>\n",
       "      <th>snow depth</th>\n",
       "      <th>distance</th>\n",
       "    </tr>\n",
       "  </thead>\n",
       "  <tbody>\n",
       "    <tr>\n",
       "      <th>848</th>\n",
       "      <td>2251</td>\n",
       "      <td>7.719574</td>\n",
       "      <td>0</td>\n",
       "      <td>0</td>\n",
       "      <td>1</td>\n",
       "      <td>4</td>\n",
       "      <td>12</td>\n",
       "      <td>0</td>\n",
       "      <td>0</td>\n",
       "      <td>1</td>\n",
       "      <td>...</td>\n",
       "      <td>0</td>\n",
       "      <td>25.0</td>\n",
       "      <td>0.00</td>\n",
       "      <td>0.0</td>\n",
       "      <td>0</td>\n",
       "      <td>25.0</td>\n",
       "      <td>0.00</td>\n",
       "      <td>0.0</td>\n",
       "      <td>0</td>\n",
       "      <td>12.950165</td>\n",
       "    </tr>\n",
       "    <tr>\n",
       "      <th>59361</th>\n",
       "      <td>15</td>\n",
       "      <td>2.772589</td>\n",
       "      <td>0</td>\n",
       "      <td>0</td>\n",
       "      <td>2</td>\n",
       "      <td>5</td>\n",
       "      <td>18</td>\n",
       "      <td>0</td>\n",
       "      <td>0</td>\n",
       "      <td>1</td>\n",
       "      <td>...</td>\n",
       "      <td>0</td>\n",
       "      <td>20.0</td>\n",
       "      <td>0.00</td>\n",
       "      <td>0.0</td>\n",
       "      <td>0</td>\n",
       "      <td>20.0</td>\n",
       "      <td>0.00</td>\n",
       "      <td>0.0</td>\n",
       "      <td>0</td>\n",
       "      <td>0.005934</td>\n",
       "    </tr>\n",
       "    <tr>\n",
       "      <th>64357</th>\n",
       "      <td>45</td>\n",
       "      <td>3.828641</td>\n",
       "      <td>0</td>\n",
       "      <td>0</td>\n",
       "      <td>1</td>\n",
       "      <td>1</td>\n",
       "      <td>0</td>\n",
       "      <td>0</td>\n",
       "      <td>0</td>\n",
       "      <td>2</td>\n",
       "      <td>...</td>\n",
       "      <td>2</td>\n",
       "      <td>51.5</td>\n",
       "      <td>0.01</td>\n",
       "      <td>0.0</td>\n",
       "      <td>2</td>\n",
       "      <td>51.5</td>\n",
       "      <td>0.01</td>\n",
       "      <td>0.0</td>\n",
       "      <td>2</td>\n",
       "      <td>0.000000</td>\n",
       "    </tr>\n",
       "  </tbody>\n",
       "</table>\n",
       "<p>3 rows × 35 columns</p>\n",
       "</div>"
      ],
      "text/plain": [
       "       trip_duration  logtrip_duration pickup_month_c wday_c vendor_id  \\\n",
       "848             2251          7.719574              0      0         1   \n",
       "59361             15          2.772589              0      0         2   \n",
       "64357             45          3.828641              0      0         1   \n",
       "\n",
       "      pickup_day pickup_hour  passenger_count trip_c pickup_month    ...      \\\n",
       "848            4          12                0      0            1    ...       \n",
       "59361          5          18                0      0            1    ...       \n",
       "64357          1           0                0      0            2    ...       \n",
       "\n",
       "      snow depth_x average temperature_y precipitation_y snow fall_y  \\\n",
       "848              0                  25.0            0.00         0.0   \n",
       "59361            0                  20.0            0.00         0.0   \n",
       "64357            2                  51.5            0.01         0.0   \n",
       "\n",
       "       snow depth_y  average temperature  precipitation  snow fall snow depth  \\\n",
       "848               0                 25.0           0.00        0.0          0   \n",
       "59361             0                 20.0           0.00        0.0          0   \n",
       "64357             2                 51.5           0.01        0.0          2   \n",
       "\n",
       "        distance  \n",
       "848    12.950165  \n",
       "59361   0.005934  \n",
       "64357   0.000000  \n",
       "\n",
       "[3 rows x 35 columns]"
      ]
     },
     "execution_count": 47,
     "metadata": {},
     "output_type": "execute_result"
    }
   ],
   "source": [
    "# 이상치라 판단되는 data확인\n",
    "df[df.passenger_count == 0]\n",
    "\n",
    "# 아래의 형식으로도 확인 가능(특정 범위)\n",
    "# df[(df.trip_duration >= 1750000) & (df.trip_duration <= 2000000)]"
   ]
  },
  {
   "cell_type": "code",
   "execution_count": 48,
   "metadata": {
    "collapsed": true
   },
   "outputs": [],
   "source": [
    "# 특정 관측치 삭제\n",
    "df = df.drop([848])\n",
    "df = df.drop([59361])\n",
    "df = df.drop([64357])\n",
    "#df = df.drop()(axis=0)\n",
    "\n",
    "# 특정 범위만 grab\n",
    "#df = df[df.trip_duration <= 1750000]\n",
    "#df[(df.trip_duration >= 1750000) & (df.trip_duration <= 2000000)]"
   ]
  },
  {
   "cell_type": "code",
   "execution_count": 49,
   "metadata": {
    "scrolled": false
   },
   "outputs": [
    {
     "data": {
      "image/png": "[encoded data removed]",
      "text/plain": [
       "<matplotlib.figure.Figure at 0x18763baf8d0>"
      ]
     },
     "metadata": {},
     "output_type": "display_data"
    }
   ],
   "source": [
    "# 삭제되었는지 확인\n",
    "sns.stripplot(x=\"passenger_count\", y=\"logtrip_duration\", hue = \"pickup_hour\", data = df, jitter = True)\n",
    "plt.legend(bbox_to_anchor=(1, 1), loc=2, borderaxespad=0.1)\n",
    "plt.show()"
   ]
  },
  {
   "cell_type": "code",
   "execution_count": null,
   "metadata": {
    "collapsed": true
   },
   "outputs": [],
   "source": []
  },
  {
   "cell_type": "code",
   "execution_count": null,
   "metadata": {
    "collapsed": true
   },
   "outputs": [],
   "source": []
  },
  {
   "cell_type": "code",
   "execution_count": null,
   "metadata": {
    "collapsed": true
   },
   "outputs": [],
   "source": []
  },
  {
   "cell_type": "code",
   "execution_count": null,
   "metadata": {
    "collapsed": true
   },
   "outputs": [],
   "source": [
    "# Read in the airports data.\n",
    "pickup = pd.read_csv(\"train.csv\", dtype=str)"
   ]
  },
  {
   "cell_type": "code",
   "execution_count": null,
   "metadata": {
    "collapsed": true
   },
   "outputs": [],
   "source": [
    "pickup.head()"
   ]
  },
  {
   "cell_type": "code",
   "execution_count": null,
   "metadata": {
    "collapsed": true
   },
   "outputs": [],
   "source": [
    "import folium\n",
    "\n",
    "# Get a basic world map.\n",
    "taxi_map = folium.Map(location=[30, 0], zoom_start=2)\n",
    "# Draw markers on the map.\n",
    "for name, row in airports.iterrows():\n",
    "    # For some reason, this one airport causes issues with the map.\n",
    "    if row[\"vendor_id\"] != \"South Pole Station\":\n",
    "        taxi_map.circle_marker(location=[row[\"latitude\"], row[\"longitude\"]], popup=row[\"name\"])\n",
    "# Create and show the map.\n",
    "airports_map.create_map('airports.html')\n",
    "airports_map"
   ]
  },
  {
   "cell_type": "code",
   "execution_count": null,
   "metadata": {
    "collapsed": true
   },
   "outputs": [],
   "source": [
    "# Read in the airlines data.\n",
    "pickup = pd.read_csv(\"airlines.csv\", header=None, dtype=str)\n",
    "airlines.columns = [\"id\", \"name\", \"alias\", \"iata\", \"icao\", \"callsign\", \"country\", \"active\"]"
   ]
  },
  {
   "cell_type": "code",
   "execution_count": null,
   "metadata": {
    "collapsed": true
   },
   "outputs": [],
   "source": [
    "# Read in the airports data.\n",
    "pickup = pandas.read_csv(\"train.csv\", dtype=str)\n",
    "\n",
    "# Read in the airlines data.\n",
    "airlines = pandas.read_csv(\"airlines.csv\", header=None, dtype=str)\n",
    "airlines.columns = [\"id\", \"name\", \"alias\", \"iata\", \"icao\", \"callsign\", \"country\", \"active\"]\n",
    "# Read in the routes data.\n",
    "routes = pandas.read_csv(\"routes.csv\", header=None, dtype=str)\n",
    "routes.columns = [\"airline\", \"airline_id\", \"source\", \"source_id\", \"dest\", \"dest_id\", \"codeshare\", \"stops\", \"equipment\"]"
   ]
  },
  {
   "cell_type": "code",
   "execution_count": null,
   "metadata": {
    "collapsed": true
   },
   "outputs": [],
   "source": [
    "location_df = pd.DataFrame(columns = ['pickup_latitude','pickup_longitude'])\n",
    "\n",
    "ctr = 0\n",
    "for place in query_result.places:\n",
    "    for key, item in place.geo_location.items():\n",
    "        df.loc[ctr, key] = item\n",
    "    ctr += 1"
   ]
  },
  {
   "cell_type": "code",
   "execution_count": null,
   "metadata": {
    "collapsed": true
   },
   "outputs": [],
   "source": [
    "taxi_df['pickup_locations'] = taxi_df['pickup_latitude', 'pickup_longitude']"
   ]
  },
  {
   "cell_type": "markdown",
   "metadata": {
    "collapsed": true
   },
   "source": [
    "### 3. Data Analysis\n",
    "#### 1) 변수간 상관관계 분석\n",
    "* (temp) 독립변수(ex.pickup_month_c)와 종속변수(ex.trip_duration)의 상관관계 확인\n",
    "* 상관계수 해석\n",
    "    * +값은 비례, -값은 반비례를 의미\n",
    "    * 상관계수의 크기에 따른 해석은 관행적으로 이뤄지는 것으로, 이론적 근거는 없음\n",
    "        * 1.0 ~ 0.7 매우 강한 관련성\n",
    "        * 0.7 ~ 0.4 상당한 관련성\n",
    "        * 0.4 ~ 0.2 약간의 관련성\n",
    "        * 0.2 ~ 0.0 관련성 없음"
   ]
  },
  {
   "cell_type": "code",
   "execution_count": null,
   "metadata": {},
   "outputs": [],
   "source": [
    "# 설명변수 type이 int나 float와 같은 real변수일 경우\n",
    "df[['trip_duration','passenger_count']].corr()"
   ]
  },
  {
   "cell_type": "code",
   "execution_count": null,
   "metadata": {
    "scrolled": true
   },
   "outputs": [],
   "source": [
    "# category변수일 경우(p-value를 소수점 2자리로 나오게 하는 방법 필요할 듯)\n",
    "from scipy.stats import spearmanr, kendalltau, pearsonr\n",
    "spearmanr(df['logtrip_duration'], df['pickup_hour'])"
   ]
  },
  {
   "cell_type": "code",
   "execution_count": null,
   "metadata": {
    "collapsed": true
   },
   "outputs": [],
   "source": []
  },
  {
   "cell_type": "code",
   "execution_count": null,
   "metadata": {
    "collapsed": true
   },
   "outputs": [],
   "source": []
  },
  {
   "cell_type": "code",
   "execution_count": null,
   "metadata": {
    "collapsed": true
   },
   "outputs": [],
   "source": []
  },
  {
   "cell_type": "code",
   "execution_count": null,
   "metadata": {
    "collapsed": true
   },
   "outputs": [],
   "source": []
  },
  {
   "cell_type": "code",
   "execution_count": null,
   "metadata": {
    "collapsed": true
   },
   "outputs": [],
   "source": []
  },
  {
   "cell_type": "code",
   "execution_count": null,
   "metadata": {},
   "outputs": [],
   "source": [
    "#correlation 확인\n",
    "df['logtrip_duration'].corr(df['pickup_month'])"
   ]
  },
  {
   "cell_type": "code",
   "execution_count": null,
   "metadata": {},
   "outputs": [],
   "source": [
    "#correlation 확인\n",
    "df['logtrip_duration'].corr(df['wday'])"
   ]
  },
  {
   "cell_type": "code",
   "execution_count": null,
   "metadata": {},
   "outputs": [],
   "source": [
    "#correlation 확인\n",
    "df['logtrip_duration'].corr(df['wday'])"
   ]
  },
  {
   "cell_type": "code",
   "execution_count": null,
   "metadata": {},
   "outputs": [],
   "source": [
    "df.corr()"
   ]
  },
  {
   "cell_type": "code",
   "execution_count": null,
   "metadata": {
    "scrolled": true
   },
   "outputs": [],
   "source": [
    "df.values"
   ]
  },
  {
   "cell_type": "code",
   "execution_count": null,
   "metadata": {},
   "outputs": [],
   "source": [
    "df.head()"
   ]
  },
  {
   "cell_type": "code",
   "execution_count": null,
   "metadata": {
    "collapsed": true
   },
   "outputs": [],
   "source": [
    "taxi_df['pickup_month'].value_counts()"
   ]
  },
  {
   "cell_type": "code",
   "execution_count": null,
   "metadata": {
    "collapsed": true
   },
   "outputs": [],
   "source": [
    "pickup_date_group = taxi_df.groupby(lambda pickup_datetime : pickup_datetime.split(' ')[0])\n",
    "pickup_date_group.head()"
   ]
  },
  {
   "cell_type": "code",
   "execution_count": null,
   "metadata": {
    "collapsed": true
   },
   "outputs": [],
   "source": []
  },
  {
   "cell_type": "code",
   "execution_count": null,
   "metadata": {
    "collapsed": true
   },
   "outputs": [],
   "source": [
    "taxi_df.reset_index(inplace=True)"
   ]
  },
  {
   "cell_type": "code",
   "execution_count": null,
   "metadata": {
    "collapsed": true,
    "scrolled": true
   },
   "outputs": [],
   "source": [
    "taxi_df.head()"
   ]
  },
  {
   "cell_type": "code",
   "execution_count": null,
   "metadata": {
    "collapsed": true
   },
   "outputs": [],
   "source": [
    "taxi_df.shape"
   ]
  },
  {
   "cell_type": "code",
   "execution_count": null,
   "metadata": {
    "collapsed": true
   },
   "outputs": [],
   "source": [
    "taxi_df.head()"
   ]
  },
  {
   "cell_type": "code",
   "execution_count": null,
   "metadata": {
    "collapsed": true
   },
   "outputs": [],
   "source": [
    "taxi_df.describe()"
   ]
  },
  {
   "cell_type": "code",
   "execution_count": null,
   "metadata": {
    "collapsed": true
   },
   "outputs": [],
   "source": [
    "taxi_df.info()"
   ]
  },
  {
   "cell_type": "code",
   "execution_count": null,
   "metadata": {},
   "outputs": [],
   "source": [
    "dfy = df.ix[:,1:2]\n",
    "dfX = df.ix[:,2:9]\n",
    "print(len(dfy.columns), len(dfX.columns))"
   ]
  },
  {
   "cell_type": "code",
   "execution_count": null,
   "metadata": {
    "scrolled": true
   },
   "outputs": [],
   "source": [
    "dfy.tail()"
   ]
  },
  {
   "cell_type": "code",
   "execution_count": null,
   "metadata": {
    "scrolled": true
   },
   "outputs": [],
   "source": [
    "dfX.tail()"
   ]
  },
  {
   "cell_type": "code",
   "execution_count": null,
   "metadata": {},
   "outputs": [],
   "source": [
    "df.head()"
   ]
  },
  {
   "cell_type": "code",
   "execution_count": null,
   "metadata": {
    "collapsed": true
   },
   "outputs": [],
   "source": [
    "cols_real = ['passenger_count']"
   ]
  },
  {
   "cell_type": "code",
   "execution_count": null,
   "metadata": {
    "collapsed": true
   },
   "outputs": [],
   "source": [
    "cols_cat = ['vendor_id', 'pickup_month', 'wday', 'pickup_hour', 'category_trip']"
   ]
  },
  {
   "cell_type": "code",
   "execution_count": null,
   "metadata": {},
   "outputs": [],
   "source": [
    "dfX_real = dfX[cols_real]\n",
    "print(len(dfX_real.columns))\n",
    "dfX_real.tail()"
   ]
  },
  {
   "cell_type": "code",
   "execution_count": null,
   "metadata": {},
   "outputs": [],
   "source": [
    "dfX_cat = dfX[cols_cat]\n",
    "print(len(dfX_cat.columns))\n",
    "dfX_cat.tail()"
   ]
  },
  {
   "cell_type": "code",
   "execution_count": null,
   "metadata": {},
   "outputs": [],
   "source": [
    "print(plt.style.available)"
   ]
  },
  {
   "cell_type": "code",
   "execution_count": null,
   "metadata": {},
   "outputs": [],
   "source": [
    "for i in range(0, len(cols_real), 4):\n",
    "    print(\"dfX{}\".format(cols_real[i: i+4]))"
   ]
  },
  {
   "cell_type": "code",
   "execution_count": null,
   "metadata": {
    "collapsed": true
   },
   "outputs": [],
   "source": [
    "sns.barplot(x=\"pickup_datetime\", y=\"trip_duration\", data=df)"
   ]
  },
  {
   "cell_type": "code",
   "execution_count": null,
   "metadata": {
    "collapsed": true
   },
   "outputs": [],
   "source": []
  },
  {
   "cell_type": "code",
   "execution_count": null,
   "metadata": {
    "collapsed": true
   },
   "outputs": [],
   "source": []
  },
  {
   "cell_type": "code",
   "execution_count": null,
   "metadata": {
    "collapsed": true
   },
   "outputs": [],
   "source": []
  },
  {
   "cell_type": "markdown",
   "metadata": {},
   "source": [
    "##### (참고) datetime variable 조정\n",
    "* pandas의 datetimeIndex로 datetime변수를 만들면 보통 시간(초(second) 단위)까지 생성됨\n",
    "* datetime변수가 날짜만 필요할 때 활용\n",
    "    1. old_datetime variable을 str type으로 변경\n",
    "    1. 필요한 단위까지 slicing해서 new_datetime 변수 생성\n",
    "    1. datetime type으로 변경\n",
    "***\n",
    "* time-series graph 그릴때 datetime 변수를 index로 설정\n",
    "\n",
    "    * datetime 변수를 index로 설정  \n",
    "df = df.set_index('datetime_variable')\n",
    "\n",
    "    * index 초기화(index로 사용되던 변수를 column으로 보내고, 다시 본래 index)  \n",
    "df = df.reset_index() # index reset"
   ]
  },
  {
   "cell_type": "code",
   "execution_count": null,
   "metadata": {
    "collapsed": true,
    "scrolled": true
   },
   "outputs": [],
   "source": [
    "'''\n",
    "# pickuptime variable을 일까지의 단위로 조정\n",
    "\n",
    "df.pickup_datetime = df.pickup_datetime.astype(str)\n",
    "df['pickup_datetime1'] = df.pickup_datetime.str[:7] # 시간까지만 pickup_datetime\n",
    "df.pickup_datetime1 = pd.to_datetime(df.pickup_datetime1)\n",
    "'''"
   ]
  },
  {
   "cell_type": "code",
   "execution_count": null,
   "metadata": {
    "collapsed": true
   },
   "outputs": [],
   "source": [
    "df = df.set_index('pickup_datetime1') # pickup_datetime1을 index로 설정"
   ]
  },
  {
   "cell_type": "code",
   "execution_count": null,
   "metadata": {
    "collapsed": true
   },
   "outputs": [],
   "source": [
    "df = df.reset_index() # index reset"
   ]
  },
  {
   "cell_type": "markdown",
   "metadata": {},
   "source": [
    "##### 참고 : Pandas의 DatetimeIndex와 Python의 Datetime Package는 다름\n",
    "\n",
    "> Python의 Datetime을 활용해 단위를 변경하는 명령어는 week와 관련된 명령어(weekday(), isoweekday()) 밖에 없음  \n",
    "year와 month등을 기준(ex.1년 365일 중 4월 30일이 몇 번째 날)으로 datatime type 변수의 단위를 변경하기 위해서는 timetuple이나 strftime를 적용하여 사용하는 방법이 따로 적혀있음.   \n",
    "그런데 dt.dayofyear, dayofweek, dayofmonth 등의 명령어가 실행이 됨.\n",
    "[google 검색 결과](https://stackoverflow.com/questions/15707532/python-import-datetime-v-s-from-datetime-import-datetime)에서 import datetime as dt한 것을 보고 dt를 python의 datetime package로 오해함.  \n",
    "그러나 참고한 자료에서는 import datetime 자체를 하지 않음.  \n",
    "dt는 python의 datetime를 의미할 수도 있지만 여기서는 아닌 pandas의 **DatetimeIndex**를 의미함  \n",
    "\n",
    "####### (2) Use the Datetime Package\n",
    "* **Datatime Package를 이용해 연, 월, 일 변수 생성  **\n",
    "    * datatime package 설치 : import datetime\n",
    "    * df['option 기준 변수명'] = df['datetime_type_variable_name'].datetime.option  \n",
    "        * option(year, month, day, houre, minut, second 등)\n",
    "            * dataframe_name['시간 기준 변수명'] = dataframe_name['기존변수명'].datetime.hour  \n",
    "            * dataframe_name['연 기준 변수명'] = dataframe_name['기존변수명'].datetime.year\n",
    "        * option에 따라 변수값의 기준이 달라짐  \n",
    "    MINYEAR <= year <= MAXYEAR,  \n",
    "    1 <= month <= 12,  \n",
    "    1 <= day <= number of days in the given month and year,  \n",
    "    0 <= hour < 24,  \n",
    "    0 <= minute < 60,  \n",
    "    0 <= second < 60,  \n",
    "    0 <= microsecond < 1000000,  \n",
    "    fold in [0, 1].  \n",
    "---\n",
    "* **Datetime Package의 timetuple 또는 strftime module을 활용한 단위 변경  **\n",
    "> *패키지(Packages)는 도트(.)를 이용하여 파이썬 모듈을 계층적(디렉터리 구조)으로 관리할 수 있게 해준다. 예를 들어 모듈명이 A.B인 경우 A는 패키지명이 되고 B는 A 패키지의 B 모듈이 된다.  *\n",
    "\n",
    "\n",
    "\n",
    "    * datetime package만을 활용한 단위 변경\n",
    "        * week 기준 day 산출(7일 중 몇 번째 일(요일을 알 수 있음))  \n",
    "            * df['week 단위 변수명'] = df['기존변수명'].dt.weekday   \n",
    "            df['week 단위 변수명'] = df['기존변수명'].dt.isoweekday  \n",
    "            df['week 단위 변수명'] = df['기존변수명'].dt.weekday_name \n",
    "> weekday : monday == 0 ... sunday == 6  \n",
    "            isoweekday : monday == 1 ... sunday == 7   \n",
    "            weekday_name : monday == monday ... sunday == sunday  \n",
    "        * year 기준 day 산출(해당년 첫번째날(1월 1일) == 1을 기준으로 1년 중 몇 번째 일인지 알 수 있음)  \n",
    "       > df['year 단위 변수명'] = df['기존변수명'].dt.dayofyear   \n",
    " \n",
    "        * month 기준 day 산출(해당월 첫번째 날 == 1을 기준으로 해당 월 중 몇 번째 일인지 알 수 있음)  \n",
    "       > df['month 단위 변수명'] = df['기존변수명'].dt.dayofmonth  \n",
    "        * dayofweek도 실행됨\n",
    "---\n",
    "* 참고\n",
    "    * timetuple 활용\n",
    "        * df['new_variable'] = df['datetime_variable'].dt.timetuple(option)\n",
    "        * option : d.year, d.month, d.day, d.hour, d.minute, d.second, d.weekday(), yday, dst  \n",
    "    MINYEAR <= year <= MAXYEAR  \n",
    "    1 <= month <= 12  \n",
    "    1 <= day <= number of days in the given month and year \n",
    "    * strftime 활용\n",
    "        * df['new_variable'] = df['datetime_variable'].dt.strftime('%j')  \n",
    "        %j는 c언어로 day of the year as a zero-padded decimal number를 의미함  \n",
    "        pandas datetimeindex의 dayofyear와 같음"
   ]
  },
  {
   "cell_type": "code",
   "execution_count": null,
   "metadata": {
    "collapsed": true
   },
   "outputs": [],
   "source": [
    "import datetime\n",
    "taxi_df['temp'] = taxi_df['pickup_datetime'].dt.strftime('%j')"
   ]
  },
  {
   "cell_type": "markdown",
   "metadata": {},
   "source": [
    "* ols 참고 더미변수 중 기준 바꾸기"
   ]
  },
  {
   "cell_type": "code",
   "execution_count": null,
   "metadata": {},
   "outputs": [],
   "source": [
    "model_taxi = smf.ols(formula = \"logtrip_duration ~ C(vendor_id)  + C(wday) + passenger_count + C(pickup_month, Treatment(reference=2))\", data = df)\n",
    "result_taxi = model_taxi.fit()\n",
    "print(result_taxi.summary())"
   ]
  }
 ],
 "metadata": {
  "kernelspec": {
   "display_name": "Python 3",
   "language": "python",
   "name": "python3"
  },
  "language_info": {
   "codemirror_mode": {
    "name": "ipython",
    "version": 3
   },
   "file_extension": ".py",
   "mimetype": "text/x-python",
   "name": "python",
   "nbconvert_exporter": "python",
   "pygments_lexer": "ipython3",
   "version": "3.6.2"
  }
 },
 "nbformat": 4,
 "nbformat_minor": 2
}
